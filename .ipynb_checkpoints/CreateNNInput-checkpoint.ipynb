{
 "cells": [
  {
   "cell_type": "markdown",
   "id": "15ebc57f-dc88-4fee-b522-1ab3e75955d7",
   "metadata": {},
   "source": [
    "# importing packages"
   ]
  },
  {
   "cell_type": "code",
   "execution_count": 1,
   "id": "d966e0b6-440f-492a-985a-1a2ee774cd0b",
   "metadata": {},
   "outputs": [],
   "source": [
    "import xarray as xr\n",
    "import numpy as np\n",
    "import matplotlib.pyplot as plt\n",
    "import os\n",
    "import re\n",
    "from sklearn.model_selection import train_test_split\n",
    "from tqdm import tqdm\n",
    "\n",
    "np.random.seed(2022)"
   ]
  },
  {
   "cell_type": "markdown",
   "id": "52ddf26d-7e65-4df1-a7d7-b4df98a22792",
   "metadata": {},
   "source": [
    "# relhum conversion functions"
   ]
  },
  {
   "cell_type": "code",
   "execution_count": 2,
   "id": "58a08c34-4203-4b7e-9f72-6ee3c6de3fe9",
   "metadata": {},
   "outputs": [],
   "source": [
    "def eliq(T):\n",
    "    a_liq = np.float32(np.array([-0.976195544e-15,-0.952447341e-13,\\\n",
    "                                 0.640689451e-10,\\\n",
    "                      0.206739458e-7,0.302950461e-5,0.264847430e-3,\\\n",
    "                      0.142986287e-1,0.443987641,6.11239921]));\n",
    "    c_liq = np.float32(-80.0)\n",
    "    T0 = np.float32(273.16)\n",
    "    return np.float32(100.0)*np.polyval(a_liq,np.maximum(c_liq,T-T0))\n",
    "\n",
    "# def eiceOriginal(T):\n",
    "#     a_ice = np.float32(np.array([0.252751365e-14,0.146898966e-11,0.385852041e-9,\\\n",
    "#                       0.602588177e-7,0.615021634e-5,0.420895665e-3,\\\n",
    "#                       0.188439774e-1,0.503160820,6.11147274]));\n",
    "#     c_ice = np.float32(np.array([273.15,185,-100,0.00763685,0.000151069,7.48215e-07]))\n",
    "#     T0 = np.float32(273.16)\n",
    "#     return np.transpose(np.where(T>c_ice[0],eliq(T),\\\n",
    "#                    np.transpose(np.where(T<=c_ice[1],np.float32(100.0)*(c_ice[3]+np.maximum(c_ice[2],T-T0)*\\\n",
    "#                    (c_ice[4]+np.maximum(c_ice[2],T-T0)*c_ice[5])),\\\n",
    "#                            np.float32(100.0)*np.polyval(a_ice,T-T0)))))\n",
    "\n",
    "def eice(T):\n",
    "    a_ice = np.float32(np.array([0.252751365e-14,0.146898966e-11,0.385852041e-9,\\\n",
    "                      0.602588177e-7,0.615021634e-5,0.420895665e-3,\\\n",
    "                      0.188439774e-1,0.503160820,6.11147274]));\n",
    "    c_ice = np.float32(np.array([273.15,185,-100,0.00763685,0.000151069,7.48215e-07]))\n",
    "    T0 = np.float32(273.16)\n",
    "    return np.where(T>c_ice[0],eliq(T),\\\n",
    "                   np.where(T<=c_ice[1],np.float32(100.0)*(c_ice[3]+np.maximum(c_ice[2],T-T0)*\\\n",
    "                   (c_ice[4]+np.maximum(c_ice[2],T-T0)*c_ice[5])),\\\n",
    "                           np.float32(100.0)*np.polyval(a_ice,T-T0)))\n",
    "\n",
    "# def esatOriginal(T):\n",
    "#     T0 = np.float32(273.16)\n",
    "#     T00 = np.float32(253.16)\n",
    "#     omtmp = (T-T00)/(T0-T00)\n",
    "#     omega = np.maximum(np.float32(0.0),np.minimum(np.float32(1.0),omtmp))\n",
    "#     return np.transpose(np.where(T>T0,eliq(T),np.transpose(np.where(T<T00,eice(T),(omega*eliq(T)+(1-omega)*eice(T))))))\n",
    "\n",
    "def esat(T):\n",
    "    T0 = np.float32(273.16)\n",
    "    T00 = np.float32(253.16)\n",
    "    omtmp = (T-T00)/(T0-T00)\n",
    "    omega = np.maximum(np.float32(0.0),np.minimum(np.float32(1.0),omtmp))\n",
    "    return np.where(T>T0,eliq(T),np.where(T<T00,eice(T),(omega*eliq(T)+(1-omega)*eice(T))))\n",
    "\n",
    "# def qv(T,RH,P0,PS,hyam,hybm):\n",
    "\n",
    "#     R = np.float32(287.0)\n",
    "#     Rv = np.float32(461.0)\n",
    "#     p = P0 * hyam + PS[:, None] * hybm # Total pressure (Pa)\n",
    "\n",
    "#     T = np.float32(T)\n",
    "#     RH = np.float32(RH)\n",
    "#     p = np.float32(p)\n",
    "\n",
    "#     return R*esat(T)*RH/(Rv*p)\n",
    "    # DEBUG 1\n",
    "    # return esat(T)\n",
    "\n",
    "def RH(T,qv,P0,PS,hyam,hybm):\n",
    "    R = np.float32(287.0)\n",
    "    Rv = np.float32(461.0)\n",
    "    p = P0 * hyam + PS[:, None] * hybm # Total pressure (Pa)\n",
    "    \n",
    "    T = np.float32(T)\n",
    "    qv = np.float32(qv)\n",
    "    p = np.float32(p)\n",
    "    \n",
    "    return Rv*p*qv/(R*esat(T))"
   ]
  },
  {
   "cell_type": "markdown",
   "id": "f97a600d-245a-4016-b25f-3c6495c0973c",
   "metadata": {},
   "source": [
    "# data processing functions"
   ]
  },
  {
   "cell_type": "code",
   "execution_count": 8,
   "id": "545f3bc4-43a9-46d2-88d5-0b29433905a2",
   "metadata": {},
   "outputs": [],
   "source": [
    "def doMonth(month):\n",
    "    datasets = !ls\n",
    "    n = str(month)\n",
    "    datasets = [x for x in datasets if \"h1.0000-\" + n.zfill(2) in x]\n",
    "    return xr.open_mfdataset(datasets)\n",
    "\n",
    "def makeSuffix(month):\n",
    "    n = str(month)\n",
    "    return \"_\" + n.zfill(2)\n",
    "\n",
    "def saveNNInput(month):\n",
    "    spData = doMonth(month)\n",
    "    suffix = makeSuffix(month)\n",
    "    print(\"read in data\")\n",
    "    nntbp = spData[\"NNTBP\"].values\n",
    "    nnqbp = spData[\"NNQBP\"].values\n",
    "    p0 = spData[\"P0\"].values\n",
    "    ps = spData[\"NNPS\"].values\n",
    "    hyam = spData[\"hyam\"].values\n",
    "    hybm = spData[\"hybm\"].values\n",
    "    relhum = spData[\"RELHUM\"].values\n",
    "    tphystnd = spData[\"TPHYSTND\"].values\n",
    "    phq = spData[\"PHQ\"].values\n",
    "\n",
    "    p0 = np.array(list(set(p0)))\n",
    "    print(\"loaded in data\")\n",
    "    newhum = np.zeros((spData[\"time\"].shape[0],\\\n",
    "                         spData[\"lev\"].shape[0], \\\n",
    "                         spData[\"lat\"].shape[0], \\\n",
    "                         spData[\"lon\"].shape[0]))\n",
    "    lats = spData[\"lat\"]\n",
    "    lons = spData[\"lon\"]\n",
    "    print(\"starting for loop\")\n",
    "    for i in tqdm(range(len(lats))):\n",
    "        for j in range(len(lons)):\n",
    "            latIndex = i\n",
    "            lonIndex = j\n",
    "            R = np.float32(287.0)\n",
    "            Rv = np.float32(461.0)\n",
    "            p = p0 * hyam + ps[:, None, latIndex, lonIndex] * hybm # Total pressure (Pa)\n",
    "\n",
    "            T = np.float32(nntbp[:, :, latIndex, lonIndex])\n",
    "            qv = np.float32(nnqbp[:, :, latIndex, lonIndex])\n",
    "            p = np.float32(p)\n",
    "            newhum[:,:, latIndex, lonIndex] = Rv*p*qv/(R*esat(T))\n",
    "    \n",
    "    nntbp = np.moveaxis(nntbp[1:,:,:,:],0,1)\n",
    "    print(\"nntbp\")\n",
    "    print(nntbp.shape)\n",
    "    \n",
    "    nnqbp = np.moveaxis(nnqbp[1:,:,:,:],0,1)\n",
    "    print(\"nnqbp\")\n",
    "    print(nnqbp.shape)\n",
    "    \n",
    "    lhflx = spData[\"LHFLX\"].values[np.newaxis,:-1,:,:]\n",
    "    print(\"lhflx\")\n",
    "    print(lhflx.shape)\n",
    "    \n",
    "    shflx = spData[\"SHFLX\"].values[np.newaxis,:-1,:,:]\n",
    "    print(\"shflx\")\n",
    "    print(shflx.shape)\n",
    "    \n",
    "    ps = spData[\"NNPS\"].values[np.newaxis,1:,:,:]\n",
    "    print(\"ps\")\n",
    "    print(ps.shape)\n",
    "    \n",
    "    solin = spData[\"SOLIN\"].values[np.newaxis,1:,:,:]\n",
    "    print(\"solin\")\n",
    "    print(solin.shape)\n",
    "    \n",
    "    newhum = np.moveaxis(newhum[1:,:,:,:],0,1)\n",
    "    print(\"newhum\")\n",
    "    print(newhum.shape)\n",
    "    \n",
    "    oldhum = np.moveaxis(relhum[1:,:,:,:],0,1)\n",
    "    print(\"oldhum\")\n",
    "    print(oldhum.shape)\n",
    "    \n",
    "    tphystnd = np.moveaxis(tphystnd[1:,:,:,:],0,1)\n",
    "    print(\"tphystnd\")\n",
    "    print(tphystnd.shape)\n",
    "    \n",
    "\n",
    "    phq = np.moveaxis(phq[1:,:,:,:],0,1)\n",
    "    print(\"phq\")\n",
    "    print(phq.shape)\n",
    "\n",
    "    nnInput = np.concatenate((nntbp, \\\n",
    "                              nnqbp, \\\n",
    "                              lhflx, \\\n",
    "                              shflx, \\\n",
    "                              ps, \\\n",
    "                              solin, \\\n",
    "                              newhum, \\\n",
    "                              oldhum, \\\n",
    "                              tphystnd, \\\n",
    "                              phq))\n",
    "    print(\"nnInput\")\n",
    "    nnInput.shape\n",
    "\n",
    "    errors = (newhum-oldhum/100).flatten()\n",
    "    result = \"Mean error: \" + str(np.mean(errors)) + \"\\n\"\n",
    "    result = result + \"Variance: \" + str(np.var(errors)) + \"\\n\"\n",
    "    result = result + \"nntbp.shape: \" + str(nntbp.shape) + \"\\n\"\n",
    "    result = result + \"nnqbp.shape: \" + str(nnqbp.shape) + \"\\n\"\n",
    "    result = result + \"lhflx.shape: \" + str(lhflx.shape) + \"\\n\"\n",
    "    result = result + \"shflx.shape: \" + str(shflx.shape) + \"\\n\"\n",
    "    result = result + \"ps.shape: \" + str(ps.shape) + \"\\n\"\n",
    "    result = result + \"solin.shape: \" + str(solin.shape) + \"\\n\"\n",
    "    result = result + \"newhum.shape: \" + str(newhum.shape) + \"\\n\"\n",
    "    result = result + \"oldhum.shape: \" + str(oldhum.shape) + \"\\n\"\n",
    "    result = result + \"tphystnd.shape: \" + str(tphystnd.shape) + \"\\n\"\n",
    "    result = result + \"phq.shape: \" + str(phq.shape) + \"\\n\"\n",
    "    result = result + \"nnInput.shape: \" + str(nnInput.shape) + \"\\n\"\n",
    "    print(result)\n",
    "    \n",
    "    #added 32 bit fix\n",
    "    nnInput = np.float32(nnInput)\n",
    "    \n",
    "    fileName = 'nnInput' + suffix + '.npy'\n",
    "    with open(fileName, 'wb') as f:\n",
    "        np.save(f, nnInput)\n",
    "\n",
    "    diagnostics = 'diagnostics' + suffix + '.txt'\n",
    "    with open(diagnostics, 'a') as fp:\n",
    "        fp.write(result)"
   ]
  },
  {
   "cell_type": "markdown",
   "id": "e09b9ffd-da19-4c3d-b73b-dd76fc8d4b06",
   "metadata": {},
   "source": [
    "# run the code"
   ]
  },
  {
   "cell_type": "code",
   "execution_count": 4,
   "id": "67592cb2-9c14-4d60-9975-937ae1e1f82e",
   "metadata": {},
   "outputs": [
    {
     "name": "stderr",
     "output_type": "stream",
     "text": [
      "100%|██████████████████████████████████████████████████████████████████████| 64/64 [04:13<00:00,  3.96s/it]\n"
     ]
    },
    {
     "name": "stdout",
     "output_type": "stream",
     "text": [
      "nntbp\n",
      "(30, 1007, 64, 128)\n",
      "nnqbp\n",
      "(30, 1007, 64, 128)\n",
      "lhflx\n",
      "(1, 1007, 64, 128)\n",
      "shflx\n",
      "(1, 1007, 64, 128)\n",
      "ps\n",
      "(1, 1007, 64, 128)\n",
      "solin\n",
      "(1, 1007, 64, 128)\n",
      "newhum\n",
      "(30, 1007, 64, 128)\n",
      "oldhum\n",
      "(30, 1007, 64, 128)\n",
      "tphystnd\n",
      "(30, 1007, 64, 128)\n",
      "phq\n",
      "(30, 1007, 64, 128)\n",
      "nnInput\n",
      "Mean error: 0.00449642062535382\n",
      "Variance: 0.000531489944120111\n",
      "nntbp.shape: (30, 1007, 64, 128)\n",
      "nnqbp.shape: (30, 1007, 64, 128)\n",
      "lhflx.shape: (1, 1007, 64, 128)\n",
      "shflx.shape: (1, 1007, 64, 128)\n",
      "ps.shape: (1, 1007, 64, 128)\n",
      "solin.shape: (1, 1007, 64, 128)\n",
      "newhum.shape: (30, 1007, 64, 128)\n",
      "oldhum.shape: (30, 1007, 64, 128)\n",
      "tphystnd.shape: (30, 1007, 64, 128)\n",
      "phq.shape: (30, 1007, 64, 128)\n",
      "nnInput.shape: (184, 1007, 64, 128)\n",
      "\n"
     ]
    }
   ],
   "source": [
    "#saveNNInput(1)"
   ]
  },
  {
   "cell_type": "code",
   "execution_count": 5,
   "id": "c703eb64-1026-4d95-b5ee-ad9adf4758a6",
   "metadata": {},
   "outputs": [
    {
     "name": "stderr",
     "output_type": "stream",
     "text": [
      "100%|██████████████████████████████████████████████████████████████████████| 64/64 [05:38<00:00,  5.28s/it]\n"
     ]
    },
    {
     "name": "stdout",
     "output_type": "stream",
     "text": [
      "nntbp\n",
      "(30, 1343, 64, 128)\n",
      "nnqbp\n",
      "(30, 1343, 64, 128)\n",
      "lhflx\n",
      "(1, 1343, 64, 128)\n",
      "shflx\n",
      "(1, 1343, 64, 128)\n",
      "ps\n",
      "(1, 1343, 64, 128)\n",
      "solin\n",
      "(1, 1343, 64, 128)\n",
      "newhum\n",
      "(30, 1343, 64, 128)\n",
      "oldhum\n",
      "(30, 1343, 64, 128)\n",
      "tphystnd\n",
      "(30, 1343, 64, 128)\n",
      "phq\n",
      "(30, 1343, 64, 128)\n",
      "nnInput\n",
      "Mean error: 0.0045253398222425325\n",
      "Variance: 0.0005452406919383343\n",
      "nntbp.shape: (30, 1343, 64, 128)\n",
      "nnqbp.shape: (30, 1343, 64, 128)\n",
      "lhflx.shape: (1, 1343, 64, 128)\n",
      "shflx.shape: (1, 1343, 64, 128)\n",
      "ps.shape: (1, 1343, 64, 128)\n",
      "solin.shape: (1, 1343, 64, 128)\n",
      "newhum.shape: (30, 1343, 64, 128)\n",
      "oldhum.shape: (30, 1343, 64, 128)\n",
      "tphystnd.shape: (30, 1343, 64, 128)\n",
      "phq.shape: (30, 1343, 64, 128)\n",
      "nnInput.shape: (184, 1343, 64, 128)\n",
      "\n"
     ]
    }
   ],
   "source": [
    "#saveNNInput(2)"
   ]
  },
  {
   "cell_type": "code",
   "execution_count": 6,
   "id": "808276fe-3894-40f0-bc3a-e5d4dd95d30b",
   "metadata": {},
   "outputs": [
    {
     "name": "stderr",
     "output_type": "stream",
     "text": [
      "100%|██████████████████████████████████████████████████████████████████████| 64/64 [06:13<00:00,  5.83s/it]\n"
     ]
    },
    {
     "name": "stdout",
     "output_type": "stream",
     "text": [
      "nntbp\n",
      "(30, 1487, 64, 128)\n",
      "nnqbp\n",
      "(30, 1487, 64, 128)\n",
      "lhflx\n",
      "(1, 1487, 64, 128)\n",
      "shflx\n",
      "(1, 1487, 64, 128)\n",
      "ps\n",
      "(1, 1487, 64, 128)\n",
      "solin\n",
      "(1, 1487, 64, 128)\n",
      "newhum\n",
      "(30, 1487, 64, 128)\n",
      "oldhum\n",
      "(30, 1487, 64, 128)\n",
      "tphystnd\n",
      "(30, 1487, 64, 128)\n",
      "phq\n",
      "(30, 1487, 64, 128)\n",
      "nnInput\n",
      "Mean error: 0.0047049172968508315\n",
      "Variance: 0.0006586717710367489\n",
      "nntbp.shape: (30, 1487, 64, 128)\n",
      "nnqbp.shape: (30, 1487, 64, 128)\n",
      "lhflx.shape: (1, 1487, 64, 128)\n",
      "shflx.shape: (1, 1487, 64, 128)\n",
      "ps.shape: (1, 1487, 64, 128)\n",
      "solin.shape: (1, 1487, 64, 128)\n",
      "newhum.shape: (30, 1487, 64, 128)\n",
      "oldhum.shape: (30, 1487, 64, 128)\n",
      "tphystnd.shape: (30, 1487, 64, 128)\n",
      "phq.shape: (30, 1487, 64, 128)\n",
      "nnInput.shape: (184, 1487, 64, 128)\n",
      "\n"
     ]
    }
   ],
   "source": [
    "#saveNNInput(3)"
   ]
  },
  {
   "cell_type": "code",
   "execution_count": 7,
   "id": "66e62ce0-0a4b-4df4-ad7d-6bc5eb905d55",
   "metadata": {},
   "outputs": [
    {
     "name": "stderr",
     "output_type": "stream",
     "text": [
      "100%|██████████████████████████████████████████████████████████████████████| 64/64 [06:01<00:00,  5.65s/it]\n"
     ]
    },
    {
     "name": "stdout",
     "output_type": "stream",
     "text": [
      "nntbp\n",
      "(30, 1439, 64, 128)\n",
      "nnqbp\n",
      "(30, 1439, 64, 128)\n",
      "lhflx\n",
      "(1, 1439, 64, 128)\n",
      "shflx\n",
      "(1, 1439, 64, 128)\n",
      "ps\n",
      "(1, 1439, 64, 128)\n",
      "solin\n",
      "(1, 1439, 64, 128)\n",
      "newhum\n",
      "(30, 1439, 64, 128)\n",
      "oldhum\n",
      "(30, 1439, 64, 128)\n",
      "tphystnd\n",
      "(30, 1439, 64, 128)\n",
      "phq\n",
      "(30, 1439, 64, 128)\n",
      "nnInput\n",
      "Mean error: 0.004646388751251582\n",
      "Variance: 0.0006922037939262922\n",
      "nntbp.shape: (30, 1439, 64, 128)\n",
      "nnqbp.shape: (30, 1439, 64, 128)\n",
      "lhflx.shape: (1, 1439, 64, 128)\n",
      "shflx.shape: (1, 1439, 64, 128)\n",
      "ps.shape: (1, 1439, 64, 128)\n",
      "solin.shape: (1, 1439, 64, 128)\n",
      "newhum.shape: (30, 1439, 64, 128)\n",
      "oldhum.shape: (30, 1439, 64, 128)\n",
      "tphystnd.shape: (30, 1439, 64, 128)\n",
      "phq.shape: (30, 1439, 64, 128)\n",
      "nnInput.shape: (184, 1439, 64, 128)\n",
      "\n"
     ]
    }
   ],
   "source": [
    "#saveNNInput(4)"
   ]
  },
  {
   "cell_type": "code",
   "execution_count": 8,
   "id": "023a6d72-01bd-4434-b640-5269e9a8c4a3",
   "metadata": {},
   "outputs": [
    {
     "name": "stderr",
     "output_type": "stream",
     "text": [
      "100%|██████████████████████████████████████████████████████████████████████| 64/64 [06:13<00:00,  5.84s/it]\n"
     ]
    },
    {
     "name": "stdout",
     "output_type": "stream",
     "text": [
      "nntbp\n",
      "(30, 1487, 64, 128)\n",
      "nnqbp\n",
      "(30, 1487, 64, 128)\n",
      "lhflx\n",
      "(1, 1487, 64, 128)\n",
      "shflx\n",
      "(1, 1487, 64, 128)\n",
      "ps\n",
      "(1, 1487, 64, 128)\n",
      "solin\n",
      "(1, 1487, 64, 128)\n",
      "newhum\n",
      "(30, 1487, 64, 128)\n",
      "oldhum\n",
      "(30, 1487, 64, 128)\n",
      "tphystnd\n",
      "(30, 1487, 64, 128)\n",
      "phq\n",
      "(30, 1487, 64, 128)\n",
      "nnInput\n",
      "Mean error: 0.004552564777648614\n",
      "Variance: 0.0006317513355610316\n",
      "nntbp.shape: (30, 1487, 64, 128)\n",
      "nnqbp.shape: (30, 1487, 64, 128)\n",
      "lhflx.shape: (1, 1487, 64, 128)\n",
      "shflx.shape: (1, 1487, 64, 128)\n",
      "ps.shape: (1, 1487, 64, 128)\n",
      "solin.shape: (1, 1487, 64, 128)\n",
      "newhum.shape: (30, 1487, 64, 128)\n",
      "oldhum.shape: (30, 1487, 64, 128)\n",
      "tphystnd.shape: (30, 1487, 64, 128)\n",
      "phq.shape: (30, 1487, 64, 128)\n",
      "nnInput.shape: (184, 1487, 64, 128)\n",
      "\n"
     ]
    }
   ],
   "source": [
    "#saveNNInput(5)"
   ]
  },
  {
   "cell_type": "code",
   "execution_count": 9,
   "id": "63b4733e-97ae-497e-b414-b4abc386c560",
   "metadata": {},
   "outputs": [
    {
     "name": "stderr",
     "output_type": "stream",
     "text": [
      "100%|██████████████████████████████████████████████████████████████████████| 64/64 [06:01<00:00,  5.65s/it]\n"
     ]
    },
    {
     "name": "stdout",
     "output_type": "stream",
     "text": [
      "nntbp\n",
      "(30, 1439, 64, 128)\n",
      "nnqbp\n",
      "(30, 1439, 64, 128)\n",
      "lhflx\n",
      "(1, 1439, 64, 128)\n",
      "shflx\n",
      "(1, 1439, 64, 128)\n",
      "ps\n",
      "(1, 1439, 64, 128)\n",
      "solin\n",
      "(1, 1439, 64, 128)\n",
      "newhum\n",
      "(30, 1439, 64, 128)\n",
      "oldhum\n",
      "(30, 1439, 64, 128)\n",
      "tphystnd\n",
      "(30, 1439, 64, 128)\n",
      "phq\n",
      "(30, 1439, 64, 128)\n",
      "nnInput\n",
      "Mean error: 0.004568632873742671\n",
      "Variance: 0.0005829908510743547\n",
      "nntbp.shape: (30, 1439, 64, 128)\n",
      "nnqbp.shape: (30, 1439, 64, 128)\n",
      "lhflx.shape: (1, 1439, 64, 128)\n",
      "shflx.shape: (1, 1439, 64, 128)\n",
      "ps.shape: (1, 1439, 64, 128)\n",
      "solin.shape: (1, 1439, 64, 128)\n",
      "newhum.shape: (30, 1439, 64, 128)\n",
      "oldhum.shape: (30, 1439, 64, 128)\n",
      "tphystnd.shape: (30, 1439, 64, 128)\n",
      "phq.shape: (30, 1439, 64, 128)\n",
      "nnInput.shape: (184, 1439, 64, 128)\n",
      "\n"
     ]
    }
   ],
   "source": [
    "#saveNNInput(6)"
   ]
  },
  {
   "cell_type": "code",
   "execution_count": 10,
   "id": "517b4cf5-52c2-4a9b-b141-255bcca9ef4f",
   "metadata": {},
   "outputs": [
    {
     "name": "stderr",
     "output_type": "stream",
     "text": [
      "100%|██████████████████████████████████████████████████████████████████████| 64/64 [06:12<00:00,  5.81s/it]\n"
     ]
    },
    {
     "name": "stdout",
     "output_type": "stream",
     "text": [
      "nntbp\n",
      "(30, 1487, 64, 128)\n",
      "nnqbp\n",
      "(30, 1487, 64, 128)\n",
      "lhflx\n",
      "(1, 1487, 64, 128)\n",
      "shflx\n",
      "(1, 1487, 64, 128)\n",
      "ps\n",
      "(1, 1487, 64, 128)\n",
      "solin\n",
      "(1, 1487, 64, 128)\n",
      "newhum\n",
      "(30, 1487, 64, 128)\n",
      "oldhum\n",
      "(30, 1487, 64, 128)\n",
      "tphystnd\n",
      "(30, 1487, 64, 128)\n",
      "phq\n",
      "(30, 1487, 64, 128)\n",
      "nnInput\n",
      "Mean error: 0.004624294810867391\n",
      "Variance: 0.0006135179197601439\n",
      "nntbp.shape: (30, 1487, 64, 128)\n",
      "nnqbp.shape: (30, 1487, 64, 128)\n",
      "lhflx.shape: (1, 1487, 64, 128)\n",
      "shflx.shape: (1, 1487, 64, 128)\n",
      "ps.shape: (1, 1487, 64, 128)\n",
      "solin.shape: (1, 1487, 64, 128)\n",
      "newhum.shape: (30, 1487, 64, 128)\n",
      "oldhum.shape: (30, 1487, 64, 128)\n",
      "tphystnd.shape: (30, 1487, 64, 128)\n",
      "phq.shape: (30, 1487, 64, 128)\n",
      "nnInput.shape: (184, 1487, 64, 128)\n",
      "\n"
     ]
    }
   ],
   "source": [
    "#saveNNInput(7)"
   ]
  },
  {
   "cell_type": "code",
   "execution_count": 11,
   "id": "9350101a-d896-4e45-b2ac-eba927c177ce",
   "metadata": {},
   "outputs": [
    {
     "name": "stderr",
     "output_type": "stream",
     "text": [
      "100%|██████████████████████████████████████████████████████████████████████| 64/64 [06:14<00:00,  5.85s/it]\n"
     ]
    },
    {
     "name": "stdout",
     "output_type": "stream",
     "text": [
      "nntbp\n",
      "(30, 1487, 64, 128)\n",
      "nnqbp\n",
      "(30, 1487, 64, 128)\n",
      "lhflx\n",
      "(1, 1487, 64, 128)\n",
      "shflx\n",
      "(1, 1487, 64, 128)\n",
      "ps\n",
      "(1, 1487, 64, 128)\n",
      "solin\n",
      "(1, 1487, 64, 128)\n",
      "newhum\n",
      "(30, 1487, 64, 128)\n",
      "oldhum\n",
      "(30, 1487, 64, 128)\n",
      "tphystnd\n",
      "(30, 1487, 64, 128)\n",
      "phq\n",
      "(30, 1487, 64, 128)\n",
      "nnInput\n",
      "Mean error: 0.004418762130331022\n",
      "Variance: 0.0005444266637220918\n",
      "nntbp.shape: (30, 1487, 64, 128)\n",
      "nnqbp.shape: (30, 1487, 64, 128)\n",
      "lhflx.shape: (1, 1487, 64, 128)\n",
      "shflx.shape: (1, 1487, 64, 128)\n",
      "ps.shape: (1, 1487, 64, 128)\n",
      "solin.shape: (1, 1487, 64, 128)\n",
      "newhum.shape: (30, 1487, 64, 128)\n",
      "oldhum.shape: (30, 1487, 64, 128)\n",
      "tphystnd.shape: (30, 1487, 64, 128)\n",
      "phq.shape: (30, 1487, 64, 128)\n",
      "nnInput.shape: (184, 1487, 64, 128)\n",
      "\n"
     ]
    }
   ],
   "source": [
    "#saveNNInput(8)"
   ]
  },
  {
   "cell_type": "code",
   "execution_count": 12,
   "id": "0f78b6a3-a546-440e-9352-9ef1bc0168bb",
   "metadata": {},
   "outputs": [
    {
     "name": "stderr",
     "output_type": "stream",
     "text": [
      "100%|██████████████████████████████████████████████████████████████████████| 64/64 [06:01<00:00,  5.66s/it]\n"
     ]
    },
    {
     "name": "stdout",
     "output_type": "stream",
     "text": [
      "nntbp\n",
      "(30, 1439, 64, 128)\n",
      "nnqbp\n",
      "(30, 1439, 64, 128)\n",
      "lhflx\n",
      "(1, 1439, 64, 128)\n",
      "shflx\n",
      "(1, 1439, 64, 128)\n",
      "ps\n",
      "(1, 1439, 64, 128)\n",
      "solin\n",
      "(1, 1439, 64, 128)\n",
      "newhum\n",
      "(30, 1439, 64, 128)\n",
      "oldhum\n",
      "(30, 1439, 64, 128)\n",
      "tphystnd\n",
      "(30, 1439, 64, 128)\n",
      "phq\n",
      "(30, 1439, 64, 128)\n",
      "nnInput\n",
      "Mean error: 0.004478826859563261\n",
      "Variance: 0.0005605209436831268\n",
      "nntbp.shape: (30, 1439, 64, 128)\n",
      "nnqbp.shape: (30, 1439, 64, 128)\n",
      "lhflx.shape: (1, 1439, 64, 128)\n",
      "shflx.shape: (1, 1439, 64, 128)\n",
      "ps.shape: (1, 1439, 64, 128)\n",
      "solin.shape: (1, 1439, 64, 128)\n",
      "newhum.shape: (30, 1439, 64, 128)\n",
      "oldhum.shape: (30, 1439, 64, 128)\n",
      "tphystnd.shape: (30, 1439, 64, 128)\n",
      "phq.shape: (30, 1439, 64, 128)\n",
      "nnInput.shape: (184, 1439, 64, 128)\n",
      "\n"
     ]
    }
   ],
   "source": [
    "#saveNNInput(9)"
   ]
  },
  {
   "cell_type": "code",
   "execution_count": 13,
   "id": "635345ed-5ec1-4b1e-bf84-21bbdb3d1af1",
   "metadata": {},
   "outputs": [
    {
     "name": "stderr",
     "output_type": "stream",
     "text": [
      "100%|██████████████████████████████████████████████████████████████████████| 64/64 [06:14<00:00,  5.85s/it]\n"
     ]
    },
    {
     "name": "stdout",
     "output_type": "stream",
     "text": [
      "nntbp\n",
      "(30, 1487, 64, 128)\n",
      "nnqbp\n",
      "(30, 1487, 64, 128)\n",
      "lhflx\n",
      "(1, 1487, 64, 128)\n",
      "shflx\n",
      "(1, 1487, 64, 128)\n",
      "ps\n",
      "(1, 1487, 64, 128)\n",
      "solin\n",
      "(1, 1487, 64, 128)\n",
      "newhum\n",
      "(30, 1487, 64, 128)\n",
      "oldhum\n",
      "(30, 1487, 64, 128)\n",
      "tphystnd\n",
      "(30, 1487, 64, 128)\n",
      "phq\n",
      "(30, 1487, 64, 128)\n",
      "nnInput\n",
      "Mean error: 0.004394172820393663\n",
      "Variance: 0.0005414692008619802\n",
      "nntbp.shape: (30, 1487, 64, 128)\n",
      "nnqbp.shape: (30, 1487, 64, 128)\n",
      "lhflx.shape: (1, 1487, 64, 128)\n",
      "shflx.shape: (1, 1487, 64, 128)\n",
      "ps.shape: (1, 1487, 64, 128)\n",
      "solin.shape: (1, 1487, 64, 128)\n",
      "newhum.shape: (30, 1487, 64, 128)\n",
      "oldhum.shape: (30, 1487, 64, 128)\n",
      "tphystnd.shape: (30, 1487, 64, 128)\n",
      "phq.shape: (30, 1487, 64, 128)\n",
      "nnInput.shape: (184, 1487, 64, 128)\n",
      "\n"
     ]
    }
   ],
   "source": [
    "#saveNNInput(10)"
   ]
  },
  {
   "cell_type": "code",
   "execution_count": 7,
   "id": "63fbde31-43b2-46c6-8826-263f49f44dcf",
   "metadata": {},
   "outputs": [
    {
     "name": "stdout",
     "output_type": "stream",
     "text": [
      "read in data\n",
      "loaded in data\n",
      "starting for loop\n"
     ]
    },
    {
     "name": "stderr",
     "output_type": "stream",
     "text": [
      "100%|███████████████████████████████████████████████████████████████████████████████████████████████████████████████████████████████████████| 64/64 [06:00<00:00,  5.63s/it]\n"
     ]
    },
    {
     "name": "stdout",
     "output_type": "stream",
     "text": [
      "nntbp\n",
      "(30, 1439, 64, 128)\n",
      "nnqbp\n",
      "(30, 1439, 64, 128)\n",
      "lhflx\n",
      "(1, 1439, 64, 128)\n",
      "shflx\n",
      "(1, 1439, 64, 128)\n",
      "ps\n",
      "(1, 1439, 64, 128)\n",
      "solin\n",
      "(1, 1439, 64, 128)\n",
      "newhum\n",
      "(30, 1439, 64, 128)\n",
      "oldhum\n",
      "(30, 1439, 64, 128)\n",
      "tphystnd\n",
      "(30, 1439, 64, 128)\n",
      "phq\n",
      "(30, 1439, 64, 128)\n",
      "nnInput\n",
      "Mean error: 0.004063744879412078\n",
      "Variance: 0.00044028795292243045\n",
      "nntbp.shape: (30, 1439, 64, 128)\n",
      "nnqbp.shape: (30, 1439, 64, 128)\n",
      "lhflx.shape: (1, 1439, 64, 128)\n",
      "shflx.shape: (1, 1439, 64, 128)\n",
      "ps.shape: (1, 1439, 64, 128)\n",
      "solin.shape: (1, 1439, 64, 128)\n",
      "newhum.shape: (30, 1439, 64, 128)\n",
      "oldhum.shape: (30, 1439, 64, 128)\n",
      "tphystnd.shape: (30, 1439, 64, 128)\n",
      "phq.shape: (30, 1439, 64, 128)\n",
      "nnInput.shape: (184, 1439, 64, 128)\n",
      "\n"
     ]
    }
   ],
   "source": [
    "saveNNInput(11)"
   ]
  },
  {
   "cell_type": "code",
   "execution_count": 8,
   "id": "81f4e316-edac-4666-8f5d-d34451c6de17",
   "metadata": {},
   "outputs": [
    {
     "name": "stdout",
     "output_type": "stream",
     "text": [
      "read in data\n",
      "loaded in data\n",
      "starting for loop\n"
     ]
    },
    {
     "name": "stderr",
     "output_type": "stream",
     "text": [
      "100%|███████████████████████████████████████████████████████████████████████████████████████████████████████████████████████████████████████| 64/64 [06:15<00:00,  5.86s/it]\n"
     ]
    },
    {
     "name": "stdout",
     "output_type": "stream",
     "text": [
      "nntbp\n",
      "(30, 1487, 64, 128)\n",
      "nnqbp\n",
      "(30, 1487, 64, 128)\n",
      "lhflx\n",
      "(1, 1487, 64, 128)\n",
      "shflx\n",
      "(1, 1487, 64, 128)\n",
      "ps\n",
      "(1, 1487, 64, 128)\n",
      "solin\n",
      "(1, 1487, 64, 128)\n",
      "newhum\n",
      "(30, 1487, 64, 128)\n",
      "oldhum\n",
      "(30, 1487, 64, 128)\n",
      "tphystnd\n",
      "(30, 1487, 64, 128)\n",
      "phq\n",
      "(30, 1487, 64, 128)\n",
      "nnInput\n",
      "Mean error: 0.004069206737723481\n",
      "Variance: 0.0004647211701387928\n",
      "nntbp.shape: (30, 1487, 64, 128)\n",
      "nnqbp.shape: (30, 1487, 64, 128)\n",
      "lhflx.shape: (1, 1487, 64, 128)\n",
      "shflx.shape: (1, 1487, 64, 128)\n",
      "ps.shape: (1, 1487, 64, 128)\n",
      "solin.shape: (1, 1487, 64, 128)\n",
      "newhum.shape: (30, 1487, 64, 128)\n",
      "oldhum.shape: (30, 1487, 64, 128)\n",
      "tphystnd.shape: (30, 1487, 64, 128)\n",
      "phq.shape: (30, 1487, 64, 128)\n",
      "nnInput.shape: (184, 1487, 64, 128)\n",
      "\n"
     ]
    }
   ],
   "source": [
    "saveNNInput(12)"
   ]
  },
  {
   "cell_type": "code",
   "execution_count": null,
   "id": "3debff3d-3230-4dde-819a-508da930f9aa",
   "metadata": {},
   "outputs": [],
   "source": []
  }
 ],
 "metadata": {
  "kernelspec": {
   "display_name": "Python 3 (ipykernel)",
   "language": "python",
   "name": "python3"
  },
  "language_info": {
   "codemirror_mode": {
    "name": "ipython",
    "version": 3
   },
   "file_extension": ".py",
   "mimetype": "text/x-python",
   "name": "python",
   "nbconvert_exporter": "python",
   "pygments_lexer": "ipython3",
   "version": "3.9.13"
  }
 },
 "nbformat": 4,
 "nbformat_minor": 5
}
