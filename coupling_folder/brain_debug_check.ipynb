{
 "cells": [
  {
   "cell_type": "code",
   "execution_count": 19,
   "metadata": {},
   "outputs": [],
   "source": [
    "import xarray as xr \n",
    "import numpy as np \n",
    "import matplotlib.pyplot as plt \n",
    "import os \n",
    "import re \n",
    "from tqdm import tqdm \n",
    "import matplotlib as mpl \n",
    "import seaborn as sns \n",
    "import pandas as pd\n",
    "import tensorflow as tf\n",
    "from tensorflow.keras.models import load_model\n",
    "from preprocessing_functions import *"
   ]
  },
  {
   "cell_type": "code",
   "execution_count": 91,
   "metadata": {},
   "outputs": [],
   "source": [
    "def clean_paste(paste):\n",
    "    paste = re.sub(\"\\n\", \"\", paste)\n",
    "    paste = paste.split(\" \")\n",
    "    paste = np.array([float(x) for x in paste if len(x)>0])\n",
    "    return paste[:,np.newaxis].T"
   ]
  },
  {
   "cell_type": "code",
   "execution_count": 42,
   "metadata": {},
   "outputs": [],
   "source": [
    "logfile_inp_sub = \"\"\"\"\"\"\n",
    "\n",
    "logfile_inp_sub = clean_paste(logfile_inp_sub)\n",
    "\n",
    "logfile_inp_div = \"\"\"\"\"\"\n",
    "\n",
    "logfile_inp_div = clean_paste(logfile_inp_div)\n",
    "\n",
    "logfile_out_scale = \"\"\"\"\"\"\n",
    "\n",
    "logfile_out_scale = clean_paste(logfile_out_scale)"
   ]
  },
  {
   "cell_type": "code",
   "execution_count": 55,
   "metadata": {},
   "outputs": [],
   "source": [
    "logfile_pre_norm = \"\"\"\"\"\"\n",
    "\n",
    "logfile_pre_norm = clean_paste(logfile_pre_norm)\n",
    "\n",
    "logfile_post_norm = \"\"\"\"\"\"\n",
    "\n",
    "logfile_post_norm = clean_paste(logfile_post_norm)\n",
    "\n",
    "logfile_output = \"\"\"\"\"\"\n",
    "\n",
    "logfile_output = clean_paste(logfile_output)\n",
    "\n",
    "logfile_out_post_scale = \"\"\"\"\"\"\n",
    "\n",
    "logfile_out_post_scale = clean_paste(logfile_out_post_scale)"
   ]
  }
 ],
 "metadata": {
  "kernelspec": {
   "display_name": "Python 3 (ipykernel)",
   "language": "python",
   "name": "python3"
  }
 },
 "nbformat": 4,
 "nbformat_minor": 2
}
