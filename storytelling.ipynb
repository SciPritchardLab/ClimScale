{
 "cells": [
  {
   "cell_type": "code",
   "execution_count": 1,
   "metadata": {},
   "outputs": [
    {
     "name": "stdout",
     "output_type": "stream",
     "text": [
      "/Users/jerrylin/Desktop/OfflineWork/hypersampling\n"
     ]
    }
   ],
   "source": [
    "!pwd"
   ]
  },
  {
   "cell_type": "markdown",
   "metadata": {},
   "source": [
    "# Import packages"
   ]
  },
  {
   "cell_type": "code",
   "execution_count": 2,
   "metadata": {},
   "outputs": [],
   "source": [
    "import numpy as np\n",
    "import pandas as pd\n",
    "import xarray as xr\n",
    "from scipy import stats\n",
    "import scipy\n",
    "import seaborn as sns\n",
    "import matplotlib.pyplot as plt\n",
    "import matplotlib.patches as patches\n",
    "import matplotlib.pylab as plb\n",
    "from scipy.stats import ranksums\n",
    "import os\n",
    "import pickle\n",
    "from scipy.stats import norm\n",
    "from scipy.stats import spearmanr\n",
    "from scipy.stats import mannwhitneyu\n",
    "from scipy.stats import gaussian_kde\n",
    "from scipy.signal import argrelextrema\n",
    "\n",
    "from tqdm import tqdm\n",
    "\n",
    "from preprocessing_functions import *"
   ]
  },
  {
   "cell_type": "markdown",
   "metadata": {},
   "source": [
    "# Load data"
   ]
  },
  {
   "cell_type": "code",
   "execution_count": 3,
   "metadata": {},
   "outputs": [],
   "source": [
    "color_dict = {\n",
    "    'standard': 'blue',\n",
    "    'specific': 'lime',\n",
    "    'nomemory': 'red',\n",
    "    'nowind': 'green',\n",
    "    'noozone': 'purple',\n",
    "    'nocoszrs': 'orange',\n",
    "    'mae': 'pink',\n",
    "    'nodropout': 'silver',\n",
    "    'multiclimate': 'gold'\n",
    "}\n",
    "\n",
    "color_dict2 = {\n",
    "    'standard': 'blue',\n",
    "    'specific': 'lime',\n",
    "    'no memory': 'red',\n",
    "    'no wind': 'green',\n",
    "    'no ozone': 'purple',\n",
    "    'no zenith angle': 'orange',\n",
    "    'MAE':'pink',\n",
    "    'no dropout': 'silver',\n",
    "    'multiclimate': 'gold'\n",
    "}\n",
    "\n",
    "label_dict = {\n",
    "    'standard': 'standard',\n",
    "    'specific': 'specific humidity',\n",
    "    'nomemory': 'no memory',\n",
    "    'nowind': 'no wind',\n",
    "    'noozone': 'no ozone',\n",
    "    'nocoszrs': 'no zenith angle',\n",
    "    'mae': 'MAE',\n",
    "    'nodropout': 'no dropout',\n",
    "    'multiclimate': 'multiclimate'\n",
    "}\n",
    "\n",
    "config_names = ['standard', 'specific humidity', 'no memory', 'no wind', 'no ozone', 'no zenith angle', 'MAE', 'no dropout', 'multiclimate']\n",
    "\n",
    "average_heating_rmse = 4.567616448322416e-05\n",
    "average_moistening_rmse = 2.8896629675143484e-05\n",
    "martingale_heating_rmse = 3.1405422356850924e-05\n",
    "martingale_moistening_rmse = 2.9224563847088255e-05\n",
    "mlr_heating_rmse = 2.600916471955618e-05\n",
    "mlr_moistening_rmse = 2.229119069533864e-05\n",
    "\n",
    "def get_model_info(config_name):\n",
    "    model_info = pd.read_pickle(f'{config_name}/{config_name}_df.pandas.pkl')\n",
    "    with open(f'{config_name}/prognostic_T.pkl', 'rb') as f:\n",
    "        prognostic_T = pickle.load(f)\n",
    "    with open(f'{config_name}/prognostic_Q.pkl', 'rb') as f:\n",
    "        prognostic_Q = pickle.load(f)\n",
    "    return model_info, prognostic_T, prognostic_Q\n",
    "\n",
    "def get_drift_col(prognostic_diffs, model_info, name, threshold):\n",
    "    return pd.Series([sum(prognostic_diffs[x]>threshold)!=0 for x in prognostic_diffs], name = name, index = model_info.index)\n",
    "\n",
    "standard_model_info, standard_prognostic_T, standard_prognostic_Q = get_model_info('standard')\n",
    "specific_model_info, specific_prognostic_T, specific_prognostic_Q = get_model_info('specific')\n",
    "nomemory_model_info, nomemory_prognostic_T, nomemory_prognostic_Q = get_model_info('nomemory')\n",
    "nowind_model_info, nowind_prognostic_T, nowind_prognostic_Q = get_model_info('nowind')\n",
    "noozone_model_info, noozone_prognostic_T, noozone_prognostic_Q = get_model_info('noozone')\n",
    "nocoszrs_model_info, nocoszrs_prognostic_T, nocoszrs_prognostic_Q = get_model_info('nocoszrs')\n",
    "mae_model_info, mae_prognostic_T, mae_prognostic_Q = get_model_info('mae')\n",
    "nodropout_model_info, nodropout_prognostic_T, nodropout_prognostic_Q = get_model_info('nodropout')\n",
    "multiclimate_model_info, multiclimate_prognostic_T, multiclimate_prognostic_Q = get_model_info('multiclimate')\n",
    "\n",
    "config_dict = {\n",
    "    'standard': standard_model_info,\n",
    "    'specific': specific_model_info,\n",
    "    'nomemory': nomemory_model_info,\n",
    "    'nowind': nowind_model_info,\n",
    "    'noozone': noozone_model_info,\n",
    "    'nocoszrs': nocoszrs_model_info,\n",
    "    'mae': mae_model_info,\n",
    "    'nodropout': nodropout_model_info,\n",
    "    'multiclimate': multiclimate_model_info\n",
    "}\n",
    "\n",
    "survived_dict = {\n",
    "    'standard': standard_model_info[standard_model_info['num_months']==12].copy(),\n",
    "    'specific': specific_model_info[specific_model_info['num_months']==12].copy(),\n",
    "    'nomemory': nomemory_model_info[nomemory_model_info['num_months']==12].copy(),\n",
    "    'nowind': nowind_model_info[nowind_model_info['num_months']==12].copy(),\n",
    "    'noozone': noozone_model_info[noozone_model_info['num_months']==12].copy(),\n",
    "    'nocoszrs': nocoszrs_model_info[nocoszrs_model_info['num_months']==12].copy(),\n",
    "    'mae': mae_model_info[mae_model_info['num_months']==12].copy(),\n",
    "    'nodropout': nodropout_model_info[nodropout_model_info['num_months']==12].copy(),\n",
    "    'multiclimate': multiclimate_model_info[multiclimate_model_info['num_months']==12].copy()\n",
    "}\n",
    "\n",
    "for config_name in survived_dict:\n",
    "    survived_dict[config_name].loc[:, 'config_name'] = config_name\n",
    "\n",
    "combined_df = pd.concat([survived_dict['standard'], \\\n",
    "                         survived_dict['specific'], \\\n",
    "                         survived_dict['nomemory'], \\\n",
    "                         survived_dict['nowind'], \\\n",
    "                         survived_dict['noozone'], \\\n",
    "                         survived_dict['nocoszrs'], \\\n",
    "                         survived_dict['mae'], \\\n",
    "                         survived_dict['nodropout'], \\\n",
    "                         survived_dict['multiclimate']])\n",
    "\n",
    "online_temperature_overall = pd.concat([survived_dict['standard']['online_temperature'], \\\n",
    "                                        survived_dict['specific']['offline_moistening'], \\\n",
    "                                        survived_dict['nomemory']['online_temperature'], \\\n",
    "                                        survived_dict['nowind']['online_temperature'], \\\n",
    "                                        survived_dict['noozone']['online_temperature'], \\\n",
    "                                        survived_dict['nocoszrs']['online_temperature'], \\\n",
    "                                        survived_dict['mae']['online_temperature'], \\\n",
    "                                        survived_dict['nodropout']['online_temperature'], \\\n",
    "                                        survived_dict['multiclimate']['online_temperature']], axis = 0)\n",
    "                            \n",
    "online_moisture_overall = pd.concat([survived_dict['standard']['online_moisture'], \\\n",
    "                                     survived_dict['specific']['offline_moistening'], \\\n",
    "                                     survived_dict['nomemory']['online_moisture'], \\\n",
    "                                     survived_dict['nowind']['online_moisture'], \\\n",
    "                                     survived_dict['noozone']['online_moisture'], \\\n",
    "                                     survived_dict['nocoszrs']['online_moisture'], \\\n",
    "                                     survived_dict['mae']['online_moisture'], \\\n",
    "                                     survived_dict['nodropout']['online_moisture'], \\\n",
    "                                     survived_dict['multiclimate']['online_moisture']], axis = 0)\n",
    "\n",
    "def get_top_models(config_name):\n",
    "    top_models = set(sorted(list(survived_dict[config_name].sort_values('online_temperature').head().index) + list(survived_dict[config_name].sort_values('online_moisture').head().index)))\n",
    "    print(len(top_models))\n",
    "    return top_models\n"
   ]
  },
  {
   "cell_type": "code",
   "execution_count": 4,
   "metadata": {},
   "outputs": [
    {
     "name": "stdout",
     "output_type": "stream",
     "text": [
      "9\n"
     ]
    },
    {
     "data": {
      "text/plain": [
       "{5, 14, 17, 26, 27, 38, 46, 50, 155}"
      ]
     },
     "execution_count": 4,
     "metadata": {},
     "output_type": "execute_result"
    }
   ],
   "source": [
    "get_top_models('standard')"
   ]
  },
  {
   "cell_type": "code",
   "execution_count": 5,
   "metadata": {},
   "outputs": [
    {
     "name": "stdout",
     "output_type": "stream",
     "text": [
      "8\n"
     ]
    },
    {
     "data": {
      "text/plain": [
       "{5, 11, 16, 48, 53, 92, 118, 150}"
      ]
     },
     "execution_count": 5,
     "metadata": {},
     "output_type": "execute_result"
    }
   ],
   "source": [
    "get_top_models('specific')"
   ]
  },
  {
   "cell_type": "code",
   "execution_count": 6,
   "metadata": {},
   "outputs": [
    {
     "name": "stdout",
     "output_type": "stream",
     "text": [
      "8\n"
     ]
    },
    {
     "data": {
      "text/plain": [
       "{7, 12, 16, 22, 25, 48, 96, 98}"
      ]
     },
     "execution_count": 6,
     "metadata": {},
     "output_type": "execute_result"
    }
   ],
   "source": [
    "get_top_models('nomemory')"
   ]
  },
  {
   "cell_type": "code",
   "execution_count": 7,
   "metadata": {},
   "outputs": [
    {
     "name": "stdout",
     "output_type": "stream",
     "text": [
      "8\n"
     ]
    },
    {
     "data": {
      "text/plain": [
       "{1, 54, 59, 100, 101, 105, 108, 113}"
      ]
     },
     "execution_count": 7,
     "metadata": {},
     "output_type": "execute_result"
    }
   ],
   "source": [
    "get_top_models('nowind')"
   ]
  },
  {
   "cell_type": "code",
   "execution_count": 8,
   "metadata": {},
   "outputs": [
    {
     "name": "stdout",
     "output_type": "stream",
     "text": [
      "9\n"
     ]
    },
    {
     "data": {
      "text/plain": [
       "{2, 10, 22, 46, 51, 65, 66, 95, 109}"
      ]
     },
     "execution_count": 8,
     "metadata": {},
     "output_type": "execute_result"
    }
   ],
   "source": [
    "get_top_models('noozone')"
   ]
  },
  {
   "cell_type": "code",
   "execution_count": 9,
   "metadata": {},
   "outputs": [
    {
     "name": "stdout",
     "output_type": "stream",
     "text": [
      "8\n"
     ]
    },
    {
     "data": {
      "text/plain": [
       "{4, 14, 16, 34, 50, 61, 77, 120}"
      ]
     },
     "execution_count": 9,
     "metadata": {},
     "output_type": "execute_result"
    }
   ],
   "source": [
    "get_top_models('nocoszrs')"
   ]
  },
  {
   "cell_type": "code",
   "execution_count": 10,
   "metadata": {},
   "outputs": [
    {
     "name": "stdout",
     "output_type": "stream",
     "text": [
      "6\n"
     ]
    },
    {
     "data": {
      "text/plain": [
       "{2, 7, 8, 17, 18, 19}"
      ]
     },
     "execution_count": 10,
     "metadata": {},
     "output_type": "execute_result"
    }
   ],
   "source": [
    "get_top_models('mae')"
   ]
  },
  {
   "cell_type": "code",
   "execution_count": 11,
   "metadata": {},
   "outputs": [
    {
     "name": "stdout",
     "output_type": "stream",
     "text": [
      "10\n"
     ]
    },
    {
     "data": {
      "text/plain": [
       "{5, 28, 152, 158, 204, 217, 269, 278, 301, 317}"
      ]
     },
     "execution_count": 11,
     "metadata": {},
     "output_type": "execute_result"
    }
   ],
   "source": [
    "get_top_models('nodropout')"
   ]
  },
  {
   "cell_type": "code",
   "execution_count": 12,
   "metadata": {},
   "outputs": [
    {
     "name": "stdout",
     "output_type": "stream",
     "text": [
      "9\n"
     ]
    },
    {
     "data": {
      "text/plain": [
       "{13, 24, 43, 50, 59, 70, 81, 98, 108}"
      ]
     },
     "execution_count": 12,
     "metadata": {},
     "output_type": "execute_result"
    }
   ],
   "source": [
    "get_top_models('multiclimate')"
   ]
  },
  {
   "cell_type": "code",
   "execution_count": 21,
   "metadata": {},
   "outputs": [
    {
     "data": {
      "text/plain": [
       "4.697489023621918e-13"
      ]
     },
     "execution_count": 21,
     "metadata": {},
     "output_type": "execute_result"
    }
   ],
   "source": [
    "standard_model_info['offline_heating'].describe()['std']**2"
   ]
  },
  {
   "cell_type": "code",
   "execution_count": 28,
   "metadata": {},
   "outputs": [
    {
     "data": {
      "text/plain": [
       "count    3.300000e+02\n",
       "mean     2.233679e-05\n",
       "std      6.853823e-07\n",
       "min      2.096917e-05\n",
       "25%      2.180873e-05\n",
       "50%      2.224929e-05\n",
       "75%      2.282469e-05\n",
       "max      2.447762e-05\n",
       "Name: offline_heating, dtype: float64"
      ]
     },
     "execution_count": 28,
     "metadata": {},
     "output_type": "execute_result"
    }
   ],
   "source": [
    "standard_model_info['offline_heating'].describe()"
   ]
  },
  {
   "cell_type": "code",
   "execution_count": 20,
   "metadata": {},
   "outputs": [
    {
     "data": {
      "text/plain": [
       "1.8422675403501213e-13"
      ]
     },
     "execution_count": 20,
     "metadata": {},
     "output_type": "execute_result"
    }
   ],
   "source": [
    "standard_model_info['offline_moistening'].describe()['std']**2"
   ]
  },
  {
   "cell_type": "code",
   "execution_count": 29,
   "metadata": {},
   "outputs": [
    {
     "data": {
      "text/plain": [
       "count    3.300000e+02\n",
       "mean     2.040827e-05\n",
       "std      4.292164e-07\n",
       "min      1.944032e-05\n",
       "25%      2.008001e-05\n",
       "50%      2.041133e-05\n",
       "75%      2.073622e-05\n",
       "max      2.161173e-05\n",
       "Name: offline_moistening, dtype: float64"
      ]
     },
     "execution_count": 29,
     "metadata": {},
     "output_type": "execute_result"
    }
   ],
   "source": [
    "standard_model_info['offline_moistening'].describe()"
   ]
  },
  {
   "cell_type": "code",
   "execution_count": 19,
   "metadata": {},
   "outputs": [
    {
     "data": {
      "text/plain": [
       "1.0700628951486035e-13"
      ]
     },
     "execution_count": 19,
     "metadata": {},
     "output_type": "execute_result"
    }
   ],
   "source": [
    "nodropout_model_info['offline_heating'].describe()['std']**2"
   ]
  },
  {
   "cell_type": "code",
   "execution_count": 41,
   "metadata": {},
   "outputs": [
    {
     "data": {
      "text/plain": [
       "count    3.300000e+02\n",
       "mean     2.232633e-05\n",
       "std      7.615547e-07\n",
       "min      2.087760e-05\n",
       "25%      2.173532e-05\n",
       "50%      2.227286e-05\n",
       "75%      2.283992e-05\n",
       "max      2.470938e-05\n",
       "Name: offline_heating, dtype: float64"
      ]
     },
     "execution_count": 41,
     "metadata": {},
     "output_type": "execute_result"
    }
   ],
   "source": [
    "multiclimate_model_info['offline_heating'].describe()"
   ]
  },
  {
   "cell_type": "code",
   "execution_count": 30,
   "metadata": {},
   "outputs": [
    {
     "data": {
      "text/plain": [
       "count    3.300000e+02\n",
       "mean     2.145106e-05\n",
       "std      3.271182e-07\n",
       "min      2.080738e-05\n",
       "25%      2.125139e-05\n",
       "50%      2.140811e-05\n",
       "75%      2.158145e-05\n",
       "max      2.394297e-05\n",
       "Name: offline_heating, dtype: float64"
      ]
     },
     "execution_count": 30,
     "metadata": {},
     "output_type": "execute_result"
    }
   ],
   "source": [
    "nodropout_model_info['offline_heating'].describe()"
   ]
  },
  {
   "cell_type": "code",
   "execution_count": 23,
   "metadata": {},
   "outputs": [
    {
     "data": {
      "text/plain": [
       "4.608093124020497e-14"
      ]
     },
     "execution_count": 23,
     "metadata": {},
     "output_type": "execute_result"
    }
   ],
   "source": [
    "nodropout_model_info['offline_moistening'].describe()['std']**2"
   ]
  },
  {
   "cell_type": "code",
   "execution_count": 53,
   "metadata": {},
   "outputs": [
    {
     "data": {
      "text/plain": [
       "count    3.300000e+02\n",
       "mean     2.029807e-05\n",
       "std      6.122576e-07\n",
       "min      1.908866e-05\n",
       "25%      1.985188e-05\n",
       "50%      2.030701e-05\n",
       "75%      2.077047e-05\n",
       "max      2.193616e-05\n",
       "Name: offline_moistening, dtype: float64"
      ]
     },
     "execution_count": 53,
     "metadata": {},
     "output_type": "execute_result"
    }
   ],
   "source": [
    "mae_model_info['offline_moistening'].describe()"
   ]
  },
  {
   "cell_type": "code",
   "execution_count": 31,
   "metadata": {},
   "outputs": [
    {
     "data": {
      "text/plain": [
       "count    3.300000e+02\n",
       "mean     1.977750e-05\n",
       "std      2.146647e-07\n",
       "min      1.934995e-05\n",
       "25%      1.964927e-05\n",
       "50%      1.975770e-05\n",
       "75%      1.986903e-05\n",
       "max      2.134857e-05\n",
       "Name: offline_moistening, dtype: float64"
      ]
     },
     "execution_count": 31,
     "metadata": {},
     "output_type": "execute_result"
    }
   ],
   "source": [
    "nodropout_model_info['offline_moistening'].describe()"
   ]
  },
  {
   "cell_type": "code",
   "execution_count": 22,
   "metadata": {},
   "outputs": [
    {
     "data": {
      "text/plain": [
       "0.7722053442237636"
      ]
     },
     "execution_count": 22,
     "metadata": {},
     "output_type": "execute_result"
    }
   ],
   "source": [
    "(4.697489023621918e-13 - 1.0700628951486035e-13)/4.697489023621918e-13"
   ]
  },
  {
   "cell_type": "code",
   "execution_count": 24,
   "metadata": {},
   "outputs": [
    {
     "data": {
      "text/plain": [
       "0.7498684081930503"
      ]
     },
     "execution_count": 24,
     "metadata": {},
     "output_type": "execute_result"
    }
   ],
   "source": [
    "(1.8422675403501213e-13 - 4.608093124020497e-14)/1.8422675403501213e-13"
   ]
  },
  {
   "cell_type": "code",
   "execution_count": 25,
   "metadata": {},
   "outputs": [
    {
     "data": {
      "text/plain": [
       "0.02"
      ]
     },
     "execution_count": 25,
     "metadata": {},
     "output_type": "execute_result"
    }
   ],
   "source": [
    "np.var([.1,.2,.3,.4,.5,.6,.7,.8,.9,1])"
   ]
  },
  {
   "cell_type": "code",
   "execution_count": 27,
   "metadata": {},
   "outputs": [
    {
     "data": {
      "text/plain": [
       "0.067164"
      ]
     },
     "execution_count": 27,
     "metadata": {},
     "output_type": "execute_result"
    }
   ],
   "source": [
    "np.var([.1,.11,.12,.13,.14,.15,.16,.17,.18,1])"
   ]
  },
  {
   "cell_type": "markdown",
   "metadata": {},
   "source": [
    "# Offline story"
   ]
  },
  {
   "cell_type": "code",
   "execution_count": null,
   "metadata": {},
   "outputs": [],
   "source": [
    "fig, axs = plt.subplots(2, 2, figsize=(10, 10))\n",
    "title_fontsize = 12.1\n",
    "\n",
    "heating_standard, = axs[0,0].plot(np.arange(330), standard_model_info['offline_heating'], color = color_dict['standard'], label='standard')\n",
    "heating_nowind, = axs[0,0].plot(np.arange(330), nowind_model_info['offline_heating'], color = color_dict['nowind'], label='no wind')\n",
    "heating_noozone, = axs[0,0].plot(np.arange(330), noozone_model_info['offline_heating'], color = color_dict['noozone'], label='no ozone')\n",
    "heating_nocoszrs, = axs[0,0].plot(np.arange(330), nocoszrs_model_info['offline_heating'], color = color_dict['nocoszrs'], label='no zenith angle')\n",
    "\n",
    "heating_standard, = axs[1,0].plot(np.arange(330), standard_model_info['offline_heating'], color = color_dict['standard'], label='standard')\n",
    "heating_specific = axs[1,0].plot(np.arange(330), specific_model_info['offline_heating'], color = color_dict['specific'], label='specific humidity')\n",
    "heating_mae, = axs[1,0].plot(np.arange(330), mae_model_info['offline_heating'], color = color_dict['mae'], label='MAE')\n",
    "heating_nodropout, = axs[1,0].plot(np.arange(330), nodropout_model_info['offline_heating'], color = color_dict['nodropout'], label='no dropout')\n",
    "heating_multiclimate, = axs[1,0].plot(np.arange(330), multiclimate_model_info['offline_heating'], color = color_dict['multiclimate'], label='multiclimate')\n",
    "\n",
    "moistening_standard, = axs[0,1].plot(np.arange(330), standard_model_info['offline_moistening'], color = color_dict['standard'], label='standard')\n",
    "moistening_nowind, = axs[0,1].plot(np.arange(330), nowind_model_info['offline_moistening'], color = color_dict['nowind'], label='no wind')\n",
    "moistening_noozone, = axs[0,1].plot(np.arange(330), noozone_model_info['offline_moistening'], color = color_dict['noozone'], label='no ozone')\n",
    "moistening_nocoszrs, = axs[0,1].plot(np.arange(330), nocoszrs_model_info['offline_moistening'], color = color_dict['nocoszrs'], label='no zenith angle')\n",
    "\n",
    "moistening_standard, = axs[1,1].plot(np.arange(330), standard_model_info['offline_moistening'], color = color_dict['standard'], label='standard')\n",
    "moistening_specific, = axs[1,1].plot(np.arange(330), specific_model_info['offline_moistening'], color = color_dict['specific'], label='specific humidity')\n",
    "moistening_mae, = axs[1,1].plot(np.arange(330), mae_model_info['offline_moistening'], color = color_dict['mae'], label='MAE')\n",
    "moistening_nodropout, = axs[1,1].plot(np.arange(330), nodropout_model_info['offline_moistening'], color = color_dict['nodropout'], label='no dropout')\n",
    "moistening_multiclimate, = axs[1,1].plot(np.arange(330), multiclimate_model_info['offline_moistening'], color = color_dict['multiclimate'], label='multiclimate')\n",
    "\n",
    "axs[0,0].yaxis.get_offset_text().set_size(8) \n",
    "axs[0,0].set_title('Offline Heating Root Mean Squared Error', fontsize = title_fontsize)\n",
    "axs[1,0].set_xlabel('model rank', fontsize = 12.5)\n",
    "axs[0,0].set_ylabel('K/s')\n",
    "axs[1,0].set_ylabel('K/s')\n",
    "axs[0,0].set_ylim(2e-5, 2.5e-5)\n",
    "axs[1,0].set_ylim(2e-5, 2.5e-5)\n",
    "axs[0,0].grid(True, which=\"both\", ls=\"--\")\n",
    "axs[1,0].grid(True, which=\"both\", ls=\"--\")\n",
    "\n",
    "axs[0,1].yaxis.get_offset_text().set_size(8) \n",
    "axs[0,1].set_title('Offline Moistening Root Mean Squared Error', fontsize = title_fontsize)\n",
    "axs[1,1].set_xlabel('model rank', fontsize = 12.5)\n",
    "axs[0,1].set_ylabel('g/kg')\n",
    "axs[1,1].set_ylabel('g/kg')\n",
    "axs[0,1].set_ylim(1.8e-5, 2.4e-5)\n",
    "axs[1,1].set_ylim(1.8e-5, 2.4e-5)\n",
    "axs[0,1].grid(True, which=\"both\", ls=\"--\")\n",
    "axs[1,1].grid(True, which=\"both\", ls=\"--\")\n",
    "\n",
    "axs[0,1].legend([moistening_standard, \\\n",
    "               moistening_nowind, \\\n",
    "               moistening_noozone, \\\n",
    "               moistening_nocoszrs], \\\n",
    "               ['standard', 'no wind', 'no ozone', 'no zenith angle'], loc='upper right', fontsize = 11.3)\n",
    "axs[1,1].legend([moistening_standard, \\\n",
    "               moistening_specific, \\\n",
    "               moistening_mae, \\\n",
    "               moistening_nodropout, \\\n",
    "               moistening_multiclimate], \\\n",
    "               ['standard', 'specific humidity', 'MAE', 'no dropout', 'multiclimate'], loc='upper right', fontsize = 11.3)\n",
    "sublabels = ['a', 'b', 'c', 'd']\n",
    "for i, ax in enumerate(axs.flat):\n",
    "    ax.text(-0.1, 1.05, sublabels[i], transform=ax.transAxes,\n",
    "            fontsize=14, va='top', ha='right')\n",
    "\n",
    "plt.tight_layout()\n",
    "plt.show()"
   ]
  },
  {
   "cell_type": "code",
   "execution_count": null,
   "metadata": {},
   "outputs": [],
   "source": []
  },
  {
   "cell_type": "code",
   "execution_count": null,
   "metadata": {},
   "outputs": [],
   "source": [
    "fig, axs = plt.subplots(3, 2, figsize=(10, 15))\n",
    "title_fontsize = 12.1\n",
    "\n",
    "heating_standard, = axs[0,0].plot(np.arange(330), standard_model_info['offline_heating'], color = color_dict['standard'], label='standard')\n",
    "heating_specific = axs[0,0].plot(np.arange(330), specific_model_info['offline_heating'], color = color_dict['specific'], label='specific humidity')\n",
    "heating_nomemory, = axs[0,0].plot(np.arange(330), nomemory_model_info['offline_heating'], color = color_dict['nomemory'], label='no memory')\n",
    "heating_nowind, = axs[0,0].plot(np.arange(330), nowind_model_info['offline_heating'], color = color_dict['nowind'], label='no wind')\n",
    "heating_noozone, = axs[0,0].plot(np.arange(330), noozone_model_info['offline_heating'], color = color_dict['noozone'], label='no ozone')\n",
    "heating_nocoszrs, = axs[0,0].plot(np.arange(330), nocoszrs_model_info['offline_heating'], color = color_dict['nocoszrs'], label='no zenith angle')\n",
    "heating_mae, = axs[0,0].plot(np.arange(330), mae_model_info['offline_heating'], color = color_dict['mae'], label='MAE')\n",
    "heating_nodropout, = axs[0,0].plot(np.arange(330), nodropout_model_info['offline_heating'], color = color_dict['nodropout'], label='no dropout')\n",
    "heating_multiclimate, = axs[0,0].plot(np.arange(330), multiclimate_model_info['offline_heating'], color = color_dict['multiclimate'], label='multiclimate')\n",
    "\n",
    "heating_standard, = axs[1,0].plot(np.arange(330), standard_model_info['offline_heating'], color = color_dict['standard'], label='standard')\n",
    "heating_nowind, = axs[1,0].plot(np.arange(330), nowind_model_info['offline_heating'], color = color_dict['nowind'], label='no wind')\n",
    "heating_noozone, = axs[1,0].plot(np.arange(330), noozone_model_info['offline_heating'], color = color_dict['noozone'], label='no ozone')\n",
    "heating_nocoszrs, = axs[1,0].plot(np.arange(330), nocoszrs_model_info['offline_heating'], color = color_dict['nocoszrs'], label='no zenith angle')\n",
    "\n",
    "heating_standard, = axs[2,0].plot(np.arange(330), standard_model_info['offline_heating'], color = color_dict['standard'], label='standard')\n",
    "heating_specific = axs[2,0].plot(np.arange(330), specific_model_info['offline_heating'], color = color_dict['specific'], label='specific humidity')\n",
    "heating_mae, = axs[2,0].plot(np.arange(330), mae_model_info['offline_heating'], color = color_dict['mae'], label='MAE')\n",
    "heating_nodropout, = axs[2,0].plot(np.arange(330), nodropout_model_info['offline_heating'], color = color_dict['nodropout'], label='no dropout')\n",
    "heating_multiclimate, = axs[2,0].plot(np.arange(330), multiclimate_model_info['offline_heating'], color = color_dict['multiclimate'], label='multiclimate')\n",
    "\n",
    "moistening_standard, = axs[0,1].plot(np.arange(330), standard_model_info['offline_moistening'], color = color_dict['standard'], label='standard')\n",
    "moistening_specific, = axs[0,1].plot(np.arange(330), specific_model_info['offline_moistening'], color = color_dict['specific'], label='specific humidity')\n",
    "moistening_nomemory, = axs[0,1].plot(np.arange(330), nomemory_model_info['offline_moistening'], color = color_dict['nomemory'], label='no memory')\n",
    "moistening_nowind, = axs[0,1].plot(np.arange(330), nowind_model_info['offline_moistening'], color = color_dict['nowind'], label='no wind')\n",
    "moistening_noozone, = axs[0,1].plot(np.arange(330), noozone_model_info['offline_moistening'], color = color_dict['noozone'], label='no ozone')\n",
    "moistening_nocoszrs, = axs[0,1].plot(np.arange(330), nocoszrs_model_info['offline_moistening'], color = color_dict['nocoszrs'], label='no zenith angle')\n",
    "moistening_mae, = axs[0,1].plot(np.arange(330), mae_model_info['offline_moistening'], color = color_dict['mae'], label='MAE')\n",
    "moistening_nodropout, = axs[0,1].plot(np.arange(330), nodropout_model_info['offline_moistening'], color = color_dict['nodropout'], label='no dropout')\n",
    "moistening_multiclimate, = axs[0,1].plot(np.arange(330), multiclimate_model_info['offline_moistening'], color = color_dict['multiclimate'], label='multiclimate')\n",
    "\n",
    "moistening_standard, = axs[1,1].plot(np.arange(330), standard_model_info['offline_moistening'], color = color_dict['standard'], label='standard')\n",
    "moistening_nowind, = axs[1,1].plot(np.arange(330), nowind_model_info['offline_moistening'], color = color_dict['nowind'], label='no wind')\n",
    "moistening_noozone, = axs[1,1].plot(np.arange(330), noozone_model_info['offline_moistening'], color = color_dict['noozone'], label='no ozone')\n",
    "moistening_nocoszrs, = axs[1,1].plot(np.arange(330), nocoszrs_model_info['offline_moistening'], color = color_dict['nocoszrs'], label='no zenith angle')\n",
    "\n",
    "moistening_standard, = axs[2,1].plot(np.arange(330), standard_model_info['offline_moistening'], color = color_dict['standard'], label='standard')\n",
    "moistening_specific, = axs[2,1].plot(np.arange(330), specific_model_info['offline_moistening'], color = color_dict['specific'], label='specific humidity')\n",
    "moistening_mae, = axs[2,1].plot(np.arange(330), mae_model_info['offline_moistening'], color = color_dict['mae'], label='MAE')\n",
    "moistening_nodropout, = axs[2,1].plot(np.arange(330), nodropout_model_info['offline_moistening'], color = color_dict['nodropout'], label='no dropout')\n",
    "moistening_multiclimate, = axs[2,1].plot(np.arange(330), multiclimate_model_info['offline_moistening'], color = color_dict['multiclimate'], label='multiclimate')\n",
    "\n",
    "axs[0,0].yaxis.get_offset_text().set_size(8) \n",
    "axs[0,0].set_title('Offline Heating Root Mean Squared Error', fontsize = title_fontsize)\n",
    "axs[2,0].set_xlabel('model rank', fontsize = 12.5)\n",
    "axs[0,0].set_ylabel('K/s')\n",
    "axs[1,0].set_ylabel('K/s')\n",
    "axs[2,0].set_ylabel('K/s')\n",
    "axs[0,0].set_ylim(1e-5, 5e-5)\n",
    "axs[1,0].set_ylim(2e-5, 2.5e-5)\n",
    "axs[2,0].set_ylim(2e-5, 2.5e-5)\n",
    "axs[0,0].grid(True, which=\"both\", ls=\"--\")\n",
    "axs[1,0].grid(True, which=\"both\", ls=\"--\")\n",
    "axs[2,0].grid(True, which=\"both\", ls=\"--\")\n",
    "axs[0,0].axhline(y = average_heating_rmse, color='#8B4513', linestyle='--', label='average heating RMSE')\n",
    "axs[0,0].axhline(y = martingale_heating_rmse, color='#FF00FF', linestyle='--', label='martingale heating RMSE')\n",
    "axs[0,0].axhline(y = mlr_heating_rmse, color='#00FFFF', linestyle='--', label='MLR heating RMSE')\n",
    "\n",
    "axs[0,1].yaxis.get_offset_text().set_size(8) \n",
    "axs[0,1].set_title('Offline Moistening Root Mean Squared Error', fontsize = title_fontsize)\n",
    "axs[2,1].set_xlabel('model rank', fontsize = 12.5)\n",
    "axs[0,1].set_ylabel('g/kg')\n",
    "axs[1,1].set_ylabel('g/kg')\n",
    "axs[2,1].set_ylabel('g/kg')\n",
    "axs[0,1].set_ylim(1e-5, 5e-5)\n",
    "axs[1,1].set_ylim(1.8e-5, 2.4e-5)\n",
    "axs[2,1].set_ylim(1.8e-5, 2.4e-5)\n",
    "axs[0,1].grid(True, which=\"both\", ls=\"--\")\n",
    "axs[1,1].grid(True, which=\"both\", ls=\"--\")\n",
    "axs[2,1].grid(True, which=\"both\", ls=\"--\")\n",
    "line_average = axs[0,1].axhline(y = average_moistening_rmse, color='#8B4513', linestyle='--', label='average moistening RMSE')\n",
    "line_martingale = axs[0,1].axhline(y = martingale_moistening_rmse, color='#FF00FF', linestyle='--', label='martingale moistening RMSE')\n",
    "line_mlr = axs[0,1].axhline(y = mlr_moistening_rmse, color='#00FFFF', linestyle='--', label='MLR moistening RMSE')\n",
    "axs[0,1].legend([line_average, \\\n",
    "               line_martingale, \\\n",
    "               line_mlr, \\\n",
    "               moistening_standard, \\\n",
    "               moistening_specific, \\\n",
    "               moistening_nomemory, \\\n",
    "               moistening_nowind, \\\n",
    "               moistening_noozone, \\\n",
    "               moistening_nocoszrs, \\\n",
    "               moistening_mae, \\\n",
    "               moistening_nodropout, \\\n",
    "               moistening_multiclimate], \\\n",
    "               ['average', 'martingale', 'MLR'] + config_names, loc='upper right', ncol = 2, fontsize = 11.3)\n",
    "axs[1,1].legend([moistening_standard, \\\n",
    "               moistening_nowind, \\\n",
    "               moistening_noozone, \\\n",
    "               moistening_nocoszrs], \\\n",
    "               ['standard', 'no wind', 'no ozone', 'no zenith angle'], loc='upper right', fontsize = 11.3)\n",
    "axs[2,1].legend([moistening_standard, \\\n",
    "               moistening_specific, \\\n",
    "               moistening_mae, \\\n",
    "               moistening_nodropout, \\\n",
    "               moistening_multiclimate], \\\n",
    "               ['standard', 'specific humidity', 'MAE', 'no dropout', 'multiclimate'], loc='upper right', fontsize = 11.3)\n",
    "sublabels = ['a', 'b', 'c', 'd', 'e', 'f']\n",
    "for i, ax in enumerate(axs.flat):\n",
    "    ax.text(-0.1, 1.05, sublabels[i], transform=ax.transAxes,\n",
    "            fontsize=14, va='top', ha='right')\n",
    "\n",
    "plt.tight_layout()\n",
    "plt.show()"
   ]
  },
  {
   "cell_type": "code",
   "execution_count": null,
   "metadata": {},
   "outputs": [],
   "source": [
    "plt.plot(np.arange(330), standard_model_info['offline_heating'], color = color_dict['standard'], label='standard')\n",
    "plt.plot(np.arange(330), nowind_model_info['offline_heating'], color = color_dict['nowind'], label='no wind')\n",
    "plt.plot(np.arange(330), noozone_model_info['offline_heating'], color = color_dict['noozone'], label='no ozone')\n",
    "plt.plot(np.arange(330), nocoszrs_model_info['offline_heating'], color = color_dict['nocoszrs'], label='no zenith angle')\n",
    "plt.plot(np.arange(330), multiclimate_model_info['offline_heating'], color = color_dict['multiclimate'], label='multiclimate')\n",
    "plt.legend()"
   ]
  },
  {
   "cell_type": "markdown",
   "metadata": {},
   "source": [
    "# Online story"
   ]
  },
  {
   "cell_type": "code",
   "execution_count": null,
   "metadata": {},
   "outputs": [],
   "source": [
    "fig, axs = plt.subplots(2, 4, figsize=(14, 8))\n",
    "alpha = .5\n",
    "# Define the number of bins and bin edges\n",
    "bins = np.linspace(0, 10, 50)\n",
    "\n",
    "# Plot histograms\n",
    "axs[0,0].hist(survived_dict['standard']['online_temperature'], bins = bins, label=label_dict['standard'], color = color_dict['standard'], alpha = alpha)\n",
    "axs[0,0].hist(survived_dict['specific']['online_temperature'], bins = bins, label=label_dict['specific'], color = color_dict['specific'], alpha = alpha)\n",
    "axs[0,0].set_ylim(0, 30)\n",
    "axs[0,0].set_xlim(0, 10)\n",
    "axs[0,0].set_ylabel('count')\n",
    "\n",
    "axs[0,0].legend()\n",
    "\n",
    "axs[0,1].hist(survived_dict['standard']['online_temperature'], bins = bins, label=label_dict['standard'], color = color_dict['standard'], alpha = alpha)\n",
    "axs[0,1].hist(survived_dict['nomemory']['online_temperature'], bins = bins, label=label_dict['nomemory'], color = color_dict['nomemory'], alpha = alpha)\n",
    "axs[0,1].set_ylim(0, 30)\n",
    "axs[0,1].set_xlim(0, 10)\n",
    "axs[0,1].legend()\n",
    "\n",
    "axs[0,2].hist(survived_dict['standard']['online_temperature'], bins = bins, label=label_dict['standard'], color = color_dict['standard'], alpha = alpha)\n",
    "axs[0,2].hist(survived_dict['nowind']['online_temperature'], bins = bins, label=label_dict['nowind'], color = color_dict['nowind'], alpha = alpha)\n",
    "axs[0,2].set_ylim(0, 30)\n",
    "axs[0,2].set_xlim(0, 10)\n",
    "axs[0,2].legend()\n",
    "\n",
    "axs[0,3].hist(survived_dict['standard']['online_temperature'], bins = bins, label=label_dict['standard'], color = color_dict['standard'], alpha = alpha)\n",
    "axs[0,3].hist(survived_dict['noozone']['online_temperature'], bins = bins, label=label_dict['noozone'], color = color_dict['noozone'], alpha = alpha)\n",
    "axs[0,3].set_ylim(0, 30)\n",
    "axs[0,3].set_xlim(0, 10)\n",
    "axs[0,3].legend()\n",
    "\n",
    "axs[1,0].hist(survived_dict['standard']['online_temperature'], bins = bins, label=label_dict['standard'], color = color_dict['standard'], alpha = alpha)\n",
    "axs[1,0].hist(survived_dict['nocoszrs']['online_temperature'], bins = bins, label=label_dict['nocoszrs'], color = color_dict['nocoszrs'], alpha = alpha)\n",
    "axs[1,0].set_ylim(0, 30)\n",
    "axs[1,0].set_xlim(0, 10)\n",
    "axs[1,0].legend()\n",
    "axs[1,0].set_xlabel('Online Temperature RMSE (K)')\n",
    "axs[1,0].set_ylabel('count')\n",
    "\n",
    "axs[1,1].hist(survived_dict['standard']['online_temperature'], bins = bins, label=label_dict['standard'], color = color_dict['standard'], alpha = alpha)\n",
    "axs[1,1].hist(survived_dict['mae']['online_temperature'], bins = bins, label=label_dict['mae'], color = color_dict['mae'], alpha = alpha)\n",
    "axs[1,1].set_ylim(0, 30)\n",
    "axs[1,1].set_xlim(0, 10)\n",
    "axs[1,1].legend()\n",
    "axs[1,1].set_xlabel('Online Temperature RMSE (K)')\n",
    "\n",
    "axs[1,2].hist(survived_dict['standard']['online_temperature'], bins = bins, label=label_dict['standard'], color = color_dict['standard'], alpha = alpha)\n",
    "axs[1,2].hist(survived_dict['nodropout']['online_temperature'], bins = bins, label=label_dict['nodropout'], color = color_dict['nodropout'], alpha = alpha)\n",
    "axs[1,2].set_ylim(0, 30)\n",
    "axs[1,2].set_xlim(0, 10)\n",
    "axs[1,2].legend()\n",
    "axs[1,2].set_xlabel('Online Temperature RMSE (K)')\n",
    "\n",
    "axs[1,3].hist(survived_dict['standard']['online_temperature'], bins = bins, label=label_dict['standard'], color = color_dict['standard'], alpha = alpha)\n",
    "axs[1,3].hist(survived_dict['multiclimate']['online_temperature'], bins = bins, label=label_dict['multiclimate'], color = color_dict['multiclimate'], alpha = alpha)\n",
    "axs[1,3].set_ylim(0, 30)\n",
    "axs[1,3].set_xlim(0, 10)\n",
    "axs[1,3].legend()\n",
    "axs[1,3].set_xlabel('Online Temperature RMSE (K)')\n",
    "\n",
    "axs[0,0].grid(True, which=\"both\", ls=\"--\")\n",
    "axs[0,1].grid(True, which=\"both\", ls=\"--\")\n",
    "axs[0,2].grid(True, which=\"both\", ls=\"--\")\n",
    "axs[0,3].grid(True, which=\"both\", ls=\"--\")\n",
    "axs[1,0].grid(True, which=\"both\", ls=\"--\")\n",
    "axs[1,1].grid(True, which=\"both\", ls=\"--\")\n",
    "axs[1,2].grid(True, which=\"both\", ls=\"--\")\n",
    "axs[1,3].grid(True, which=\"both\", ls=\"--\")\n",
    "\n",
    "sublabels = ['a', 'b', 'c', 'd', 'e', 'f', 'g', 'h']\n",
    "for i, ax in enumerate(axs.flat):\n",
    "    ax.text(-0.13, 1.05, sublabels[i], transform=ax.transAxes,\n",
    "            fontsize=13, va='top', ha='right')\n",
    "\n",
    "# Add legend and labels\n",
    "# plt.legend(loc='upper right')\n",
    "# plt.xlabel('K')\n",
    "# plt.xlim(0,10)\n",
    "# plt.ylabel('Frequency')\n",
    "# plt.title('Online Temperature Error')\n",
    "\n",
    "# Show the plot\n",
    "plt.show()"
   ]
  },
  {
   "cell_type": "code",
   "execution_count": null,
   "metadata": {},
   "outputs": [],
   "source": [
    "fig, axs = plt.subplots(2, 4, figsize=(14, 8))\n",
    "alpha = .5\n",
    "# Define the number of bins and bin edges\n",
    "bins = np.linspace(0, 2, 50)\n",
    "\n",
    "# Plot histograms\n",
    "axs[0,0].hist(survived_dict['standard']['online_moisture'], bins = bins, label=label_dict['standard'], color = color_dict['standard'], alpha = alpha)\n",
    "axs[0,0].hist(survived_dict['specific']['online_moisture'], bins = bins, label=label_dict['specific'], color = color_dict['specific'], alpha = alpha)\n",
    "axs[0,0].set_ylim(0, 30)\n",
    "axs[0,0].set_xlim(0, 2)\n",
    "axs[0,0].set_ylabel('count')\n",
    "\n",
    "axs[0,0].legend()\n",
    "\n",
    "axs[0,1].hist(survived_dict['standard']['online_moisture'], bins = bins, label=label_dict['standard'], color = color_dict['standard'], alpha = alpha)\n",
    "axs[0,1].hist(survived_dict['nomemory']['online_moisture'], bins = bins, label=label_dict['nomemory'], color = color_dict['nomemory'], alpha = alpha)\n",
    "axs[0,1].set_ylim(0, 30)\n",
    "axs[0,1].set_xlim(0, 2)\n",
    "axs[0,1].legend()\n",
    "\n",
    "axs[0,2].hist(survived_dict['standard']['online_moisture'], bins = bins, label=label_dict['standard'], color = color_dict['standard'], alpha = alpha)\n",
    "axs[0,2].hist(survived_dict['nowind']['online_moisture'], bins = bins, label=label_dict['nowind'], color = color_dict['nowind'], alpha = alpha)\n",
    "axs[0,2].set_ylim(0, 30)\n",
    "axs[0,2].set_xlim(0, 2)\n",
    "axs[0,2].legend()\n",
    "\n",
    "axs[0,3].hist(survived_dict['standard']['online_moisture'], bins = bins, label=label_dict['standard'], color = color_dict['standard'], alpha = alpha)\n",
    "axs[0,3].hist(survived_dict['noozone']['online_moisture'], bins = bins, label=label_dict['noozone'], color = color_dict['noozone'], alpha = alpha)\n",
    "axs[0,3].set_ylim(0, 30)\n",
    "axs[0,3].set_xlim(0, 2)\n",
    "axs[0,3].legend()\n",
    "\n",
    "axs[1,0].hist(survived_dict['standard']['online_moisture'], bins = bins, label=label_dict['standard'], color = color_dict['standard'], alpha = alpha)\n",
    "axs[1,0].hist(survived_dict['nocoszrs']['online_moisture'], bins = bins, label=label_dict['nocoszrs'], color = color_dict['nocoszrs'], alpha = alpha)\n",
    "axs[1,0].set_ylim(0, 30)\n",
    "axs[1,0].set_xlim(0, 2)\n",
    "axs[1,0].legend()\n",
    "axs[1,0].set_xlabel('Online Moisture RMSE (g/kg)')\n",
    "axs[1,0].set_ylabel('count')\n",
    "\n",
    "axs[1,1].hist(survived_dict['standard']['online_moisture'], bins = bins, label=label_dict['standard'], color = color_dict['standard'], alpha = alpha)\n",
    "axs[1,1].hist(survived_dict['mae']['online_moisture'], bins = bins, label=label_dict['mae'], color = color_dict['mae'], alpha = alpha)\n",
    "axs[1,1].set_ylim(0, 30)\n",
    "axs[1,1].set_xlim(0, 2)\n",
    "axs[1,1].legend()\n",
    "axs[1,1].set_xlabel('Online Moisture RMSE (g/kg)')\n",
    "\n",
    "axs[1,2].hist(survived_dict['standard']['online_moisture'], bins = bins, label=label_dict['standard'], color = color_dict['standard'], alpha = alpha)\n",
    "axs[1,2].hist(survived_dict['nodropout']['online_moisture'], bins = bins, label=label_dict['nodropout'], color = color_dict['nodropout'], alpha = alpha)\n",
    "axs[1,2].set_ylim(0, 30)\n",
    "axs[1,2].set_xlim(0, 2)\n",
    "axs[1,2].legend()\n",
    "axs[1,2].set_xlabel('Online Moisture RMSE (g/kg)')\n",
    "\n",
    "axs[1,3].hist(survived_dict['standard']['online_moisture'], bins = bins, label=label_dict['standard'], color = color_dict['standard'], alpha = alpha)\n",
    "axs[1,3].hist(survived_dict['multiclimate']['online_moisture'], bins = bins, label=label_dict['multiclimate'], color = color_dict['multiclimate'], alpha = alpha)\n",
    "axs[1,3].set_ylim(0, 30)\n",
    "axs[1,3].set_xlim(0, 2)\n",
    "axs[1,3].legend()\n",
    "axs[1,3].set_xlabel('Online Moisture RMSE (g/kg)')\n",
    "\n",
    "axs[0,0].grid(True, which=\"both\", ls=\"--\")\n",
    "axs[0,1].grid(True, which=\"both\", ls=\"--\")\n",
    "axs[0,2].grid(True, which=\"both\", ls=\"--\")\n",
    "axs[0,3].grid(True, which=\"both\", ls=\"--\")\n",
    "axs[1,0].grid(True, which=\"both\", ls=\"--\")\n",
    "axs[1,1].grid(True, which=\"both\", ls=\"--\")\n",
    "axs[1,2].grid(True, which=\"both\", ls=\"--\")\n",
    "axs[1,3].grid(True, which=\"both\", ls=\"--\")\n",
    "\n",
    "sublabels = ['a', 'b', 'c', 'd', 'e', 'f', 'g', 'h']\n",
    "for i, ax in enumerate(axs.flat):\n",
    "    ax.text(-0.13, 1.05, sublabels[i], transform=ax.transAxes,\n",
    "            fontsize=13, va='top', ha='right')\n",
    "\n",
    "# Add legend and labels\n",
    "# plt.legend(loc='upper right')\n",
    "# plt.xlabel('K')\n",
    "# plt.xlim(0,10)\n",
    "# plt.ylabel('Frequency')\n",
    "# plt.title('Online Temperature Error')\n",
    "\n",
    "# Show the plot\n",
    "plt.show()"
   ]
  },
  {
   "cell_type": "markdown",
   "metadata": {},
   "source": [
    "# Hypothesis tests"
   ]
  },
  {
   "cell_type": "code",
   "execution_count": null,
   "metadata": {},
   "outputs": [],
   "source": [
    "loc_shift = np.median(survived_dict['noozone']['online_temperature']) - np.median(survived_dict['standard']['online_temperature'])"
   ]
  },
  {
   "cell_type": "code",
   "execution_count": null,
   "metadata": {},
   "outputs": [],
   "source": [
    "mannwhitneyu(survived_dict['standard']['online_temperature'], survived_dict['standard']['online_temperature'] + loc_shift)"
   ]
  },
  {
   "cell_type": "code",
   "execution_count": null,
   "metadata": {},
   "outputs": [],
   "source": [
    "((norm.ppf(.8) + norm.ppf(.95))**2)/(6*(((8363/(141*141))-.5)**2))"
   ]
  },
  {
   "cell_type": "code",
   "execution_count": null,
   "metadata": {},
   "outputs": [],
   "source": [
    "8363/(141*141)"
   ]
  },
  {
   "cell_type": "code",
   "execution_count": null,
   "metadata": {},
   "outputs": [],
   "source": [
    "164*(330/141)"
   ]
  },
  {
   "cell_type": "code",
   "execution_count": null,
   "metadata": {},
   "outputs": [],
   "source": [
    "len(survived_dict['standard']['online_temperature'])"
   ]
  },
  {
   "cell_type": "code",
   "execution_count": null,
   "metadata": {},
   "outputs": [],
   "source": [
    "8363/(141*141)"
   ]
  },
  {
   "cell_type": "code",
   "execution_count": null,
   "metadata": {},
   "outputs": [],
   "source": [
    "mannwhitneyu(survived_dict['standard']['online_temperature'], survived_dict['noozone']['online_temperature'])"
   ]
  },
  {
   "cell_type": "code",
   "execution_count": null,
   "metadata": {},
   "outputs": [],
   "source": [
    "mannwhitneyu(survived_dict['noozone']['online_temperature'], survived_dict['standard']['online_temperature'])"
   ]
  },
  {
   "cell_type": "code",
   "execution_count": null,
   "metadata": {},
   "outputs": [],
   "source": [
    "len(survived_dict['noozone']['online_temperature'])"
   ]
  },
  {
   "cell_type": "code",
   "execution_count": null,
   "metadata": {},
   "outputs": [],
   "source": [
    "((norm.ppf(.8) + norm.ppf(.95))**2)/(6*(((10489/(141*185))-.5)**2))"
   ]
  },
  {
   "cell_type": "code",
   "execution_count": null,
   "metadata": {},
   "outputs": [],
   "source": []
  },
  {
   "cell_type": "code",
   "execution_count": null,
   "metadata": {},
   "outputs": [],
   "source": [
    "((norm.ppf(.8) + norm.ppf(.95))**2)/(6*(((15596/(141*185))-.5)**2))"
   ]
  },
  {
   "cell_type": "code",
   "execution_count": null,
   "metadata": {},
   "outputs": [],
   "source": [
    "*(330/185)"
   ]
  },
  {
   "cell_type": "code",
   "execution_count": null,
   "metadata": {},
   "outputs": [],
   "source": [
    "164*(330/141)"
   ]
  },
  {
   "cell_type": "code",
   "execution_count": null,
   "metadata": {},
   "outputs": [],
   "source": [
    "def getpower(baseline_arr, loc_shift, sample_size, num_iter = 10000):\n",
    "    num_reject = 0\n",
    "    for i in range(num_iter):\n",
    "        bootstrap = baseline_arr.sample(sample_size*2, replace = True)\n",
    "        bootstrap[sample_size:] = bootstrap[sample_size:] + loc_shift\n",
    "        stat, p_value = ranksums(bootstrap[:sample_size], bootstrap[sample_size:])\n",
    "        if p_value < 0.05:\n",
    "            num_reject += 1\n",
    "    return num_reject/num_iter"
   ]
  },
  {
   "cell_type": "code",
   "execution_count": null,
   "metadata": {},
   "outputs": [],
   "source": [
    "loc_shift"
   ]
  },
  {
   "cell_type": "code",
   "execution_count": null,
   "metadata": {},
   "outputs": [],
   "source": [
    "samplesize_arr = np.arange(1,51)*10\n",
    "power_arr = np.array([getpower(survived_dict['standard']['online_temperature'], loc_shift, x) for x in samplesize_arr])"
   ]
  },
  {
   "cell_type": "code",
   "execution_count": null,
   "metadata": {},
   "outputs": [],
   "source": [
    "330/141"
   ]
  },
  {
   "cell_type": "code",
   "execution_count": null,
   "metadata": {},
   "outputs": [],
   "source": []
  },
  {
   "cell_type": "code",
   "execution_count": null,
   "metadata": {},
   "outputs": [],
   "source": []
  },
  {
   "cell_type": "code",
   "execution_count": null,
   "metadata": {},
   "outputs": [],
   "source": [
    "plt.plot(samplesize_arr*(330/141), power_arr)\n",
    "plt.xlabel('sample size')\n",
    "plt.ylabel('power')\n",
    "plt.title('Sample size estimate')\n",
    "# add grid lines\n",
    "plt.grid(True, which=\"both\", ls=\"--\")\n",
    "# add vertical line where line crosses .8 on y-axis\n",
    "plt.axvline(490, ymin = 0, ymax = .76, color='r', linestyle='--')\n",
    "plt.axhline(.8, xmin = 0, xmax = .41, color = 'r', linestyle= '--')"
   ]
  },
  {
   "cell_type": "code",
   "execution_count": null,
   "metadata": {},
   "outputs": [],
   "source": [
    "def permutation_test(df1, df2, var, quantile = .50, num_permutations = 10000):\n",
    "    n1 = len(df1)\n",
    "    observed_diff = df1[var].quantile(quantile) - df2[var].quantile(quantile)\n",
    "    df = pd.concat([df1, df2], axis = 0)\n",
    "    differences = []\n",
    "    for i in range(num_permutations):\n",
    "        df = df.sample(frac = 1).reset_index(drop=True)\n",
    "        diff = df.iloc[:n1][var].quantile(quantile) - df.iloc[n1:][var].quantile(quantile)\n",
    "        differences.append(diff)\n",
    "    diffs = pd.Series(differences).sort_values()\n",
    "    if observed_diff >= 0:\n",
    "        p_value = 2*sum(diffs >= observed_diff)/num_permutations\n",
    "    else:\n",
    "        p_value = 2*sum(diffs < observed_diff)/num_permutations\n",
    "    if p_value >= 1:\n",
    "        p_value = 1\n",
    "    return p_value"
   ]
  },
  {
   "cell_type": "code",
   "execution_count": null,
   "metadata": {},
   "outputs": [],
   "source": []
  },
  {
   "cell_type": "code",
   "execution_count": null,
   "metadata": {},
   "outputs": [],
   "source": [
    "getpower(survived_dict['standard']['online_temperature'], loc_shift, 200)"
   ]
  },
  {
   "cell_type": "code",
   "execution_count": null,
   "metadata": {},
   "outputs": [],
   "source": [
    "permutation_test(survived_dict['noozone'], survived_dict['standard'], var = 'online_temperature')"
   ]
  },
  {
   "cell_type": "code",
   "execution_count": null,
   "metadata": {},
   "outputs": [],
   "source": [
    "def get_stability_pvalue(p1, p2, n1 = 330, n2 = 330):\n",
    "    p = (p1 * n1 + p2 * n2) / (n1 + n2)\n",
    "    zstatistic = (p1 - p2) / np.sqrt(p * (1 - p) * (1 / n1 + 1 / n2))\n",
    "    if zstatistic < 0:\n",
    "        return (stats.norm.cdf(zstatistic))*2\n",
    "    else:\n",
    "        return (1 - stats.norm.cdf(zstatistic))*2\n",
    "\n",
    "stability_pvals = [get_stability_pvalue(len(survived_dict['specific'])/330, len(survived_dict['standard'])/330), \\\n",
    "                   get_stability_pvalue(len(survived_dict['nomemory'])/330, len(survived_dict['standard'])/330), \\\n",
    "                   get_stability_pvalue(len(survived_dict['nowind'])/330, len(survived_dict['standard'])/330), \\\n",
    "                   get_stability_pvalue(len(survived_dict['noozone'])/330, len(survived_dict['standard'])/330), \\\n",
    "                   get_stability_pvalue(len(survived_dict['nocoszrs'])/330, len(survived_dict['standard'])/330), \\\n",
    "                   get_stability_pvalue(len(survived_dict['mae'])/330, len(survived_dict['standard'])/330), \\\n",
    "                   get_stability_pvalue(len(survived_dict['nodropout'])/330, len(survived_dict['standard'])/330), \\\n",
    "                   get_stability_pvalue(len(survived_dict['multiclimate'])/330, len(survived_dict['standard'])/330)]\n",
    "\n",
    "def permutation_test(df1, df2, var, quantile = .50, num_permutations = 10000):\n",
    "    n1 = len(df1)\n",
    "    observed_diff = df1[var].quantile(quantile) - df2[var].quantile(quantile)\n",
    "    df = pd.concat([df1, df2], axis = 0)\n",
    "    differences = []\n",
    "    for i in range(num_permutations):\n",
    "        df = df.sample(frac = 1).reset_index(drop=True)\n",
    "        diff = df.iloc[:n1][var].quantile(quantile) - df.iloc[n1:][var].quantile(quantile)\n",
    "        differences.append(diff)\n",
    "    diffs = pd.Series(differences).sort_values()\n",
    "    if observed_diff >= 0:\n",
    "        p_value = 2*sum(diffs >= observed_diff)/num_permutations\n",
    "    else:\n",
    "        p_value = 2*sum(diffs < observed_diff)/num_permutations\n",
    "    if p_value >= 1:\n",
    "        p_value = 1\n",
    "    return p_value\n",
    "\n",
    "temperature_pvals = [permutation_test(survived_dict['specific'], survived_dict['standard'], var = 'online_temperature'),\n",
    "                     permutation_test(survived_dict['nomemory'], survived_dict['standard'], var = 'online_temperature'),\n",
    "                     permutation_test(survived_dict['nowind'], survived_dict['standard'], var = 'online_temperature'),\n",
    "                     permutation_test(survived_dict['noozone'], survived_dict['standard'], var = 'online_temperature'),\n",
    "                     permutation_test(survived_dict['nocoszrs'], survived_dict['standard'], var = 'online_temperature'),\n",
    "                     permutation_test(survived_dict['mae'], survived_dict['standard'], var = 'online_temperature'),\n",
    "                     permutation_test(survived_dict['nodropout'], survived_dict['standard'], var = 'online_temperature'),\n",
    "                     permutation_test(survived_dict['multiclimate'], survived_dict['standard'], var = 'online_temperature')]\n",
    "\n",
    "moisture_pvals = [permutation_test(survived_dict['specific'], survived_dict['standard'], var = 'online_moisture'),\n",
    "                  permutation_test(survived_dict['nomemory'], survived_dict['standard'], var = 'online_moisture'),\n",
    "                  permutation_test(survived_dict['nowind'], survived_dict['standard'], var = 'online_moisture'),\n",
    "                  permutation_test(survived_dict['noozone'], survived_dict['standard'], var = 'online_moisture'),\n",
    "                  permutation_test(survived_dict['nocoszrs'], survived_dict['standard'], var = 'online_moisture'),\n",
    "                  permutation_test(survived_dict['mae'], survived_dict['standard'], var = 'online_moisture'),\n",
    "                  permutation_test(survived_dict['nodropout'], survived_dict['standard'], var = 'online_moisture'),\n",
    "                  permutation_test(survived_dict['multiclimate'], survived_dict['standard'], var = 'online_moisture')]\n",
    "\n",
    "offline_heating_overall = pd.concat([survived_dict['standard']['offline_heating'], \\\n",
    "                                     survived_dict['specific']['offline_heating'], \\\n",
    "                                     survived_dict['nomemory']['offline_heating'], \\\n",
    "                                     survived_dict['nowind']['offline_heating'], \\\n",
    "                                     survived_dict['noozone']['offline_heating'], \\\n",
    "                                     survived_dict['nocoszrs']['offline_heating'], \\\n",
    "                                     survived_dict['mae']['offline_heating'], \\\n",
    "                                     survived_dict['nodropout']['offline_heating'], \\\n",
    "                                     survived_dict['multiclimate']['offline_heating']], axis = 0)\n",
    "\n",
    "offline_moistening_overall = pd.concat([survived_dict['standard']['offline_moistening'], \\\n",
    "                                        survived_dict['specific']['offline_moistening'], \\\n",
    "                                        survived_dict['nomemory']['offline_moistening'], \\\n",
    "                                        survived_dict['nowind']['offline_moistening'], \\\n",
    "                                        survived_dict['noozone']['offline_moistening'], \\\n",
    "                                        survived_dict['nocoszrs']['offline_moistening'], \\\n",
    "                                        survived_dict['mae']['offline_moistening'], \\\n",
    "                                        survived_dict['nodropout']['offline_moistening'], \\\n",
    "                                        survived_dict['multiclimate']['offline_moistening']], axis = 0)\n",
    "\n",
    "online_temperature_overall = pd.concat([survived_dict['standard']['online_temperature'], \\\n",
    "                                        survived_dict['specific']['offline_moistening'], \\\n",
    "                                        survived_dict['nomemory']['online_temperature'], \\\n",
    "                                        survived_dict['nowind']['online_temperature'], \\\n",
    "                                        survived_dict['noozone']['online_temperature'], \\\n",
    "                                        survived_dict['nocoszrs']['online_temperature'], \\\n",
    "                                        survived_dict['mae']['online_temperature'], \\\n",
    "                                        survived_dict['nodropout']['online_temperature'], \\\n",
    "                                        survived_dict['multiclimate']['online_temperature']], axis = 0)\n",
    "                            \n",
    "online_moisture_overall = pd.concat([survived_dict['standard']['online_moisture'], \\\n",
    "                                     survived_dict['specific']['offline_moistening'], \\\n",
    "                                     survived_dict['nomemory']['online_moisture'], \\\n",
    "                                     survived_dict['nowind']['online_moisture'], \\\n",
    "                                     survived_dict['noozone']['online_moisture'], \\\n",
    "                                     survived_dict['nocoszrs']['online_moisture'], \\\n",
    "                                     survived_dict['mae']['online_moisture'], \\\n",
    "                                     survived_dict['nodropout']['online_moisture'], \\\n",
    "                                     survived_dict['multiclimate']['online_moisture']], axis = 0)\n",
    "\n",
    "overall_T_corr, overall_T_pval = spearmanr(offline_heating_overall, online_temperature_overall)\n",
    "overall_Q_corr, overall_Q_pval = spearmanr(offline_moistening_overall, online_moisture_overall)\n",
    "\n",
    "standard_T_corr, standard_T_pval = spearmanr(survived_dict['standard']['offline_heating'], survived_dict['standard']['online_temperature'])\n",
    "specific_T_corr, specific_T_pval = spearmanr(survived_dict['specific']['offline_heating'], survived_dict['specific']['online_temperature'])\n",
    "nomemory_T_corr, nomemory_T_pval = spearmanr(survived_dict['nomemory']['offline_heating'], survived_dict['nomemory']['online_temperature'])\n",
    "nowind_T_corr, nowind_T_pval = spearmanr(survived_dict['nowind']['offline_heating'], survived_dict['nowind']['online_temperature'])\n",
    "noozone_T_corr, noozone_T_pval = spearmanr(survived_dict['noozone']['offline_heating'], survived_dict['noozone']['online_temperature'])\n",
    "nocoszrs_T_corr, nocoszrs_T_pval = spearmanr(survived_dict['nocoszrs']['offline_heating'], survived_dict['nocoszrs']['online_temperature'])\n",
    "mae_T_corr, mae_T_pval = spearmanr(survived_dict['mae']['offline_heating'], survived_dict['mae']['online_temperature'])\n",
    "nodropout_T_corr, nodropout_T_pval = spearmanr(survived_dict['nodropout']['offline_heating'], survived_dict['nodropout']['online_temperature'])\n",
    "multiclimate_T_corr, multiclimate_T_pval = spearmanr(survived_dict['multiclimate']['offline_heating'], survived_dict['multiclimate']['online_temperature'])\n",
    "\n",
    "standard_Q_corr, standard_Q_pval = spearmanr(survived_dict['standard']['offline_moistening'], survived_dict['standard']['online_moisture'])\n",
    "specific_Q_corr, specific_Q_pval = spearmanr(survived_dict['specific']['offline_moistening'], survived_dict['specific']['online_moisture'])\n",
    "nomemory_Q_corr, nomemory_Q_pval = spearmanr(survived_dict['nomemory']['offline_moistening'], survived_dict['nomemory']['online_moisture'])\n",
    "nowind_Q_corr, nowind_Q_pval = spearmanr(survived_dict['nowind']['offline_moistening'], survived_dict['nowind']['online_moisture'])\n",
    "noozone_Q_corr, noozone_Q_pval = spearmanr(survived_dict['noozone']['offline_moistening'], survived_dict['noozone']['online_moisture'])\n",
    "nocoszrs_Q_corr, nocoszrs_Q_pval = spearmanr(survived_dict['nocoszrs']['offline_moistening'], survived_dict['nocoszrs']['online_moisture'])\n",
    "mae_Q_corr, mae_Q_pval = spearmanr(survived_dict['mae']['offline_moistening'], survived_dict['mae']['online_moisture'])\n",
    "nodropout_Q_corr, nodropout_Q_pval = spearmanr(survived_dict['nodropout']['offline_moistening'], survived_dict['nodropout']['online_moisture'])\n",
    "multiclimate_Q_corr, multiclimate_Q_pval = spearmanr(survived_dict['multiclimate']['offline_moistening'], survived_dict['multiclimate']['online_moisture'])\n",
    "\n",
    "offlinevsonline_T_pvals = [standard_T_pval, specific_T_pval, nomemory_T_pval, nowind_T_pval, noozone_T_pval, nocoszrs_T_pval, mae_T_pval, nodropout_T_pval, multiclimate_T_pval]\n",
    "\n",
    "offlinevsonline_Q_pvals = [standard_Q_pval, specific_Q_pval, nomemory_Q_pval, nowind_Q_pval, noozone_Q_pval, nocoszrs_Q_pval, mae_Q_pval, nodropout_Q_pval, multiclimate_Q_pval]\n",
    "\n",
    "offlinevsonline_pvals = offlinevsonline_T_pvals + offlinevsonline_Q_pvals + [overall_T_pval, overall_Q_pval]\n",
    "\n",
    "pvals = stability_pvals + temperature_pvals + moisture_pvals + offlinevsonline_pvals\n",
    "\n",
    "hypothesis_tests = ['specific humidity (stability)', 'no memory (stability)', 'no wind (stability)', 'no ozone (stability)', 'no zenith angle (stability)', 'MAE (stability)', 'no dropout (stability)', 'multiclimate (stability)', \\\n",
    "                    'specific humidity (temperature)', 'no memory (temperature)', 'no wind (temperature)', 'no ozone (temperature)', 'no zenith angle (temperature)', 'MAE (temperature)', 'no dropout (temperature)', 'multiclimate (temperature)', \\\n",
    "                    'specific humidity (moisture)', 'no memory (moisture)', 'no wind (moisture)', 'no ozone (moisture)', 'no zenith angle (moisture)', 'MAE (moisture)', 'no dropout (moisture)', 'multiclimate (moisture)', \\\n",
    "                    'offline vs. online T (standard)', 'offline vs. online T (specific)', 'offline vs. online T (no memory)', 'offline vs. online T (no wind)', 'offline vs. online T (no ozone)', 'offline vs. online T (no zenith angle)', 'offline vs. online T (MAE)', 'offline vs. online T (no dropout)', 'offline vs. online T (multiclimate)', \\\n",
    "                    'offline vs. online Q (standard)', 'offline vs. online Q (specific)', 'offline vs. online Q (no memory)', 'offline vs. online Q (no wind)', 'offline vs. online Q (no ozone)', 'offline vs. online Q (no zenith angle)', 'offline vs. online Q (MAE)', 'offline vs. online Q (no dropout)', 'offline vs. online Q (multiclimate)', \\\n",
    "                    'offline vs. online T (overall)', 'offline vs. online Q (overall)']\n",
    "alpha_global = .05\n",
    "num_tests = len(pvals)\n",
    "alpha_scaled = [alpha_global*(i+1)/num_tests for i in range(num_tests)]\n",
    "sorted_pvals, sorted_tests = zip(*sorted(zip(pvals, hypothesis_tests)))"
   ]
  },
  {
   "cell_type": "code",
   "execution_count": null,
   "metadata": {},
   "outputs": [],
   "source": [
    "print('hello world')"
   ]
  },
  {
   "cell_type": "markdown",
   "metadata": {},
   "source": [
    "# mann whitney T"
   ]
  },
  {
   "cell_type": "code",
   "execution_count": null,
   "metadata": {},
   "outputs": [],
   "source": [
    "mannwhitneyu(survived_dict['specific']['online_temperature'], survived_dict['standard']['online_temperature'])"
   ]
  },
  {
   "cell_type": "code",
   "execution_count": null,
   "metadata": {},
   "outputs": [],
   "source": [
    "mannwhitneyu(survived_dict['nomemory']['online_temperature'], survived_dict['standard']['online_temperature'])"
   ]
  },
  {
   "cell_type": "code",
   "execution_count": null,
   "metadata": {},
   "outputs": [],
   "source": [
    "mannwhitneyu(survived_dict['nowind']['online_temperature'], survived_dict['standard']['online_temperature'])"
   ]
  },
  {
   "cell_type": "code",
   "execution_count": null,
   "metadata": {},
   "outputs": [],
   "source": [
    "mannwhitneyu(survived_dict['noozone']['online_temperature'], survived_dict['standard']['online_temperature'])"
   ]
  },
  {
   "cell_type": "code",
   "execution_count": null,
   "metadata": {},
   "outputs": [],
   "source": [
    "mannwhitneyu(survived_dict['nocoszrs']['online_temperature'], survived_dict['standard']['online_temperature'])"
   ]
  },
  {
   "cell_type": "code",
   "execution_count": null,
   "metadata": {},
   "outputs": [],
   "source": [
    "mannwhitneyu(survived_dict['mae']['online_temperature'], survived_dict['standard']['online_temperature'])"
   ]
  },
  {
   "cell_type": "code",
   "execution_count": null,
   "metadata": {},
   "outputs": [],
   "source": [
    "mannwhitneyu(survived_dict['nodropout']['online_temperature'], survived_dict['standard']['online_temperature'])"
   ]
  },
  {
   "cell_type": "code",
   "execution_count": null,
   "metadata": {},
   "outputs": [],
   "source": [
    "mannwhitneyu(survived_dict['multiclimate']['online_temperature'], survived_dict['standard']['online_temperature'])"
   ]
  },
  {
   "cell_type": "markdown",
   "metadata": {},
   "source": [
    "# mann whitney Q"
   ]
  },
  {
   "cell_type": "code",
   "execution_count": null,
   "metadata": {},
   "outputs": [],
   "source": [
    "mannwhitneyu(survived_dict['specific']['online_moisture'], survived_dict['standard']['online_moisture'])"
   ]
  },
  {
   "cell_type": "code",
   "execution_count": null,
   "metadata": {},
   "outputs": [],
   "source": [
    "mannwhitneyu(survived_dict['nomemory']['online_moisture'], survived_dict['standard']['online_moisture'])"
   ]
  },
  {
   "cell_type": "code",
   "execution_count": null,
   "metadata": {},
   "outputs": [],
   "source": [
    "mannwhitneyu(survived_dict['nowind']['online_moisture'], survived_dict['standard']['online_moisture'])"
   ]
  },
  {
   "cell_type": "code",
   "execution_count": null,
   "metadata": {},
   "outputs": [],
   "source": [
    "mannwhitneyu(survived_dict['noozone']['online_moisture'], survived_dict['standard']['online_moisture'])"
   ]
  },
  {
   "cell_type": "code",
   "execution_count": null,
   "metadata": {},
   "outputs": [],
   "source": [
    "mannwhitneyu(survived_dict['nocoszrs']['online_moisture'], survived_dict['standard']['online_moisture'])"
   ]
  },
  {
   "cell_type": "code",
   "execution_count": null,
   "metadata": {},
   "outputs": [],
   "source": [
    "temperature_pvals = [permutation_test(survived_dict['specific'], survived_dict['standard'], var = 'online_temperature'),\n",
    "                     permutation_test(survived_dict['nomemory'], survived_dict['standard'], var = 'online_temperature'),\n",
    "                     permutation_test(survived_dict['nowind'], survived_dict['standard'], var = 'online_temperature'),\n",
    "                     permutation_test(survived_dict['noozone'], survived_dict['standard'], var = 'online_temperature'),\n",
    "                     permutation_test(survived_dict['nocoszrs'], survived_dict['standard'], var = 'online_temperature'),\n",
    "                     permutation_test(survived_dict['mae'], survived_dict['standard'], var = 'online_temperature'),\n",
    "                     permutation_test(survived_dict['nodropout'], survived_dict['standard'], var = 'online_temperature'),\n",
    "                     permutation_test(survived_dict['multiclimate'], survived_dict['standard'], var = 'online_temperature')]\n",
    "\n",
    "moisture_pvals = [permutation_test(survived_dict['specific'], survived_dict['standard'], var = 'online_moisture'),\n",
    "                  permutation_test(survived_dict['nomemory'], survived_dict['standard'], var = 'online_moisture'),\n",
    "                  permutation_test(survived_dict['nowind'], survived_dict['standard'], var = 'online_moisture'),\n",
    "                  permutation_test(survived_dict['noozone'], survived_dict['standard'], var = 'online_moisture'),\n",
    "                  permutation_test(survived_dict['nocoszrs'], survived_dict['standard'], var = 'online_moisture'),\n",
    "                  permutation_test(survived_dict['mae'], survived_dict['standard'], var = 'online_moisture'),\n",
    "                  permutation_test(survived_dict['nodropout'], survived_dict['standard'], var = 'online_moisture'),\n",
    "                  permutation_test(survived_dict['multiclimate'], survived_dict['standard'], var = 'online_moisture')]"
   ]
  },
  {
   "cell_type": "code",
   "execution_count": null,
   "metadata": {},
   "outputs": [],
   "source": [
    "len(survived_dict['noozone'])"
   ]
  },
  {
   "cell_type": "code",
   "execution_count": null,
   "metadata": {},
   "outputs": [],
   "source": [
    "185/2"
   ]
  },
  {
   "cell_type": "code",
   "execution_count": null,
   "metadata": {},
   "outputs": [],
   "source": [
    "len(survived_dict['standard'])"
   ]
  },
  {
   "cell_type": "code",
   "execution_count": null,
   "metadata": {},
   "outputs": [],
   "source": [
    "survived_dict['noozone'].sample(92, replace = True)"
   ]
  },
  {
   "cell_type": "code",
   "execution_count": null,
   "metadata": {},
   "outputs": [],
   "source": [
    "permutation_test(survived_dict['noozone'], survived_dict['standard'], var = 'online_temperature')"
   ]
  },
  {
   "cell_type": "code",
   "execution_count": null,
   "metadata": {},
   "outputs": [],
   "source": [
    "len(survived_dict['noozone'])"
   ]
  },
  {
   "cell_type": "code",
   "execution_count": null,
   "metadata": {},
   "outputs": [],
   "source": [
    "len(survived_dict['standard'])"
   ]
  },
  {
   "cell_type": "code",
   "execution_count": null,
   "metadata": {},
   "outputs": [],
   "source": [
    "temperature_pvals"
   ]
  },
  {
   "cell_type": "code",
   "execution_count": null,
   "metadata": {},
   "outputs": [],
   "source": [
    "plt.figure(figsize=(17, 5))\n",
    "x_range = range(1, num_tests + 1)\n",
    "plt.plot(x_range, alpha_scaled, color = 'grey', linestyle = '--')\n",
    "plt.plot(x_range, [alpha_global for x in range(num_tests)], color = 'black', linestyle = ':')\n",
    "plt.ylim(0, 1)\n",
    "plt.xlabel('p-value rank')\n",
    "plt.ylabel('p-value')\n",
    "crossed = False\n",
    "handles = []\n",
    "for rank, pval, test in reversed(list(zip(x_range, sorted_pvals, sorted_tests))):\n",
    "    if pval >= alpha_scaled[rank - 1] and not crossed:\n",
    "        handle = plt.scatter(rank, pval, s = 30, marker = 'x', label = test)\n",
    "        handles.append(handle)\n",
    "    elif pval < alpha_scaled[rank - 1]:\n",
    "        crossed = True\n",
    "        handle = plt.scatter(rank, pval, s = 60, marker = '.', label = test)\n",
    "        handles.append(handle)\n",
    "plt.axvline(x = 33.6, linestyle = '--', linewidth = .6, color = 'black')\n",
    "plt.legend(loc = 'upper left', handles = handles, ncol = 3, fontsize = 8.8)\n",
    "plt.title('Hypothesis Tests (using Benjamini-Hochberg procedure)')"
   ]
  },
  {
   "cell_type": "markdown",
   "metadata": {},
   "source": [
    "# Online story"
   ]
  },
  {
   "cell_type": "code",
   "execution_count": null,
   "metadata": {},
   "outputs": [],
   "source": [
    "# Assigning a unique color to each bar\n",
    "x_labels = ['standard', 'specific', 'nomemory', 'nowind', 'noozone', 'nocoszrs', 'mae', 'nodropout', 'multiclimate']\n",
    "adj_labels = [label_dict[x] for x in x_labels]\n",
    "subset_indices = [1, 2, 4, 5, 6, 7, 8]\n",
    "survival_rates = [len(survived_dict[x])/330 for x in x_labels]\n",
    "sig_values = [survival_rates[i] for i in subset_indices]\n",
    "colors = [color_dict[x] for x in x_labels]\n",
    "\n",
    "# Creating a bar chart with different colors for each bar and adding a legend\n",
    "plt.figure(figsize=(10, 6))\n",
    "bars = plt.bar([label_dict[x] for x in x_labels], survival_rates, color=colors, width = .5)\n",
    "plt.xlabel('Configuration')\n",
    "plt.ylabel('Survival Rate (%)')\n",
    "plt.title('Survival rate by configuration')\n",
    "plt.xticks(rotation=45)  # Rotating the labels for better visibility\n",
    "delta = .05\n",
    "ylim_min = 0\n",
    "ylim_max = 1\n",
    "plt.yticks(np.arange(ylim_min, ylim_max + delta, delta))\n",
    "plt.ylim(ylim_min, ylim_max)\n",
    "plt.grid(True, axis = 'y')\n",
    "\n",
    "# # Adding stars on the subset of bars\n",
    "for i, value in zip(subset_indices, sig_values):\n",
    "    plt.text(i, value + .01, '*', fontsize = 15, ha='center', color='black')\n",
    "\n",
    "# Adding a legend\n",
    "plt.legend(bars, adj_labels)\n",
    "plt.show()"
   ]
  },
  {
   "cell_type": "code",
   "execution_count": null,
   "metadata": {},
   "outputs": [],
   "source": [
    "survival_rates"
   ]
  },
  {
   "cell_type": "code",
   "execution_count": null,
   "metadata": {},
   "outputs": [],
   "source": [
    "# Assigning a unique color to each bar\n",
    "x_labels = ['standard', 'specific', 'nomemory', 'nowind', 'noozone', 'nocoszrs', 'mae', 'nodropout', 'multiclimate']\n",
    "adj_labels = [label_dict[x] for x in x_labels]\n",
    "subset_indices = [2, 4, 6, 7, 8]\n",
    "online_temp_rmse_quantiles = [survived_dict[x]['online_temperature'].quantile(.50) for x in x_labels]\n",
    "sig_values = [online_temp_rmse_quantiles[i] for i in subset_indices]\n",
    "colors = [color_dict[x] for x in x_labels]\n",
    "\n",
    "# Creating a bar chart with different colors for each bar and adding a legend\n",
    "plt.figure(figsize=(10, 6))\n",
    "bars = plt.bar([label_dict[x] for x in x_labels], online_temp_rmse_quantiles, color=colors, width = .5)\n",
    "plt.xlabel('Configuration')\n",
    "plt.ylabel('K')\n",
    "plt.title('Median Online Temperature RMSE by configuration')\n",
    "plt.xticks(rotation=45)  # Rotating the labels for better visibility\n",
    "ylim_min = 0\n",
    "ylim_max = 6\n",
    "delta = .5\n",
    "plt.yticks(np.arange(ylim_min, ylim_max + delta, delta))\n",
    "plt.ylim(ylim_min, ylim_max)\n",
    "plt.ylim(ylim_min, ylim_max)\n",
    "plt.grid(True, axis = 'y')\n",
    "\n",
    "# Adding stars on the subset of bars\n",
    "for i, value in zip(subset_indices, sig_values):\n",
    "    plt.text(i, value + .01, '*', fontsize = 15, ha='center', color='black')\n",
    "\n",
    "# Adding a legend\n",
    "plt.legend(bars, adj_labels)\n",
    "plt.show()"
   ]
  },
  {
   "cell_type": "code",
   "execution_count": null,
   "metadata": {},
   "outputs": [],
   "source": [
    "online_temp_rmse_quantiles"
   ]
  },
  {
   "cell_type": "code",
   "execution_count": null,
   "metadata": {},
   "outputs": [],
   "source": [
    "# Assigning a unique color to each bar\n",
    "x_labels = ['standard', 'specific', 'nomemory', 'nowind', 'noozone', 'nocoszrs', 'mae', 'nodropout', 'multiclimate']\n",
    "adj_labels = [label_dict[x] for x in x_labels]\n",
    "subset_indices = [2, 6, 7, 8]\n",
    "online_hum_rmse_quantiles = [survived_dict[x]['online_moisture'].quantile(.50) for x in x_labels]\n",
    "sig_values = [online_hum_rmse_quantiles[i] for i in subset_indices]\n",
    "colors = [color_dict[x] for x in x_labels]\n",
    "\n",
    "# Creating a bar chart with different colors for each bar and adding a legend\n",
    "plt.figure(figsize=(10, 6))\n",
    "bars = plt.bar([label_dict[x] for x in x_labels], online_hum_rmse_quantiles, color=colors, width = .5)\n",
    "plt.xlabel('Configuration')\n",
    "plt.ylabel('g/kg')\n",
    "plt.title('Median Online Moisture RMSE by configuration')\n",
    "plt.xticks(rotation=45)  # Rotating the labels for better visibility\n",
    "ylim_min = 0\n",
    "ylim_max = 1\n",
    "delta = .1\n",
    "plt.yticks(np.arange(ylim_min, ylim_max + delta, delta))\n",
    "plt.ylim(ylim_min, ylim_max)\n",
    "plt.grid(True, axis = 'y', which = 'both')\n",
    "\n",
    "# Adding stars on the subset of bars\n",
    "for i, value in zip(subset_indices, sig_values):\n",
    "    plt.text(i, value + .01, '*', fontsize = 15, ha='center', color='black')\n",
    "\n",
    "# Adding a legend\n",
    "plt.legend(bars, adj_labels)\n",
    "plt.show()"
   ]
  },
  {
   "cell_type": "code",
   "execution_count": null,
   "metadata": {},
   "outputs": [],
   "source": [
    "online_hum_rmse_quantiles"
   ]
  },
  {
   "cell_type": "markdown",
   "metadata": {},
   "source": [
    "# Offline vs. Online story"
   ]
  },
  {
   "cell_type": "code",
   "execution_count": null,
   "metadata": {},
   "outputs": [],
   "source": [
    "dotsize = 3\n",
    "alpha = .2\n",
    "fig, (ax1, ax2) = plt.subplots(1, 2, figsize=(14, 6))\n",
    "\n",
    "ax1.scatter(survived_dict['standard']['offline_heating'], survived_dict['standard']['online_temperature'], color = color_dict['standard'], label='standard', s = dotsize, alpha = alpha)\n",
    "ax1.scatter(survived_dict['specific']['offline_heating'], survived_dict['specific']['online_temperature'], color = color_dict['specific'], label='specific humidity', s = dotsize, alpha = alpha)\n",
    "ax1.scatter(survived_dict['nomemory']['offline_heating'], survived_dict['nomemory']['online_temperature'], color = color_dict['nomemory'], label='no memory', s = dotsize, alpha = alpha)\n",
    "ax1.scatter(survived_dict['nowind']['offline_heating'], survived_dict['nowind']['online_temperature'], color = color_dict['nowind'], label='no wind', s = dotsize, alpha = alpha)\n",
    "ax1.scatter(survived_dict['noozone']['offline_heating'], survived_dict['noozone']['online_temperature'], color = color_dict['noozone'], label='no ozone', s = dotsize, alpha = alpha)\n",
    "ax1.scatter(survived_dict['nocoszrs']['offline_heating'], survived_dict['nocoszrs']['online_temperature'], color = color_dict['nocoszrs'], label='no zenith angle', s = dotsize, alpha = alpha)\n",
    "ax1.scatter(survived_dict['mae']['offline_heating'], survived_dict['mae']['online_temperature'], color = color_dict['mae'], label='MAE', s = dotsize, alpha = alpha)\n",
    "ax1.scatter(survived_dict['nodropout']['offline_heating'], survived_dict['nodropout']['online_temperature'], color = color_dict['nodropout'], label='no dropout', s = dotsize, alpha = alpha)\n",
    "ax1.scatter(survived_dict['multiclimate']['offline_heating'], survived_dict['multiclimate']['online_temperature'], color = color_dict['multiclimate'], label='multiclimate', s = dotsize, alpha = alpha)\n",
    "ax1.set_xlabel('offline heating RMSE (K/s)', fontsize = 12)\n",
    "ax1.set_ylabel('online temperature RMSE (K)', fontsize = 12)\n",
    "ax1.set_yscale('log')\n",
    "\n",
    "ax2.scatter(survived_dict['standard']['offline_moistening'], survived_dict['standard']['online_moisture'], color = color_dict['standard'], label='standard', s = dotsize, alpha = alpha)\n",
    "ax2.scatter(survived_dict['specific']['offline_moistening'], survived_dict['specific']['online_moisture'], color = color_dict['specific'], label='specific humidity', s = dotsize, alpha = alpha)\n",
    "ax2.scatter(survived_dict['nomemory']['offline_moistening'], survived_dict['nomemory']['online_moisture'], color = color_dict['nomemory'], label='no memory', s = dotsize, alpha = alpha)\n",
    "ax2.scatter(survived_dict['nowind']['offline_moistening'], survived_dict['nowind']['online_moisture'], color = color_dict['nowind'], label='no wind', s = dotsize, alpha = alpha)\n",
    "ax2.scatter(survived_dict['noozone']['offline_moistening'], survived_dict['noozone']['online_moisture'], color = color_dict['noozone'], label='no ozone', s = dotsize, alpha = alpha)\n",
    "ax2.scatter(survived_dict['nocoszrs']['offline_moistening'], survived_dict['nocoszrs']['online_moisture'], color = color_dict['nocoszrs'], label='no zenith angle', s = dotsize, alpha = alpha)\n",
    "ax2.scatter(survived_dict['mae']['offline_moistening'], survived_dict['mae']['online_moisture'], color = color_dict['mae'], label='MAE', s = dotsize, alpha = alpha)\n",
    "ax2.scatter(survived_dict['nodropout']['offline_moistening'], survived_dict['nodropout']['online_moisture'], color = color_dict['nodropout'], label='no dropout', s = dotsize, alpha = alpha)\n",
    "ax2.scatter(survived_dict['multiclimate']['offline_moistening'], survived_dict['multiclimate']['online_moisture'], color = color_dict['multiclimate'], label='multiclimate', s = dotsize, alpha = alpha)\n",
    "ax2.set_xlabel('offline moistening RMSE (g/kg/s)', fontsize = 12)\n",
    "ax2.set_ylabel('online moisture RMSE (g/kg)', fontsize = 12)\n",
    "ax2.set_yscale('log')\n",
    "ax2.legend()\n",
    "\n",
    "fig.suptitle('Offline vs. Online Error, all configurations', fontsize = 14)\n",
    "plt.tight_layout()"
   ]
  },
  {
   "cell_type": "code",
   "execution_count": null,
   "metadata": {},
   "outputs": [],
   "source": [
    "def make_boxplots(model_dicts):\n",
    "    # Create a new figure and axis\n",
    "    fig, (ax1, ax2) = plt.subplots(1, 2, figsize=(14, 6))\n",
    "\n",
    "    # Define the position and size of the square\n",
    "    handles_Q = []\n",
    "    for config in model_dicts:\n",
    "        model_info = model_dicts[config]\n",
    "        label = label_dict[config]\n",
    "        color = color_dict[config]\n",
    "\n",
    "        offline_min_T = model_info[model_info['num_months']==12]['offline_heating'].min()\n",
    "        offline_25_T = model_info[model_info['num_months']==12]['offline_heating'].quantile(.25)\n",
    "        offline_50_T = model_info[model_info['num_months']==12]['offline_heating'].quantile(.5)\n",
    "        offline_75_T = model_info[model_info['num_months']==12]['offline_heating'].quantile(.75)\n",
    "        offline_max_T = model_info[model_info['num_months']==12]['offline_heating'].max()\n",
    "        offline_iqr_T = offline_75_T - offline_25_T\n",
    "        offline_outlier_mask_low_T = model_info[model_info['num_months']==12]['offline_heating'] < offline_25_T - 1.5*offline_iqr_T\n",
    "        offline_outlier_mask_high_T = model_info[model_info['num_months']==12]['offline_heating'] > offline_75_T + 1.5*offline_iqr_T\n",
    "        online_min_T = model_info[model_info['num_months']==12]['online_temperature'].min()\n",
    "        online_25_T = model_info[model_info['num_months']==12]['online_temperature'].quantile(.25)\n",
    "        online_50_T = model_info[model_info['num_months']==12]['online_temperature'].quantile(.5)\n",
    "        online_75_T = model_info[model_info['num_months']==12]['online_temperature'].quantile(.75)\n",
    "        online_max_T = model_info[model_info['num_months']==12]['online_temperature'].max()\n",
    "        online_iqr_T = online_75_T - online_25_T\n",
    "        online_outlier_mask_low_T = model_info[model_info['num_months']==12]['online_temperature'] < online_25_T - 1.5*online_iqr_T\n",
    "        online_outlier_mask_high_T = model_info[model_info['num_months']==12]['online_temperature'] > online_75_T + 1.5*online_iqr_T\n",
    "        outlier_mask_T = offline_outlier_mask_low_T | offline_outlier_mask_high_T | online_outlier_mask_low_T | online_outlier_mask_high_T\n",
    "        outliers_T = model_info[model_info['num_months']==12][outlier_mask_T]\n",
    "        x_T, y_T = offline_25_T, online_25_T  # bottom left corner\n",
    "        width_T, height_T = offline_75_T - offline_25_T, online_75_T - online_25_T  # width and height of the square\n",
    "        square_T = patches.Rectangle((x_T, y_T), width_T, height_T, linewidth=1, edgecolor = color, facecolor = 'none')\n",
    "        ax1.plot([offline_50_T, offline_50_T], [max(online_min_T, online_25_T - 1.5*online_iqr_T), min(online_max_T, online_75_T + 1.5*online_iqr_T)], color = color, linewidth=1)\n",
    "        ax1.plot([max(offline_min_T, offline_25_T - 1.5*offline_iqr_T), min(offline_max_T, offline_75_T + 1.5*offline_iqr_T)], [online_50_T, online_50_T], color=color, linewidth=1)\n",
    "        ax1.scatter(outliers_T['offline_heating'], outliers_T['online_temperature'], color = color, s = 2, alpha = .4)\n",
    "        ax1.add_patch(square_T)\n",
    "\n",
    "        offline_min_Q = model_info[model_info['num_months']==12]['offline_moistening'].min()\n",
    "        offline_25_Q = model_info[model_info['num_months']==12]['offline_moistening'].quantile(.25)\n",
    "        offline_50_Q = model_info[model_info['num_months']==12]['offline_moistening'].quantile(.5)\n",
    "        offline_75_Q = model_info[model_info['num_months']==12]['offline_moistening'].quantile(.75)\n",
    "        offline_max_Q = model_info[model_info['num_months']==12]['offline_moistening'].max()\n",
    "        offline_iqr_Q = offline_75_Q - offline_25_Q\n",
    "        offline_outlier_mask_low_Q = model_info[model_info['num_months']==12]['offline_moistening'] < offline_25_Q - 1.5*offline_iqr_Q\n",
    "        offline_outlier_mask_high_Q = model_info[model_info['num_months']==12]['offline_moistening'] > offline_75_Q + 1.5*offline_iqr_Q\n",
    "        online_min_Q = model_info[model_info['num_months']==12]['online_moisture'].min()\n",
    "        online_25_Q = model_info[model_info['num_months']==12]['online_moisture'].quantile(.25)\n",
    "        online_50_Q = model_info[model_info['num_months']==12]['online_moisture'].quantile(.5)\n",
    "        online_75_Q = model_info[model_info['num_months']==12]['online_moisture'].quantile(.75)\n",
    "        online_max_Q = model_info[model_info['num_months']==12]['online_moisture'].max()\n",
    "        online_iqr_Q = online_75_Q - online_25_Q\n",
    "        online_outlier_mask_low_Q = model_info[model_info['num_months']==12]['online_moisture'] < online_25_Q - 1.5*online_iqr_Q\n",
    "        online_outlier_mask_high_Q = model_info[model_info['num_months']==12]['online_moisture'] > online_75_Q + 1.5*online_iqr_Q\n",
    "        outlier_mask_Q = offline_outlier_mask_low_Q | offline_outlier_mask_high_Q | online_outlier_mask_low_Q | online_outlier_mask_high_Q\n",
    "        outliers_Q = model_info[model_info['num_months']==12][outlier_mask_Q]\n",
    "        x_Q, y_Q = offline_25_Q, online_25_Q  # bottom left corner\n",
    "        width_Q, height_Q = offline_75_Q - offline_25_Q, online_75_Q - online_25_Q  # width and height of the square\n",
    "        square_Q = patches.Rectangle((x_Q, y_Q), width_Q, height_Q, linewidth=1, edgecolor = color, facecolor = 'none', label = label)\n",
    "        handles_Q.append(square_Q)\n",
    "        ax2.plot([offline_50_Q, offline_50_Q], [max(online_min_Q, online_25_Q - 1.5*online_iqr_Q), min(online_max_Q, online_75_Q + 1.5*online_iqr_Q)], color = color, linewidth=1)\n",
    "        ax2.plot([max(offline_min_Q, offline_25_Q - 1.5*offline_iqr_Q), min(offline_max_Q, offline_75_Q + 1.5*offline_iqr_Q)], [online_50_Q, online_50_Q], color=color, linewidth=1)\n",
    "        ax2.scatter(outliers_Q['offline_moistening'], outliers_Q['online_moisture'], color = color, s = 2, alpha = .4)\n",
    "        ax2.add_patch(square_Q)\n",
    "\n",
    "    # Set the limits of the plot\n",
    "    ax1.set_xlim(1.9e-5, 3e-5)\n",
    "    ax1.set_ylim(.9, 50)\n",
    "    ax1.set_xlabel('offline heating RMSE (K/s)')\n",
    "    ax1.set_ylabel('online temperature RMSE (K)')\n",
    "    ax2.set_xlim(1.8e-5, 2.4e-5)\n",
    "    ax2.set_ylim(1e-1, 10)\n",
    "    ax2.set_xlabel('offline moistening RMSE (g/kg/s)')\n",
    "    ax2.set_ylabel('online moisture RMSE (g/kg)')\n",
    "\n",
    "    # Add grid\n",
    "    ax1.grid(True, which = 'both')\n",
    "    ax1.set_yscale('log')\n",
    "    ax2.grid(True)\n",
    "    ax2.set_yscale('log')\n",
    "    ax2.legend(handles = handles_Q, fontsize = 8)\n",
    "\n",
    "    # Show the plot\n",
    "    fig.suptitle('Offline vs. Online Error, all configurations', fontsize = 14)\n",
    "    plt.show()"
   ]
  },
  {
   "cell_type": "code",
   "execution_count": null,
   "metadata": {},
   "outputs": [],
   "source": [
    "make_boxplots(config_dict)"
   ]
  },
  {
   "cell_type": "code",
   "execution_count": null,
   "metadata": {},
   "outputs": [],
   "source": [
    "offline_heating_overall = pd.concat([survived_dict['standard']['offline_heating'], \\\n",
    "                                     survived_dict['nomemory']['offline_heating'], \\\n",
    "                                     survived_dict['nowind']['offline_heating'], \\\n",
    "                                     survived_dict['noozone']['offline_heating'], \\\n",
    "                                     survived_dict['nocoszrs']['offline_heating'], \\\n",
    "                                     survived_dict['mae']['offline_heating'], \\\n",
    "                                     survived_dict['nodropout']['offline_heating'], \\\n",
    "                                     survived_dict['multiclimate']['offline_heating']], axis = 0)\n",
    "\n",
    "offline_moistening_overall = pd.concat([survived_dict['standard']['offline_moistening'], \\\n",
    "                                        survived_dict['nomemory']['offline_moistening'], \\\n",
    "                                        survived_dict['nowind']['offline_moistening'], \\\n",
    "                                        survived_dict['noozone']['offline_moistening'], \\\n",
    "                                        survived_dict['nocoszrs']['offline_moistening'], \\\n",
    "                                        survived_dict['mae']['offline_moistening'], \\\n",
    "                                        survived_dict['nodropout']['offline_moistening'], \\\n",
    "                                        survived_dict['multiclimate']['offline_moistening']], axis = 0) \n",
    "\n",
    "online_temperature_overall = pd.concat([survived_dict['standard']['online_temperature'], \\\n",
    "                                        survived_dict['nomemory']['online_temperature'], \\\n",
    "                                        survived_dict['nowind']['online_temperature'], \\\n",
    "                                        survived_dict['noozone']['online_temperature'], \\\n",
    "                                        survived_dict['nocoszrs']['online_temperature'], \\\n",
    "                                        survived_dict['mae']['online_temperature'], \\\n",
    "                                        survived_dict['nodropout']['online_temperature'], \\\n",
    "                                        survived_dict['multiclimate']['online_temperature']], axis = 0)\n",
    "                            \n",
    "online_moisture_overall = pd.concat([survived_dict['standard']['online_moisture'], \\\n",
    "                                     survived_dict['nomemory']['online_moisture'], \\\n",
    "                                     survived_dict['nowind']['online_moisture'], \\\n",
    "                                     survived_dict['noozone']['online_moisture'], \\\n",
    "                                     survived_dict['nocoszrs']['online_moisture'], \\\n",
    "                                     survived_dict['mae']['online_moisture'], \\\n",
    "                                     survived_dict['nodropout']['online_moisture'], \\\n",
    "                                     survived_dict['multiclimate']['online_moisture']], axis = 0)\n",
    "\n",
    "overall_T_corr, overall_T_pval = spearmanr(offline_heating_overall, online_temperature_overall)\n",
    "overall_Q_corr, overall_Q_pval = spearmanr(offline_moistening_overall, online_moisture_overall)\n",
    "\n",
    "standard_T_corr, standard_T_pval = spearmanr(survived_dict['standard']['offline_heating'], survived_dict['standard']['online_temperature'])\n",
    "nomemory_T_corr, nomemory_T_pval = spearmanr(survived_dict['nomemory']['offline_heating'], survived_dict['nomemory']['online_temperature'])\n",
    "nowind_T_corr, nowind_T_pval = spearmanr(survived_dict['nowind']['offline_heating'], survived_dict['nowind']['online_temperature'])\n",
    "noozone_T_corr, noozone_T_pval = spearmanr(survived_dict['noozone']['offline_heating'], survived_dict['noozone']['online_temperature'])\n",
    "nocoszrs_T_corr, nocoszrs_T_pval = spearmanr(survived_dict['nocoszrs']['offline_heating'], survived_dict['nocoszrs']['online_temperature'])\n",
    "mae_T_corr, mae_T_pval = spearmanr(survived_dict['mae']['offline_heating'], survived_dict['mae']['online_temperature'])\n",
    "nodropout_T_corr, nodropout_T_pval = spearmanr(survived_dict['nodropout']['offline_heating'], survived_dict['nodropout']['online_temperature'])\n",
    "multiclimate_T_corr, multiclimate_T_pval = spearmanr(survived_dict['multiclimate']['offline_heating'], survived_dict['multiclimate']['online_temperature'])\n",
    "\n",
    "standard_Q_corr, standard_Q_pval = spearmanr(survived_dict['standard']['offline_moistening'], survived_dict['standard']['online_moisture'])\n",
    "nomemory_Q_corr, nomemory_Q_pval = spearmanr(survived_dict['nomemory']['offline_moistening'], survived_dict['nomemory']['online_moisture'])\n",
    "nowind_Q_corr, nowind_Q_pval = spearmanr(survived_dict['nowind']['offline_moistening'], survived_dict['nowind']['online_moisture'])\n",
    "noozone_Q_corr, noozone_Q_pval = spearmanr(survived_dict['noozone']['offline_moistening'], survived_dict['noozone']['online_moisture'])\n",
    "nocoszrs_Q_corr, nocoszrs_Q_pval = spearmanr(survived_dict['nocoszrs']['offline_moistening'], survived_dict['nocoszrs']['online_moisture'])\n",
    "mae_Q_corr, mae_Q_pval = spearmanr(survived_dict['mae']['offline_moistening'], survived_dict['mae']['online_moisture'])\n",
    "nodropout_Q_corr, nodropout_Q_pval = spearmanr(survived_dict['nodropout']['offline_moistening'], survived_dict['nodropout']['online_moisture'])\n",
    "multiclimate_Q_corr, multiclimate_Q_pval = spearmanr(survived_dict['multiclimate']['offline_moistening'], survived_dict['multiclimate']['online_moisture'])"
   ]
  },
  {
   "cell_type": "code",
   "execution_count": null,
   "metadata": {},
   "outputs": [],
   "source": [
    "print(standard_T_corr, standard_T_pval)\n",
    "print(specific_T_corr, specific_T_pval)\n",
    "print(nomemory_T_corr, nomemory_T_pval)\n",
    "print(nowind_T_corr, nowind_T_pval)\n",
    "print(noozone_T_corr, noozone_T_pval)\n",
    "print(nocoszrs_T_corr, nocoszrs_T_pval)\n",
    "print(mae_T_corr, mae_T_pval)\n",
    "print(nodropout_T_corr, nodropout_T_pval)\n",
    "print(multiclimate_T_corr, multiclimate_T_pval)"
   ]
  },
  {
   "cell_type": "code",
   "execution_count": null,
   "metadata": {},
   "outputs": [],
   "source": [
    "print(standard_Q_corr, standard_Q_pval)\n",
    "print(specific_Q_corr, specific_Q_pval)\n",
    "print(nomemory_Q_corr, nomemory_Q_pval)\n",
    "print(nowind_Q_corr, nowind_Q_pval)\n",
    "print(noozone_Q_corr, noozone_Q_pval)\n",
    "print(nocoszrs_Q_corr, nocoszrs_Q_pval)\n",
    "print(mae_Q_corr, mae_Q_pval)\n",
    "print(nodropout_Q_corr, nodropout_Q_pval)\n",
    "print(multiclimate_Q_corr, multiclimate_Q_pval)"
   ]
  },
  {
   "cell_type": "code",
   "execution_count": null,
   "metadata": {},
   "outputs": [],
   "source": [
    "print(overall_T_corr, overall_T_pval)\n",
    "print(overall_Q_corr, overall_Q_pval)"
   ]
  },
  {
   "cell_type": "code",
   "execution_count": null,
   "metadata": {},
   "outputs": [],
   "source": [
    "# def plot_kde_with_mode(series, label, color):\n",
    "#     # sns.kdeplot(series, bw_adjust=0.5, fill=True, color=color, alpha=0.5, label=f'KDE of {label}')\n",
    "#     # Compute KDE\n",
    "#     kde = sns.kdeplot(series).get_lines()[-1].get_data()\n",
    "#     x = kde[0]\n",
    "#     y = kde[1]\n",
    "#     # Find mode\n",
    "#     mode_index = argrelextrema(y, np.greater)[0]\n",
    "#     mode = x[mode_index][y[mode_index].argmax()]  # Highest peak\n",
    "#     plt.axvline(x=mode, color=color, linestyle='--', label=f'Mode of {label}: {mode:.2f}')\n",
    "#     plt.legend()\n",
    "#     return mode\n",
    "# plot_kde_with_mode(standard_model_info[standard_model_info['num_months']==12]['online_temperature'], 'standard', color_dict['standard'])"
   ]
  },
  {
   "cell_type": "markdown",
   "metadata": {},
   "source": [
    "# Zonal mean eval"
   ]
  },
  {
   "cell_type": "code",
   "execution_count": null,
   "metadata": {},
   "outputs": [],
   "source": [
    "sp_path = '/ocean/projects/atm200007p/jlin96/longSPrun_clean/trim_dir/trimmed/'\n",
    "sp_list = os.popen(\" \".join([\"ls\", sp_path + \"*.h1.0000*\"])).read().splitlines()\n",
    "sp_data = xr.open_mfdataset(sp_list)\n",
    "sp_temp = sp_data['NNTBSP'].mean(dim = ['time', 'lon'])\n",
    "sp_hum = sp_data['NNQBSP'].mean(dim = ['time', 'lon'])*1000\n",
    "X, Y = np.meshgrid(np.sin(sp_data[\"lat\"]*np.pi/180), np.array(range(30)))\n",
    "pressure_grid = sp_data['P0']*sp_data['hyam'] + sp_data['hybm']*sp_data['NNPSBSP']\n",
    "Y = pressure_grid.mean(dim = ['lon', 'time']).values"
   ]
  },
  {
   "cell_type": "code",
   "execution_count": null,
   "metadata": {},
   "outputs": [],
   "source": [
    "def plot_zonal_diff(config, model_rank, var = 'NNTBSP'):\n",
    "    model_rank = str(model_rank).zfill(3)\n",
    "    nn_path = '/ocean/projects/atm200007p/jlin96/nnspreadtesting_good/{}/coupled_results/{}_model_{}/'.format(config, config, model_rank)\n",
    "    nn_list = os.popen(\" \".join([\"ls\", nn_path + \"*.h1.0000*\"])).read().splitlines()\n",
    "    nn_data = xr.open_mfdataset(nn_list)\n",
    "    if var == 'NNTBSP':\n",
    "        nn_var = nn_data['NNTBSP'].mean(dim = ['time', 'lon'])\n",
    "        sp_var = sp_temp\n",
    "        vmin = -5\n",
    "        vmax = 5\n",
    "        var_title = 'Zonal mean temperature difference in (K)'\n",
    "        cmap = 'bwr'\n",
    "    elif var == 'NNQBSP':\n",
    "        nn_var = nn_data['NNQBSP'].mean(dim = ['time', 'lon'])*1000\n",
    "        sp_var = sp_hum\n",
    "        vmin = -5\n",
    "        vmax = 5\n",
    "        var_title = 'Zonal mean humidity difference in (g/kg)'\n",
    "        cmap = 'BrBG'\n",
    "    plt.pcolormesh(X, Y, nn_var - sp_var, cmap = cmap, vmin = vmin, vmax = vmax)\n",
    "    plt.xticks([np.sin(-50/180*np.pi), 0, np.sin(50/180*np.pi)], ['50$^\\circ$S', '0$^\\circ$', '50$^\\circ$N'])\n",
    "    plt.xlabel('latitude')\n",
    "    plt.ylabel('pressure')\n",
    "    plt.title(var_title)\n",
    "    plt.gca().invert_yaxis()\n",
    "    plt.colorbar()\n",
    "    plt.show()\n",
    "\n",
    "def showplots(config, model_info, var = \"NNTBSP\"):\n",
    "    if var == 'NNTBSP':\n",
    "        ranks = model_info[model_info['num_months']==12]['online_temperature'].sort_values().head().index\n",
    "    elif var == 'NNQBSP':\n",
    "        ranks = model_info[model_info['num_months']==12]['online_moisture'].sort_values().head().index\n",
    "    for rank in ranks:\n",
    "        plot_zonal_diff(config, rank, var)"
   ]
  },
  {
   "cell_type": "code",
   "execution_count": null,
   "metadata": {},
   "outputs": [],
   "source": [
    "showplots('specific', specific_model_info)"
   ]
  },
  {
   "cell_type": "markdown",
   "metadata": {},
   "source": [
    "# Dropout analysis"
   ]
  },
  {
   "cell_type": "code",
   "execution_count": null,
   "metadata": {},
   "outputs": [],
   "source": [
    "standard_dropout_T_corr, standard_dropout_T_pval = spearmanr(survived_dict['standard']['offline_heating'], survived_dict['standard']['online_temperature'])\n",
    "specific_dropout_T_corr, specific_dropout_T_pval = spearmanr(survived_dict['specific']['offline_heating'], survived_dict['specific']['online_temperature'])\n",
    "nomemory_dropout_T_corr, nomemory_dropout_T_pval = spearmanr(survived_dict['nomemory']['offline_heating'], survived_dict['nomemory']['online_temperature'])\n",
    "nowind_dropout_T_corr, nowind_dropout_T_pval = spearmanr(survived_dict['nowind']['offline_heating'], survived_dict['nowind']['online_temperature'])\n",
    "noozone_dropout_T_corr, noozone_dropout_T_pval = spearmanr(survived_dict['noozone']['offline_heating'], survived_dict['noozone']['online_temperature'])\n",
    "nocoszrs_dropout_T_corr, nocoszrs_dropout_T_pval = spearmanr(survived_dict['nocoszrs']['offline_heating'], survived_dict['nocoszrs']['online_temperature'])\n",
    "mae_dropout_T_corr, mae_dropout_T_pval = spearmanr(survived_dict['mae']['offline_heating'], survived_dict['mae']['online_temperature'])\n",
    "multiclimate_dropout_T_corr, multiclimate_dropout_T_pval = spearmanr(survived_dict['multiclimate']['offline_heating'], survived_dict['multiclimate']['online_temperature'])  \n",
    "\n",
    "standard_dropout_Q_corr, standard_dropout_Q_pval = spearmanr(survived_dict['standard']['offline_moistening'], survived_dict['standard']['online_moisture'])\n",
    "specific_dropout_Q_corr, specific_dropout_Q_pval = spearmanr(survived_dict['specific']['offline_moistening'], survived_dict['specific']['online_moisture'])\n",
    "nomemory_dropout_Q_corr, nomemory_dropout_Q_pval = spearmanr(survived_dict['nomemory']['offline_moistening'], survived_dict['nomemory']['online_moisture'])\n",
    "nowind_dropout_Q_corr, nowind_dropout_Q_pval = spearmanr(survived_dict['nowind']['offline_moistening'], survived_dict['nowind']['online_moisture'])\n",
    "noozone_dropout_Q_corr, noozone_dropout_Q_pval = spearmanr(survived_dict['noozone']['offline_moistening'], survived_dict['noozone']['online_moisture'])\n",
    "nocoszrs_dropout_Q_corr, nocoszrs_dropout_Q_pval = spearmanr(survived_dict['nocoszrs']['offline_moistening'], survived_dict['nocoszrs']['online_moisture'])\n",
    "mae_dropout_Q_corr, mae_dropout_Q_pval = spearmanr(survived_dict['mae']['offline_moistening'], survived_dict['mae']['online_moisture'])\n",
    "multiclimate_dropout_Q_corr, multiclimate_dropout_Q_pval = spearmanr(survived_dict['multiclimate']['offline_moistening'], survived_dict['multiclimate']['online_moisture'])"
   ]
  },
  {
   "cell_type": "code",
   "execution_count": null,
   "metadata": {},
   "outputs": [],
   "source": [
    "print(standard_dropout_T_corr, standard_dropout_T_pval)\n",
    "print(specific_dropout_T_corr, specific_dropout_T_pval)\n",
    "print(nomemory_dropout_T_corr, nomemory_dropout_T_pval)\n",
    "print(nowind_dropout_T_corr, nowind_dropout_T_pval)\n",
    "print(noozone_dropout_T_corr, noozone_dropout_T_pval)\n",
    "print(nocoszrs_dropout_T_corr, nocoszrs_dropout_T_pval)\n",
    "print(mae_dropout_T_corr, mae_dropout_T_pval)\n",
    "print(multiclimate_dropout_T_corr, multiclimate_dropout_T_pval)"
   ]
  },
  {
   "cell_type": "code",
   "execution_count": null,
   "metadata": {},
   "outputs": [],
   "source": [
    "print(standard_dropout_Q_corr, standard_dropout_Q_pval)\n",
    "print(nomemory_dropout_Q_corr, nomemory_dropout_Q_pval)\n",
    "print(nowind_dropout_Q_corr, nowind_dropout_Q_pval)\n",
    "print(noozone_dropout_Q_corr, noozone_dropout_Q_pval)\n",
    "print(nocoszrs_dropout_Q_corr, nocoszrs_dropout_Q_pval)\n",
    "print(mae_dropout_Q_corr, mae_dropout_Q_pval)\n",
    "print(multiclimate_dropout_Q_corr, multiclimate_dropout_Q_pval)"
   ]
  },
  {
   "cell_type": "markdown",
   "metadata": {},
   "source": [
    "# Residual analysis"
   ]
  },
  {
   "cell_type": "code",
   "execution_count": null,
   "metadata": {},
   "outputs": [],
   "source": [
    "from tensorflow import keras"
   ]
  },
  {
   "cell_type": "code",
   "execution_count": null,
   "metadata": {},
   "outputs": [],
   "source": [
    "standard_path = '/ocean/projects/atm200007p/jlin96/nnspreadtesting_good/standard/coupling_folder/'\n",
    "mae_path = '/ocean/projects/atm200007p/jlin96/nnspreadtesting_good/mae/coupling_folder/'\n",
    "\n",
    "standard_model_path = standard_path + 'h5_models/'\n",
    "mae_model_path = mae_path + 'h5_models/'\n",
    "\n",
    "norm_path = standard_path + 'norm_files/'\n",
    "\n",
    "inp_sub = np.loadtxt(norm_path + 'inp_sub.txt')[None,:]\n",
    "inp_div = np.loadtxt(norm_path + 'inp_div.txt')[None,:]\n",
    "out_scale = np.loadtxt(norm_path + 'out_scale.txt')[None,:]\n",
    "\n",
    "standard_models = [keras.models.load_model(standard_model_path + 'standard_model_' + str(i).zfill(3) + '.h5', compile = False) for i in range(1, 6)]\n",
    "mae_models = [keras.models.load_model(mae_model_path + 'mae_model_' + str(i).zfill(3) + '.h5', compile = False) for i in range(1, 6)]"
   ]
  },
  {
   "cell_type": "code",
   "execution_count": null,
   "metadata": {},
   "outputs": [],
   "source": [
    "data_path = \"/ocean/projects/atm200007p/jlin96/longSPrun_clean/\"\n",
    "sp_data = load_data(month = 9, year = 1, data_path = data_path)\n",
    "sp_data_test_input = np.load('standard/offline_evaluation/testing_data/test_input.npy')\n",
    "sp_data_test_target = np.load('standard/offline_evaluation/testing_data/test_target.npy')\n",
    "heating_true = sp_data_test_target[:,:30,:,:]\n",
    "moistening_true = sp_data_test_target[:,30:,:,:]\n",
    "num_timesteps = 336"
   ]
  },
  {
   "cell_type": "code",
   "execution_count": null,
   "metadata": {},
   "outputs": [],
   "source": [
    "def reshape_input(nn_input):\n",
    "    nn_input = nn_input.transpose(1,0,2,3)\n",
    "    ans = nn_input.ravel(order = 'F').reshape(175,-1,order = 'F')\n",
    "    print(ans.shape)\n",
    "    return ans\n",
    "\n",
    "def reverse_reshape(reshaped_arr, original_shape):\n",
    "    '''\n",
    "    reshaped_arr should be num_samples x features for this function to work properly\n",
    "    '''\n",
    "    arr = reshaped_arr.transpose().reshape(60, original_shape[0], original_shape[2], original_shape[3], order='F')\n",
    "    ans = arr.transpose(1,0,2,3)\n",
    "    print(ans.shape)\n",
    "    return ans\n",
    "\n",
    "reshaped_input = (reshape_input(sp_data_test_input).transpose() - inp_sub)/inp_div"
   ]
  },
  {
   "cell_type": "code",
   "execution_count": null,
   "metadata": {},
   "outputs": [],
   "source": [
    "def get_diffs(nn_model):\n",
    "    nn_predict = nn_model.predict(reshaped_input)/out_scale\n",
    "    nn_predict = np.concatenate((nn_predict[:,0:30], np.zeros((nn_predict.shape[0], 5)), nn_predict[:,30:]), axis = 1)\n",
    "    nn_predict_unshaped = reverse_reshape(nn_predict, sp_data_test_target.shape)\n",
    "    diff_predict_unshaped = nn_predict_unshaped - sp_data_test_target\n",
    "    heating_diff = diff_predict_unshaped[:,0:30,:,:]\n",
    "    moistening_diff = diff_predict_unshaped[:,30:60,:,:]\n",
    "    return heating_diff, moistening_diff"
   ]
  },
  {
   "cell_type": "code",
   "execution_count": null,
   "metadata": {},
   "outputs": [],
   "source": [
    "heating_diff, moistening_diff = get_diffs(mae_models[0])"
   ]
  },
  {
   "cell_type": "code",
   "execution_count": null,
   "metadata": {},
   "outputs": [],
   "source": [
    "heating_diff.shape"
   ]
  },
  {
   "cell_type": "code",
   "execution_count": null,
   "metadata": {},
   "outputs": [],
   "source": [
    "plt.hist(heating_diff[:,0,:,:].flatten(), bins = 100);"
   ]
  },
  {
   "cell_type": "code",
   "execution_count": null,
   "metadata": {},
   "outputs": [],
   "source": [
    "sample = np.random.choice(heating_diff[:,0,:,:].flatten(), 4000, replace=False)\n",
    "\n",
    "# Create QQ plot with Laplace distribution\n",
    "stats.probplot(sample, dist=stats.laplace, plot=plt)\n",
    "plt.title('QQ Residuals Plot against Laplace distribution')"
   ]
  },
  {
   "cell_type": "code",
   "execution_count": null,
   "metadata": {},
   "outputs": [],
   "source": [
    "sample = np.random.choice(heating_diff[:,0,:,:].flatten(), 4000, replace=False)\n",
    "\n",
    "# Create QQ plot with Laplace distribution\n",
    "stats.probplot(sample, dist=stats.norm, plot=plt)\n",
    "plt.title('QQ Residuals Plot against Normal distribution')"
   ]
  },
  {
   "cell_type": "code",
   "execution_count": null,
   "metadata": {},
   "outputs": [],
   "source": [
    "data = np.random.laplace(loc=0, scale=1, size=1000)  # replace with your actual data\n",
    "\n",
    "# Create QQ plot with Laplace distribution\n",
    "stats.probplot(sample, dist=stats.norm, plot=plt)\n",
    "plt.title('QQ Plot against normal distribution')"
   ]
  },
  {
   "cell_type": "code",
   "execution_count": null,
   "metadata": {},
   "outputs": [],
   "source": [
    "stats.probplot(heating_diff.flatten(), dist=stats.norm, plot=plt)\n",
    "plt.title('QQ Plot against Laplace distribution')"
   ]
  },
  {
   "cell_type": "code",
   "execution_count": null,
   "metadata": {},
   "outputs": [],
   "source": []
  }
 ],
 "metadata": {
  "kernelspec": {
   "display_name": "Python 3 (ipykernel)",
   "language": "python",
   "name": "python3"
  },
  "language_info": {
   "codemirror_mode": {
    "name": "ipython",
    "version": 3
   },
   "file_extension": ".py",
   "mimetype": "text/x-python",
   "name": "python",
   "nbconvert_exporter": "python",
   "pygments_lexer": "ipython3",
   "version": "3.11.0"
  }
 },
 "nbformat": 4,
 "nbformat_minor": 2
}
