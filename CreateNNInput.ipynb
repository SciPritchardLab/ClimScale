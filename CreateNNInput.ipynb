{
 "cells": [
  {
   "cell_type": "markdown",
   "id": "15ebc57f-dc88-4fee-b522-1ab3e75955d7",
   "metadata": {},
   "source": [
    "# Importing packages"
   ]
  },
  {
   "cell_type": "code",
   "execution_count": 1,
   "id": "d966e0b6-440f-492a-985a-1a2ee774cd0b",
   "metadata": {},
   "outputs": [],
   "source": [
    "import xarray as xr\n",
    "import numpy as np\n",
    "import matplotlib.pyplot as plt\n",
    "import os\n",
    "import re\n",
    "from sklearn.model_selection import train_test_split\n",
    "from tqdm import tqdm\n",
    "\n",
    "np.random.seed(2022)"
   ]
  },
  {
   "cell_type": "markdown",
   "id": "52ddf26d-7e65-4df1-a7d7-b4df98a22792",
   "metadata": {},
   "source": [
    "# Relhum conversion functions"
   ]
  },
  {
   "cell_type": "code",
   "execution_count": 2,
   "id": "58a08c34-4203-4b7e-9f72-6ee3c6de3fe9",
   "metadata": {},
   "outputs": [],
   "source": [
    "def eliq(T):\n",
    "    a_liq = np.float32(np.array([-0.976195544e-15,-0.952447341e-13,\\\n",
    "                                 0.640689451e-10,\\\n",
    "                      0.206739458e-7,0.302950461e-5,0.264847430e-3,\\\n",
    "                      0.142986287e-1,0.443987641,6.11239921]));\n",
    "    c_liq = np.float32(-80.0)\n",
    "    T0 = np.float32(273.16)\n",
    "    return np.float32(100.0)*np.polyval(a_liq,np.maximum(c_liq,T-T0))\n",
    "\n",
    "def eice(T):\n",
    "    a_ice = np.float32(np.array([0.252751365e-14,0.146898966e-11,0.385852041e-9,\\\n",
    "                      0.602588177e-7,0.615021634e-5,0.420895665e-3,\\\n",
    "                      0.188439774e-1,0.503160820,6.11147274]));\n",
    "    c_ice = np.float32(np.array([273.15,185,-100,0.00763685,0.000151069,7.48215e-07]))\n",
    "    T0 = np.float32(273.16)\n",
    "    return np.where(T>c_ice[0],eliq(T),\\\n",
    "                   np.where(T<=c_ice[1],np.float32(100.0)*(c_ice[3]+np.maximum(c_ice[2],T-T0)*\\\n",
    "                   (c_ice[4]+np.maximum(c_ice[2],T-T0)*c_ice[5])),\\\n",
    "                           np.float32(100.0)*np.polyval(a_ice,T-T0)))\n",
    "\n",
    "def esat(T):\n",
    "    T0 = np.float32(273.16)\n",
    "    T00 = np.float32(253.16)\n",
    "    omtmp = (T-T00)/(T0-T00)\n",
    "    omega = np.maximum(np.float32(0.0),np.minimum(np.float32(1.0),omtmp))\n",
    "    return np.where(T>T0,eliq(T),np.where(T<T00,eice(T),(omega*eliq(T)+(1-omega)*eice(T))))\n",
    "\n",
    "def RH(T,qv,P0,PS,hyam,hybm):\n",
    "    R = np.float32(287.0)\n",
    "    Rv = np.float32(461.0)\n",
    "    p = P0 * hyam + PS[:, None] * hybm # Total pressure (Pa)\n",
    "    \n",
    "    T = np.float32(T)\n",
    "    qv = np.float32(qv)\n",
    "    p = np.float32(p)\n",
    "    \n",
    "    return Rv*p*qv/(R*esat(T))"
   ]
  },
  {
   "cell_type": "markdown",
   "id": "f97a600d-245a-4016-b25f-3c6495c0973c",
   "metadata": {},
   "source": [
    "# Data processing functions"
   ]
  },
  {
   "cell_type": "code",
   "execution_count": 5,
   "id": "545f3bc4-43a9-46d2-88d5-0b29433905a2",
   "metadata": {},
   "outputs": [],
   "source": [
    "def doMonth(month):\n",
    "    datasets = !ls\n",
    "    n = str(month)\n",
    "    datasets = [x for x in datasets if \"h1.0000-\" + n.zfill(2) in x]\n",
    "    return xr.open_mfdataset(datasets)\n",
    "\n",
    "def make_nninput(month, family = \"relative\"):\n",
    "    spData = doMonth(month)\n",
    "    print(\"read in data\")\n",
    "    nntbp = np.float32(spData[\"NNTBP\"].values)\n",
    "    nnqbp = np.float32(spData[\"NNQBP\"].values)\n",
    "    p0 = np.float32(spData[\"P0\"].values)\n",
    "    ps = np.float32(spData[\"NNPS\"].values)\n",
    "    hyam = np.float32(spData[\"hyam\"].values)\n",
    "    hybm = np.float32(spData[\"hybm\"].values)\n",
    "    relhum = np.float32(spData[\"RELHUM\"].values)\n",
    "    tphystnd = np.float32(spData[\"TPHYSTND\"].values)\n",
    "    phq = np.float32(spData[\"PHQ\"].values)\n",
    "\n",
    "    p0 = np.float32(np.array(list(set(p0))))\n",
    "    print(\"loaded in data\")\n",
    "    newhum = np.float32(np.zeros((spData[\"time\"].shape[0],\\\n",
    "                                  spData[\"lev\"].shape[0], \\\n",
    "                                  spData[\"lat\"].shape[0], \\\n",
    "                                  spData[\"lon\"].shape[0])))\n",
    "    lats = spData[\"lat\"]\n",
    "    lons = spData[\"lon\"]\n",
    "    print(\"starting for loop\")\n",
    "    for i in tqdm(range(len(lats))):\n",
    "        for j in range(len(lons)):\n",
    "            latIndex = i\n",
    "            lonIndex = j\n",
    "            R = np.float32(287.0)\n",
    "            Rv = np.float32(461.0)\n",
    "            p = np.float32(p0 * hyam + ps[:, None, latIndex, lonIndex] * hybm) # Total pressure (Pa)\n",
    "\n",
    "            T = np.float32(nntbp[:, :, latIndex, lonIndex])\n",
    "            qv = np.float32(nnqbp[:, :, latIndex, lonIndex])\n",
    "            p = np.float32(p)\n",
    "            newhum[:,:, latIndex, lonIndex] = np.float32(Rv*p*qv/(R*esat(T)))\n",
    "    \n",
    "    nntbp = np.float32(np.moveaxis(nntbp[1:,:,:,:],0,1))\n",
    "    print(\"nntbp\")\n",
    "    print(nntbp.shape)\n",
    "    \n",
    "    nnqbp = np.float32(np.moveaxis(nnqbp[1:,:,:,:],0,1))\n",
    "    print(\"nnqbp\")\n",
    "    print(nnqbp.shape)\n",
    "    \n",
    "    lhflx = np.float32(spData[\"LHFLX\"].values[np.newaxis,:-1,:,:])\n",
    "    print(\"lhflx\")\n",
    "    print(lhflx.shape)\n",
    "    \n",
    "    shflx = np.float32(spData[\"SHFLX\"].values[np.newaxis,:-1,:,:])\n",
    "    print(\"shflx\")\n",
    "    print(shflx.shape)\n",
    "    \n",
    "    ps = np.float32(spData[\"NNPS\"].values[np.newaxis,1:,:,:])\n",
    "    print(\"ps\")\n",
    "    print(ps.shape)\n",
    "    \n",
    "    solin = np.float32(spData[\"SOLIN\"].values[np.newaxis,1:,:,:])\n",
    "    print(\"solin\")\n",
    "    print(solin.shape)\n",
    "    \n",
    "    newhum = np.float32(np.moveaxis(newhum[1:,:,:,:],0,1))\n",
    "    print(\"newhum\")\n",
    "    print(newhum.shape)\n",
    "    \n",
    "    oldhum = np.float32(np.moveaxis(relhum[1:,:,:,:],0,1))\n",
    "    print(\"oldhum\")\n",
    "    print(oldhum.shape)\n",
    "    \n",
    "    tphystnd = np.float32(np.moveaxis(tphystnd[1:,:,:,:],0,1))\n",
    "    print(\"tphystnd\")\n",
    "    print(tphystnd.shape)\n",
    "    \n",
    "    phq = np.float32(np.moveaxis(phq[1:,:,:,:],0,1))\n",
    "    print(\"phq\")\n",
    "    print(phq.shape)\n",
    "        \n",
    "    if family == \"specific\":\n",
    "        nnInput = np.float32(np.concatenate((nntbp, \\\n",
    "                                             nnqbp, \\\n",
    "                                             ps, \\\n",
    "                                             solin, \\\n",
    "                                             shflx, \\\n",
    "                                             lhflx)))\n",
    "        \n",
    "        nnTarget = np.float32(np.concatenate((tphystnd, phq)))\n",
    "        \n",
    "        nnInput = nnInput[:,:-1,:,:]\n",
    "        nnTarget = nnTarget[:,:-1,:,:]\n",
    "    \n",
    "    elif family == \"relative\":\n",
    "        nnInput = np.float32(np.concatenate((nntbp, \\\n",
    "                                         newhum, \\\n",
    "                                         ps, \\\n",
    "                                         solin, \\\n",
    "                                         shflx, \\\n",
    "                                         lhflx)))\n",
    "                             \n",
    "        nnTarget = np.float32(np.concatenate((tphystnd, phq)))\n",
    "        \n",
    "        nnInput = nnInput[:,:-1,:,:]\n",
    "        nnTarget = nnTarget[:,:-1,:,:]\n",
    "    \n",
    "    print(\"nnInput\")\n",
    "    nnInput.shape\n",
    "    \n",
    "    print(\"nnTarget\")\n",
    "    nnTarget.shape\n",
    "    \n",
    "    errors = (newhum-oldhum/100).flatten()\n",
    "    result = \"Mean relative humidity conversion error: \" + str(np.mean(errors)) + \"\\n\"\n",
    "    result = result + \"Variance for relative humidity conversion error: \" + str(np.var(errors)) + \"\\n\"\n",
    "    result = result + \"nntbp.shape: \" + str(nntbp.shape) + \"\\n\"\n",
    "    result = result + \"nnqbp.shape: \" + str(nnqbp.shape) + \"\\n\"\n",
    "    result = result + \"lhflx.shape: \" + str(lhflx.shape) + \"\\n\"\n",
    "    result = result + \"shflx.shape: \" + str(shflx.shape) + \"\\n\"\n",
    "    result = result + \"ps.shape: \" + str(ps.shape) + \"\\n\"\n",
    "    result = result + \"solin.shape: \" + str(solin.shape) + \"\\n\"\n",
    "    result = result + \"newhum.shape: \" + str(newhum.shape) + \"\\n\"\n",
    "    result = result + \"oldhum.shape: \" + str(oldhum.shape) + \"\\n\"\n",
    "    result = result + \"tphystnd.shape: \" + str(tphystnd.shape) + \"\\n\"\n",
    "    result = result + \"phq.shape: \" + str(phq.shape) + \"\\n\"\n",
    "    result = result + \"nnInput.shape: \" + str(nnInput.shape) + \"\\n\"\n",
    "    print(result)\n",
    "\n",
    "    diagnostics = 'diagnostics' + suffix + '.txt'\n",
    "    with open(diagnostics, 'a') as fp:\n",
    "        fp.write(result)\n",
    "    \n",
    "    return nnInput, nnTarget\n",
    "                         \n",
    "def sampleIndices(size, spacing, fixed = True):\n",
    "    numIndices = np.round(size/spacing)\n",
    "    if fixed:\n",
    "        indices = np.array([int(x) for x in np.round(np.linspace(1,size,int(numIndices)))])-1\n",
    "    else:\n",
    "        indices = list(range(size))\n",
    "        np.random.shuffle(indices)\n",
    "        indices = indices[0:int(numIndices)]\n",
    "    return indices\n",
    "\n",
    "def reshapeInput(nnData, subsample = False, spacing = 5):\n",
    "    if subsample:\n",
    "        nnData = nnData[:,:,:,sampleIndices(nnData.shape[3], spacing, True)]\n",
    "    nnData = nnData.ravel(order = 'F').reshape(64,-1,order = 'F')\n",
    "    return nnData\n",
    "\n",
    "def reshapeTarget(nnData, subsample = False, spacing = 5):\n",
    "    if subsample:\n",
    "        nnData = nnData[:,:,:,sampleIndices(nnData.shape[3], spacing, True)]\n",
    "    nnData = nnData.ravel(order = 'F').reshape(60,-1,order = 'F')\n",
    "    return nnData\n",
    "\n"
   ]
  },
  {
   "cell_type": "code",
   "execution_count": 54,
   "id": "0dd4d66d-7581-49af-8d41-6b3a9072f379",
   "metadata": {},
   "outputs": [
    {
     "name": "stdout",
     "output_type": "stream",
     "text": [
      "read in data\n",
      "loaded in data\n",
      "starting for loop\n"
     ]
    },
    {
     "name": "stderr",
     "output_type": "stream",
     "text": [
      "100%|█████████████████████████████████████████████████████████████████████████████████████████████████| 64/64 [00:04<00:00, 14.07it/s]\n"
     ]
    },
    {
     "name": "stdout",
     "output_type": "stream",
     "text": [
      "nntbp\n",
      "(30, 95, 64, 128)\n",
      "nnqbp\n",
      "(30, 95, 64, 128)\n",
      "lhflx\n",
      "(1, 95, 64, 128)\n",
      "shflx\n",
      "(1, 95, 64, 128)\n",
      "ps\n",
      "(1, 95, 64, 128)\n",
      "solin\n",
      "(1, 95, 64, 128)\n",
      "newhum\n",
      "(30, 95, 64, 128)\n",
      "oldhum\n",
      "(30, 95, 64, 128)\n",
      "tphystnd\n",
      "(30, 95, 64, 128)\n",
      "phq\n",
      "(30, 95, 64, 128)\n",
      "nnInput\n",
      "Mean relative humidity conversion error: 0.0041737375\n",
      "Variance for relative humidity conversion error: 0.00046795444\n",
      "nntbp.shape: (30, 95, 64, 128)\n",
      "nnqbp.shape: (30, 95, 64, 128)\n",
      "lhflx.shape: (1, 95, 64, 128)\n",
      "shflx.shape: (1, 95, 64, 128)\n",
      "ps.shape: (1, 95, 64, 128)\n",
      "solin.shape: (1, 95, 64, 128)\n",
      "newhum.shape: (30, 95, 64, 128)\n",
      "oldhum.shape: (30, 95, 64, 128)\n",
      "tphystnd.shape: (30, 95, 64, 128)\n",
      "phq.shape: (30, 95, 64, 128)\n",
      "nnInput.shape: (184, 94, 64, 128)\n",
      "\n"
     ]
    }
   ],
   "source": [
    "hmm = make_nninput_relative(11)"
   ]
  },
  {
   "cell_type": "code",
   "execution_count": 55,
   "id": "537689e8-725c-4284-a6b6-38d15b2efe06",
   "metadata": {},
   "outputs": [
    {
     "data": {
      "text/plain": [
       "(184, 94, 64, 128)"
      ]
     },
     "execution_count": 55,
     "metadata": {},
     "output_type": "execute_result"
    }
   ],
   "source": [
    "hmm.shape"
   ]
  },
  {
   "cell_type": "code",
   "execution_count": 76,
   "id": "4a0afc98-7455-443d-ac20-57095b848246",
   "metadata": {},
   "outputs": [],
   "source": [
    "wot = shrinkArray(hmm, 250)"
   ]
  },
  {
   "cell_type": "code",
   "execution_count": 77,
   "id": "688f0d19-3df8-4300-846a-642bce17f933",
   "metadata": {},
   "outputs": [
    {
     "data": {
      "text/plain": [
       "(184, 6016)"
      ]
     },
     "execution_count": 77,
     "metadata": {},
     "output_type": "execute_result"
    }
   ],
   "source": [
    "wot.shape"
   ]
  },
  {
   "cell_type": "code",
   "execution_count": 59,
   "id": "c24302e2-9cd2-4874-a1b4-1524df59635b",
   "metadata": {},
   "outputs": [
    {
     "data": {
      "text/plain": [
       "(184, 72192)"
      ]
     },
     "execution_count": 59,
     "metadata": {},
     "output_type": "execute_result"
    }
   ],
   "source": [
    "datasets = []\n",
    "for arr in tqdm(files):\n",
    "    datasets.append(shrinkArray(nnData, 5))\n",
    "combinedData = np.concatenate(datasets, axis = 1)"
   ]
  },
  {
   "cell_type": "markdown",
   "id": "e09b9ffd-da19-4c3d-b73b-dd76fc8d4b06",
   "metadata": {},
   "source": [
    "# run the code"
   ]
  },
  {
   "cell_type": "code",
   "execution_count": null,
   "id": "67592cb2-9c14-4d60-9975-937ae1e1f82e",
   "metadata": {},
   "outputs": [],
   "source": [
    "#saveNNInput(1)"
   ]
  },
  {
   "cell_type": "code",
   "execution_count": null,
   "id": "c703eb64-1026-4d95-b5ee-ad9adf4758a6",
   "metadata": {},
   "outputs": [],
   "source": [
    "#saveNNInput(2)"
   ]
  },
  {
   "cell_type": "code",
   "execution_count": null,
   "id": "808276fe-3894-40f0-bc3a-e5d4dd95d30b",
   "metadata": {},
   "outputs": [],
   "source": [
    "#saveNNInput(3)"
   ]
  },
  {
   "cell_type": "code",
   "execution_count": null,
   "id": "66e62ce0-0a4b-4df4-ad7d-6bc5eb905d55",
   "metadata": {},
   "outputs": [],
   "source": [
    "#saveNNInput(4)"
   ]
  },
  {
   "cell_type": "code",
   "execution_count": null,
   "id": "023a6d72-01bd-4434-b640-5269e9a8c4a3",
   "metadata": {},
   "outputs": [],
   "source": [
    "#saveNNInput(5)"
   ]
  }
 ],
 "metadata": {
  "kernelspec": {
   "display_name": "Python 3 (ipykernel)",
   "language": "python",
   "name": "python3"
  },
  "language_info": {
   "codemirror_mode": {
    "name": "ipython",
    "version": 3
   },
   "file_extension": ".py",
   "mimetype": "text/x-python",
   "name": "python",
   "nbconvert_exporter": "python",
   "pygments_lexer": "ipython3",
   "version": "3.10.2"
  }
 },
 "nbformat": 4,
 "nbformat_minor": 5
}
