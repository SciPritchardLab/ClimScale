{
 "cells": [
  {
   "cell_type": "markdown",
   "id": "15ebc57f-dc88-4fee-b522-1ab3e75955d7",
   "metadata": {},
   "source": [
    "# Importing packages"
   ]
  },
  {
   "cell_type": "code",
   "execution_count": 143,
   "id": "d966e0b6-440f-492a-985a-1a2ee774cd0b",
   "metadata": {},
   "outputs": [],
   "source": [
    "import xarray as xr\n",
    "import numpy as np\n",
    "import matplotlib.pyplot as plt\n",
    "import os\n",
    "import re\n",
    "from tqdm import tqdm"
   ]
  },
  {
   "cell_type": "markdown",
   "id": "52ddf26d-7e65-4df1-a7d7-b4df98a22792",
   "metadata": {},
   "source": [
    "# Relhum conversion functions"
   ]
  },
  {
   "cell_type": "code",
   "execution_count": 144,
   "id": "58a08c34-4203-4b7e-9f72-6ee3c6de3fe9",
   "metadata": {},
   "outputs": [],
   "source": [
    "def eliq(T):\n",
    "    a_liq = np.float32(np.array([-0.976195544e-15,-0.952447341e-13,\\\n",
    "                                 0.640689451e-10,\\\n",
    "                      0.206739458e-7,0.302950461e-5,0.264847430e-3,\\\n",
    "                      0.142986287e-1,0.443987641,6.11239921]));\n",
    "    c_liq = np.float32(-80.0)\n",
    "    T0 = np.float32(273.16)\n",
    "    return np.float32(100.0)*np.polyval(a_liq,np.maximum(c_liq,T-T0))\n",
    "\n",
    "def eice(T):\n",
    "    a_ice = np.float32(np.array([0.252751365e-14,0.146898966e-11,0.385852041e-9,\\\n",
    "                      0.602588177e-7,0.615021634e-5,0.420895665e-3,\\\n",
    "                      0.188439774e-1,0.503160820,6.11147274]));\n",
    "    c_ice = np.float32(np.array([273.15,185,-100,0.00763685,0.000151069,7.48215e-07]))\n",
    "    T0 = np.float32(273.16)\n",
    "    return np.where(T>c_ice[0],eliq(T),\\\n",
    "                   np.where(T<=c_ice[1],np.float32(100.0)*(c_ice[3]+np.maximum(c_ice[2],T-T0)*\\\n",
    "                   (c_ice[4]+np.maximum(c_ice[2],T-T0)*c_ice[5])),\\\n",
    "                           np.float32(100.0)*np.polyval(a_ice,T-T0)))\n",
    "\n",
    "def esat(T):\n",
    "    T0 = np.float32(273.16)\n",
    "    T00 = np.float32(253.16)\n",
    "    omtmp = (T-T00)/(T0-T00)\n",
    "    omega = np.maximum(np.float32(0.0),np.minimum(np.float32(1.0),omtmp))\n",
    "    return np.where(T>T0,eliq(T),np.where(T<T00,eice(T),(omega*eliq(T)+(1-omega)*eice(T))))\n",
    "\n",
    "def RH(T,qv,P0,PS,hyam,hybm):\n",
    "    R = np.float32(287.0)\n",
    "    Rv = np.float32(461.0)\n",
    "    p = P0 * hyam + PS[:, None] * hybm # Total pressure (Pa)\n",
    "    \n",
    "    T = np.float32(T)\n",
    "    qv = np.float32(qv)\n",
    "    p = np.float32(p)\n",
    "    \n",
    "    return Rv*p*qv/(R*esat(T))"
   ]
  },
  {
   "cell_type": "markdown",
   "id": "f97a600d-245a-4016-b25f-3c6495c0973c",
   "metadata": {},
   "source": [
    "# Data processing functions"
   ]
  },
  {
   "cell_type": "code",
   "execution_count": 164,
   "id": "545f3bc4-43a9-46d2-88d5-0b29433905a2",
   "metadata": {},
   "outputs": [],
   "source": [
    "def do_month(month):\n",
    "    datasets = !ls\n",
    "    n = str(month)\n",
    "    datasets = [x for x in datasets if \"h1.0000-\" + n.zfill(2) in x]\n",
    "    return xr.open_mfdataset(datasets)\n",
    "\n",
    "def make_nninput(spData, family, save_diagnostics = False, full_run = False):\n",
    "    nntbp = np.float32(spData[\"NNTBP\"].values)\n",
    "    nnqbp = np.float32(spData[\"NNQBP\"].values)\n",
    "    p0 = np.float32(spData[\"P0\"].values)\n",
    "    ps = np.float32(spData[\"NNPS\"].values)\n",
    "    hyam = np.float32(spData[\"hyam\"].values)\n",
    "    hybm = np.float32(spData[\"hybm\"].values)\n",
    "    relhum = np.float32(spData[\"RELHUM\"].values)\n",
    "    tphystnd = np.float32(spData[\"TPHYSTND\"].values)\n",
    "    phq = np.float32(spData[\"PHQ\"].values)\n",
    "\n",
    "    p0 = np.float32(np.array(list(set(p0))))\n",
    "    print(\"loaded in data\")\n",
    "    newhum = np.float32(np.zeros((spData[\"time\"].shape[0],\\\n",
    "                                  spData[\"lev\"].shape[0], \\\n",
    "                                  spData[\"lat\"].shape[0], \\\n",
    "                                  spData[\"lon\"].shape[0])))\n",
    "    lats = spData[\"lat\"]\n",
    "    lons = spData[\"lon\"]\n",
    "    print(\"starting for loop\")\n",
    "    for i in tqdm(range(len(lats))):\n",
    "        for j in range(len(lons)):\n",
    "            latIndex = i\n",
    "            lonIndex = j\n",
    "            R = np.float32(287.0)\n",
    "            Rv = np.float32(461.0)\n",
    "            p = np.float32(p0 * hyam + ps[:, None, latIndex, lonIndex] * hybm) # Total pressure (Pa)\n",
    "            T = np.float32(nntbp[:, :, latIndex, lonIndex])\n",
    "            qv = np.float32(nnqbp[:, :, latIndex, lonIndex])\n",
    "            p = np.float32(p)\n",
    "            newhum[:,:, latIndex, lonIndex] = np.float32(Rv*p*qv/(R*esat(T)))\n",
    "    \n",
    "    nntbp = np.float32(np.moveaxis(nntbp[1:,:,:,:],0,1))\n",
    "    print(\"nntbp\")\n",
    "    print(nntbp.shape)\n",
    "    \n",
    "    nnqbp = np.float32(np.moveaxis(nnqbp[1:,:,:,:],0,1))\n",
    "    print(\"nnqbp\")\n",
    "    print(nnqbp.shape)\n",
    "    \n",
    "    lhflx = np.float32(spData[\"LHFLX\"].values[np.newaxis,:-1,:,:])\n",
    "    print(\"lhflx\")\n",
    "    print(lhflx.shape)\n",
    "    \n",
    "    shflx = np.float32(spData[\"SHFLX\"].values[np.newaxis,:-1,:,:])\n",
    "    print(\"shflx\")\n",
    "    print(shflx.shape)\n",
    "    \n",
    "    ps = np.float32(spData[\"NNPS\"].values[np.newaxis,1:,:,:])\n",
    "    print(\"ps\")\n",
    "    print(ps.shape)\n",
    "    \n",
    "    solin = np.float32(spData[\"SOLIN\"].values[np.newaxis,1:,:,:])\n",
    "    print(\"solin\")\n",
    "    print(solin.shape)\n",
    "    \n",
    "    newhum = np.float32(np.moveaxis(newhum[1:,:,:,:],0,1))\n",
    "    print(\"newhum\")\n",
    "    print(newhum.shape)\n",
    "    \n",
    "    oldhum = np.float32(np.moveaxis(relhum[1:,:,:,:],0,1))\n",
    "    print(\"oldhum\")\n",
    "    print(oldhum.shape)\n",
    "    \n",
    "    tphystnd = np.float32(np.moveaxis(tphystnd[1:,:,:,:],0,1))\n",
    "    print(\"tphystnd\")\n",
    "    print(tphystnd.shape)\n",
    "    \n",
    "    phq = np.float32(np.moveaxis(phq[1:,:,:,:],0,1))\n",
    "    print(\"phq\")\n",
    "    print(phq.shape)\n",
    "        \n",
    "    if family == \"specific\":\n",
    "        nnInput = np.float32(np.concatenate((nntbp, \\\n",
    "                                             nnqbp, \\\n",
    "                                             ps, \\\n",
    "                                             solin, \\\n",
    "                                             shflx, \\\n",
    "                                             lhflx)))\n",
    "        \n",
    "        nnTarget = np.float32(np.concatenate((tphystnd, phq)))\n",
    "    \n",
    "    elif family == \"relative\":\n",
    "        nnInput = np.float32(np.concatenate((nntbp, \\\n",
    "                                         newhum, \\\n",
    "                                         ps, \\\n",
    "                                         solin, \\\n",
    "                                         shflx, \\\n",
    "                                         lhflx)))\n",
    "                             \n",
    "        nnTarget = np.float32(np.concatenate((tphystnd, phq)))\n",
    "    \n",
    "    if full_run:\n",
    "        nnInput = nnInput[:,:-1,:,:] #the last timestep of a run can have funky values\n",
    "        nnTarget = nnTarget[:,:-1,:,:] #the last timestep of a run can have funky values\n",
    "    \n",
    "    print(\"nnInput\")\n",
    "    nnInput.shape\n",
    "    \n",
    "    print(\"nnTarget\")\n",
    "    nnTarget.shape\n",
    "    \n",
    "    errors = (newhum-oldhum/100).flatten()\n",
    "    result = \"Mean relative humidity conversion error: \" + str(np.mean(errors)) + \"\\n\"\n",
    "    result = result + \"Variance for relative humidity conversion error: \" + str(np.var(errors)) + \"\\n\"\n",
    "    result = result + \"nntbp.shape: \" + str(nntbp.shape) + \"\\n\"\n",
    "    result = result + \"nnqbp.shape: \" + str(nnqbp.shape) + \"\\n\"\n",
    "    result = result + \"lhflx.shape: \" + str(lhflx.shape) + \"\\n\"\n",
    "    result = result + \"shflx.shape: \" + str(shflx.shape) + \"\\n\"\n",
    "    result = result + \"ps.shape: \" + str(ps.shape) + \"\\n\"\n",
    "    result = result + \"solin.shape: \" + str(solin.shape) + \"\\n\"\n",
    "    result = result + \"newhum.shape: \" + str(newhum.shape) + \"\\n\"\n",
    "    result = result + \"oldhum.shape: \" + str(oldhum.shape) + \"\\n\"\n",
    "    result = result + \"tphystnd.shape: \" + str(tphystnd.shape) + \"\\n\"\n",
    "    result = result + \"phq.shape: \" + str(phq.shape) + \"\\n\"\n",
    "    result = result + \"nnInput.shape: \" + str(nnInput.shape) + \"\\n\"\n",
    "    print(result)\n",
    "\n",
    "    if save_diagnostics:\n",
    "        diagnostics = 'diagnostics_' + str(month) + '.txt'\n",
    "        with open(diagnostics, 'a') as fp:\n",
    "            fp.write(result)\n",
    "    \n",
    "    return nnInput, nnTarget\n",
    "\n",
    "def combine_arrays(*args, contiguous = True):\n",
    "    if contiguous: # meaning each spData was part of the same run\n",
    "        return np.concatenate((args), axis = 1)[:,:-1,:,:]\n",
    "    return(np.concatenate((args), axis = 1))\n",
    "                         \n",
    "def sample_indices(size, spacing, fixed = True):\n",
    "    numIndices = np.round(size/spacing)\n",
    "    if fixed:\n",
    "        indices = np.array([int(x) for x in np.round(np.linspace(1,size,int(numIndices)))])-1\n",
    "    else:\n",
    "        indices = list(range(size))\n",
    "        np.random.shuffle(indices)\n",
    "        indices = indices[0:int(numIndices)]\n",
    "    return indices\n",
    "\n",
    "def reshape_input(nnData, subsample = False, spacing = 5):\n",
    "    if subsample:\n",
    "        nnData = nnData[:,:,:,sampleIndices(nnData.shape[3], spacing, True)]\n",
    "    nnData = nnData.ravel(order = 'F').reshape(64,-1,order = 'F')\n",
    "    return nnData\n",
    "\n",
    "def reshape_target(nnData, subsample = False, spacing = 5):\n",
    "    if subsample:\n",
    "        nnData = nnData[:,:,:,sampleIndices(nnData.shape[3], spacing, True)]\n",
    "    nnData = nnData.ravel(order = 'F').reshape(60,-1,order = 'F')\n",
    "    return nnData\n",
    "\n",
    "def normalize_input_train(X, family, reshaped = True, normalization = \"standard\", save_files = False):\n",
    "    \n",
    "    # specific heat of air = 1004 J/ K / kg\n",
    "    # latent heat of vaporization 2.5*10^6\n",
    "\n",
    "    heatScale = 1004\n",
    "    moistScale = 2.5e6\n",
    "    \n",
    "    if reshaped:\n",
    "        X = X.transpose()\n",
    "        split_index = int(X.shape[0]*split)\n",
    "        X_train, X_val = X[:split_index,:], X[split_index:,:]\n",
    "        del X\n",
    "        print(\"X_train shape: \")\n",
    "        print(X_train.shape)\n",
    "        print(\"X_val shape: \")\n",
    "        print(X_val.shape)\n",
    "\n",
    "    train_mu = np.mean(X_train, axis = 0)[:, np.newaxis]\n",
    "    train_std = np.std(X_train, axis = 0)[:, np.newaxis]\n",
    "    train_min = X_train.min(axis = 0)[:, np.newaxis]\n",
    "    train_max = X_train.max(axis = 0)[:, np.newaxis]\n",
    "    \n",
    "    if normalization == \"standard\":\n",
    "        inpsub = train_mu\n",
    "        inpdiv = train_std\n",
    "        \n",
    "    elif normalization == \"range\":\n",
    "        inpsub = train_min\n",
    "        inpdiv = train_max - train_min\n",
    "        \n",
    "    norms_input = [inpsub, inpdiv]\n",
    "    \n",
    "    print(\"INP_SUB shape: \")\n",
    "    print(inpsub.shape)\n",
    "    print(\"INP_DIV shape: \")\n",
    "    print(inpdiv.shape)\n",
    "    \n",
    "    norm_xtrain = (X_train.transpose() - inpsub)/inpdiv\n",
    "    norm_xtrain = norm_xtrain.transpose()\n",
    "    norm_xtest = (X_test.transpose() - inpsub)/inpdiv\n",
    "    norm_xtest = norm_xtest.transpose()\n",
    "    \n",
    "    print(\"norm X_train shape: \")\n",
    "    print(norm_xtrain.shape)\n",
    "    print(\"norm X_test shape: \")\n",
    "    print(norm_xtest.shape)\n",
    "    \n",
    "    return [[norm_xtrain, norm_xtest], norms_input]\n",
    "\n",
    "def normalize_target_train(y, family, reshaped = True, normalization = \"standard\", save_files = False):\n",
    "    \n",
    "    # specific heat of air = 1004 J/ K / kg\n",
    "    # latent heat of vaporization 2.5*10^6\n",
    "\n",
    "    heatScale = 1004\n",
    "    moistScale = 2.5e6\n",
    "    \n",
    "    print(\"y_train shape: \")\n",
    "    print(y_train.shape)\n",
    "    print(\"y_test shape: \")\n",
    "    print(y_test.shape)\n",
    "\n",
    "    outscale = np.concatenate((np.repeat(heatScale, 30), np.repeat(moistScale, 30)))\n",
    "    \n",
    "    if normalization == \"standard\":\n",
    "        inpsub = train_mu\n",
    "        inpdiv = train_std\n",
    "        \n",
    "    elif normalization == \"range\":\n",
    "        inpsub = train_min\n",
    "        inpdiv = train_max - train_min\n",
    "        \n",
    "    norms_output = outscale\n",
    "    \n",
    "    print(\"INP_SUB shape: \")\n",
    "    print(inpsub.shape)\n",
    "    print(\"INP_DIV shape: \")\n",
    "    print(inpdiv.shape)\n",
    "    print(\"outscale shape: \")\n",
    "    print(outscale.shape)\n",
    "    \n",
    "    norm_ytrain[:, 0:30] = norm_ytrain[:, 0:30]*outscale[0:30]\n",
    "    norm_ytrain[:, 30:60] = norm_ytrain[:, 30:60]*outscale[30:60]\n",
    "    \n",
    "    norm_ytest[:, 0:30] = norm_ytest[:, 0:30]*outscale[0:30]\n",
    "    norm_ytest[:, 30:60] = norm_ytest[:, 30:60]*outscale[30:60]\n",
    "    \n",
    "    print(\"norm y_train shape: \")\n",
    "    print(norm_ytrain.shape)\n",
    "    print(\"norm y_test shape: \")\n",
    "    print(norm_ytest.shape)\n",
    "    \n",
    "    return [[norm_ytrain, norm_ytest], norms_output]\n",
    "\n",
    "def prepare_ingredients32(variation, files, path = \"./\"):\n",
    "    if variation == 0:\n",
    "        path = path + \"specific/\"\n",
    "    if variation == 1:\n",
    "        path = path + \"relative/\"\n",
    "    with open(path + \"trainInput.npy\", 'wb') as f:\n",
    "        np.save(f, np.float32(files[1][0]))\n",
    "    with open(path + \"testInput.npy\", 'wb') as f:\n",
    "        np.save(f, np.float32(files[1][1]))\n",
    "    with open(path + \"trainOutput.npy\", 'wb') as f:\n",
    "        np.save(f, np.float32(files[1][2]))\n",
    "    with open(path + \"testOutput.npy\", 'wb') as f:\n",
    "        np.save(f, np.float32(files[1][3]))\n",
    "    np.savetxt(path + \"normalization/inp_sub.txt\", np.float32(files[2][0]), delimiter=',')\n",
    "    np.savetxt(path + \"normalization/inp_div.txt\", np.float32(files[2][1]), delimiter=',')\n",
    "    np.savetxt(path + \"normalization/out_scale.txt\", np.float32(files[2][2]), delimiter=',')\n",
    "    \n"
   ]
  },
  {
   "cell_type": "code",
   "execution_count": 146,
   "id": "0dd4d66d-7581-49af-8d41-6b3a9072f379",
   "metadata": {},
   "outputs": [
    {
     "name": "stdout",
     "output_type": "stream",
     "text": [
      "loaded in data\n",
      "starting for loop\n"
     ]
    },
    {
     "name": "stderr",
     "output_type": "stream",
     "text": [
      "100%|████████████████████████████████████████████████████████████████████████████| 64/64 [00:05<00:00, 11.75it/s]\n"
     ]
    },
    {
     "name": "stdout",
     "output_type": "stream",
     "text": [
      "nntbp\n",
      "(30, 95, 64, 128)\n",
      "nnqbp\n",
      "(30, 95, 64, 128)\n",
      "lhflx\n",
      "(1, 95, 64, 128)\n",
      "shflx\n",
      "(1, 95, 64, 128)\n",
      "ps\n",
      "(1, 95, 64, 128)\n",
      "solin\n",
      "(1, 95, 64, 128)\n",
      "newhum\n",
      "(30, 95, 64, 128)\n",
      "oldhum\n",
      "(30, 95, 64, 128)\n",
      "tphystnd\n",
      "(30, 95, 64, 128)\n",
      "phq\n",
      "(30, 95, 64, 128)\n",
      "nnInput\n",
      "nnTarget\n",
      "Mean relative humidity conversion error: 0.0043063145\n",
      "Variance for relative humidity conversion error: 0.00047256332\n",
      "nntbp.shape: (30, 95, 64, 128)\n",
      "nnqbp.shape: (30, 95, 64, 128)\n",
      "lhflx.shape: (1, 95, 64, 128)\n",
      "shflx.shape: (1, 95, 64, 128)\n",
      "ps.shape: (1, 95, 64, 128)\n",
      "solin.shape: (1, 95, 64, 128)\n",
      "newhum.shape: (30, 95, 64, 128)\n",
      "oldhum.shape: (30, 95, 64, 128)\n",
      "tphystnd.shape: (30, 95, 64, 128)\n",
      "phq.shape: (30, 95, 64, 128)\n",
      "nnInput.shape: (64, 95, 64, 128)\n",
      "\n",
      "loaded in data\n",
      "starting for loop\n"
     ]
    },
    {
     "name": "stderr",
     "output_type": "stream",
     "text": [
      "100%|████████████████████████████████████████████████████████████████████████████| 64/64 [00:05<00:00, 11.59it/s]\n"
     ]
    },
    {
     "name": "stdout",
     "output_type": "stream",
     "text": [
      "nntbp\n",
      "(30, 95, 64, 128)\n",
      "nnqbp\n",
      "(30, 95, 64, 128)\n",
      "lhflx\n",
      "(1, 95, 64, 128)\n",
      "shflx\n",
      "(1, 95, 64, 128)\n",
      "ps\n",
      "(1, 95, 64, 128)\n",
      "solin\n",
      "(1, 95, 64, 128)\n",
      "newhum\n",
      "(30, 95, 64, 128)\n",
      "oldhum\n",
      "(30, 95, 64, 128)\n",
      "tphystnd\n",
      "(30, 95, 64, 128)\n",
      "phq\n",
      "(30, 95, 64, 128)\n",
      "nnInput\n",
      "nnTarget\n",
      "Mean relative humidity conversion error: 0.0041737375\n",
      "Variance for relative humidity conversion error: 0.00046795444\n",
      "nntbp.shape: (30, 95, 64, 128)\n",
      "nnqbp.shape: (30, 95, 64, 128)\n",
      "lhflx.shape: (1, 95, 64, 128)\n",
      "shflx.shape: (1, 95, 64, 128)\n",
      "ps.shape: (1, 95, 64, 128)\n",
      "solin.shape: (1, 95, 64, 128)\n",
      "newhum.shape: (30, 95, 64, 128)\n",
      "oldhum.shape: (30, 95, 64, 128)\n",
      "tphystnd.shape: (30, 95, 64, 128)\n",
      "phq.shape: (30, 95, 64, 128)\n",
      "nnInput.shape: (64, 95, 64, 128)\n",
      "\n"
     ]
    }
   ],
   "source": [
    "nnInput_10, nnTarget_10 = make_nninput(do_month(10), \"relative\")\n",
    "nnInput_11, nnTarget_11 = make_nninput(do_month(11), \"relative\")\n",
    "\n",
    "unshaped_input = combine_arrays(nnInput_10, nnInput_11)\n",
    "unshaped_target = combine_arrays(nnTarget_10, nnTarget_11)\n",
    "\n",
    "reshaped_input = reshape_input(combine_arrays(nnInput_10, nnInput_11))\n",
    "reshaped_target = reshape_target(combine_arrays(nnTarget_10, nnTarget_11))"
   ]
  },
  {
   "cell_type": "code",
   "execution_count": 147,
   "id": "612368bb-c7a9-48bb-84d3-f3f30f0b2b13",
   "metadata": {},
   "outputs": [
    {
     "data": {
      "text/plain": [
       "(64, 189, 64, 128)"
      ]
     },
     "execution_count": 147,
     "metadata": {},
     "output_type": "execute_result"
    }
   ],
   "source": [
    "unshaped_input.shape"
   ]
  },
  {
   "cell_type": "code",
   "execution_count": 148,
   "id": "8367b418-b719-4bd4-82d5-cf2a0eb02fed",
   "metadata": {},
   "outputs": [
    {
     "data": {
      "text/plain": [
       "(60, 189, 64, 128)"
      ]
     },
     "execution_count": 148,
     "metadata": {},
     "output_type": "execute_result"
    }
   ],
   "source": [
    "unshaped_target.shape"
   ]
  },
  {
   "cell_type": "code",
   "execution_count": 149,
   "id": "75610b98-0943-4f10-b727-2d306ad1663e",
   "metadata": {},
   "outputs": [
    {
     "data": {
      "text/plain": [
       "(64, 1548288)"
      ]
     },
     "execution_count": 149,
     "metadata": {},
     "output_type": "execute_result"
    }
   ],
   "source": [
    "reshaped_input.shape"
   ]
  },
  {
   "cell_type": "code",
   "execution_count": 150,
   "id": "0601c588-9c41-4177-9b22-53cd2c5bfd3a",
   "metadata": {},
   "outputs": [
    {
     "data": {
      "text/plain": [
       "(60, 1548288)"
      ]
     },
     "execution_count": 150,
     "metadata": {},
     "output_type": "execute_result"
    }
   ],
   "source": [
    "reshaped_target.shape"
   ]
  },
  {
   "cell_type": "code",
   "execution_count": 180,
   "id": "c4e29a8b-4b8f-4822-a8dc-e548c8b81ba2",
   "metadata": {},
   "outputs": [],
   "source": [
    "def normalize_input(X_train, family, reshaped = True, normalization = \"standard\", split = .8):\n",
    "    \n",
    "    # specific heat of air = 1004 J/ K / kg\n",
    "    # latent heat of vaporization 2.5*10^6\n",
    "\n",
    "    heatScale = 1004\n",
    "    moistScale = 2.5e6\n",
    "    \n",
    "    if reshaped:\n",
    "        \n",
    "        train_mu = np.mean(X_train, axis = 1)[:, np.newaxis]\n",
    "        train_std = np.std(X_train, axis = 1)[:, np.newaxis]\n",
    "        train_min = X_train.min(axis = 1)[:, np.newaxis]\n",
    "        train_max = X_train.max(axis = 1)[:, np.newaxis]\n",
    "        \n",
    "        return X_train, train_mu, train_std, train_min, train_max\n",
    "        \n",
    "        if normalization == \"standard\":\n",
    "            inpsub = train_mu\n",
    "            inpdiv = train_std\n",
    "        \n",
    "        elif normalization == \"range\":\n",
    "            inpsub = train_min\n",
    "            inpdiv = train_max - train_min\n",
    "        \n",
    "        print(\"INP_SUB shape: \")\n",
    "        print(inpsub.shape)\n",
    "        print(\"INP_DIV shape: \")\n",
    "        print(inpdiv.shape)\n",
    "        \n",
    "        #normalizing\n",
    "        X_train = ((X_train.transpose() - inpsub)/inpdiv).transpose()\n",
    "        X_val = ((X_val.transpose() - inpsub)/inpdiv).transpose()\n",
    "\n",
    "        print(\"X_train shape: \")\n",
    "        print(X_train.shape)\n",
    "        print(\"X_val shape: \")\n",
    "        print(X_val.shape)\n",
    "        return X_train\n",
    "    \n",
    "    else:\n",
    "\n",
    "        train_mu = np.mean(X_train, axis = (1,2,3))[:, np.newaxis]\n",
    "        train_std = np.std(X_train, axis = (1,2,3))[:, np.newaxis]\n",
    "        train_min = X_train.min(axis = (1,2,3))[:, np.newaxis]\n",
    "        train_max = X_train.max(axis = (1,2,3))[:, np.newaxis]\n",
    "        \n",
    "        return X_train, train_mu, train_std, train_min, train_max\n",
    "    \n",
    "    return X_train, inpsub, inpdiv\n",
    "\n"
   ]
  },
  {
   "cell_type": "code",
   "execution_count": 196,
   "id": "69c6b176-3d1a-4b4d-adb3-4b17ffeb8d2e",
   "metadata": {},
   "outputs": [],
   "source": [
    "X_train_1, mean_1, std_1, min_1, max_1 = normalize_input(reshaped_input, family = \"relative\", reshaped = True)\n",
    "X_train_2, mean_2, std_2, min_2, max_2 = normalize_input(unshaped_input, family = \"relative\", reshaped = False)"
   ]
  },
  {
   "cell_type": "code",
   "execution_count": 197,
   "id": "9ca366ba-6cc0-4d79-bea7-a7b2d5921a16",
   "metadata": {},
   "outputs": [
    {
     "data": {
      "text/plain": [
       "(64, 189, 64, 128)"
      ]
     },
     "execution_count": 197,
     "metadata": {},
     "output_type": "execute_result"
    }
   ],
   "source": [
    "unshaped_input.shape"
   ]
  },
  {
   "cell_type": "code",
   "execution_count": 198,
   "id": "6dd97e95-6505-4eb6-89a1-58bcbe4ac8d4",
   "metadata": {},
   "outputs": [
    {
     "data": {
      "text/plain": [
       "(64, 1548288)"
      ]
     },
     "execution_count": 198,
     "metadata": {},
     "output_type": "execute_result"
    }
   ],
   "source": [
    "X_train_1.shape"
   ]
  },
  {
   "cell_type": "code",
   "execution_count": 199,
   "id": "d42a73ae-7636-4492-9bcb-5643f55ae151",
   "metadata": {},
   "outputs": [
    {
     "data": {
      "text/plain": [
       "(64, 1)"
      ]
     },
     "execution_count": 199,
     "metadata": {},
     "output_type": "execute_result"
    }
   ],
   "source": [
    "mean_1.shape"
   ]
  },
  {
   "cell_type": "code",
   "execution_count": 200,
   "id": "cc910585-5d41-4dd2-9f65-0b490c6504ea",
   "metadata": {},
   "outputs": [
    {
     "data": {
      "text/plain": [
       "(64, 1)"
      ]
     },
     "execution_count": 200,
     "metadata": {},
     "output_type": "execute_result"
    }
   ],
   "source": [
    "std_1.shape"
   ]
  },
  {
   "cell_type": "code",
   "execution_count": 201,
   "id": "1d73329d-704a-4a86-a1ee-6cb984bbeeca",
   "metadata": {},
   "outputs": [
    {
     "data": {
      "text/plain": [
       "(64, 1)"
      ]
     },
     "execution_count": 201,
     "metadata": {},
     "output_type": "execute_result"
    }
   ],
   "source": [
    "min_1.shape"
   ]
  },
  {
   "cell_type": "code",
   "execution_count": 202,
   "id": "5d740afd-8832-46c3-9940-aa1c47ac45e6",
   "metadata": {},
   "outputs": [
    {
     "data": {
      "text/plain": [
       "(64, 1)"
      ]
     },
     "execution_count": 202,
     "metadata": {},
     "output_type": "execute_result"
    }
   ],
   "source": [
    "max_1.shape"
   ]
  },
  {
   "cell_type": "code",
   "execution_count": 203,
   "id": "d2e72c17-1c26-4b1b-b9d7-33ee3886c84e",
   "metadata": {},
   "outputs": [
    {
     "data": {
      "text/plain": [
       "(64, 189, 64, 128)"
      ]
     },
     "execution_count": 203,
     "metadata": {},
     "output_type": "execute_result"
    }
   ],
   "source": [
    "X_train_2.shape"
   ]
  },
  {
   "cell_type": "code",
   "execution_count": 204,
   "id": "4307d95f-3f33-4ca0-92c4-f9d969ad8f49",
   "metadata": {},
   "outputs": [
    {
     "data": {
      "text/plain": [
       "(64, 1)"
      ]
     },
     "execution_count": 204,
     "metadata": {},
     "output_type": "execute_result"
    }
   ],
   "source": [
    "mean_2.shape"
   ]
  },
  {
   "cell_type": "code",
   "execution_count": 205,
   "id": "964b40d7-011e-48f3-8e38-4fa8c9597670",
   "metadata": {},
   "outputs": [
    {
     "data": {
      "text/plain": [
       "(64, 1)"
      ]
     },
     "execution_count": 205,
     "metadata": {},
     "output_type": "execute_result"
    }
   ],
   "source": [
    "std_1.shape"
   ]
  },
  {
   "cell_type": "code",
   "execution_count": 206,
   "id": "9943e9b3-fde8-4cbe-a1a1-069017f888ef",
   "metadata": {},
   "outputs": [
    {
     "data": {
      "text/plain": [
       "(64, 1)"
      ]
     },
     "execution_count": 206,
     "metadata": {},
     "output_type": "execute_result"
    }
   ],
   "source": [
    "min_2.shape"
   ]
  },
  {
   "cell_type": "code",
   "execution_count": 207,
   "id": "314a9ad2-1a22-46ac-a5ec-65086575c8a5",
   "metadata": {},
   "outputs": [
    {
     "data": {
      "text/plain": [
       "(64, 1)"
      ]
     },
     "execution_count": 207,
     "metadata": {},
     "output_type": "execute_result"
    }
   ],
   "source": [
    "max_2.shape"
   ]
  },
  {
   "cell_type": "code",
   "execution_count": 214,
   "id": "5db371cb-525e-4315-b4b5-1496e5248430",
   "metadata": {},
   "outputs": [
    {
     "data": {
      "text/plain": [
       "False"
      ]
     },
     "execution_count": 214,
     "metadata": {},
     "output_type": "execute_result"
    }
   ],
   "source": [
    "np.array_equal(mean_1, mean_2)"
   ]
  },
  {
   "cell_type": "code",
   "execution_count": 299,
   "id": "6530ce37-6af0-4096-b0ff-1889b9a2e16d",
   "metadata": {},
   "outputs": [
    {
     "data": {
      "text/plain": [
       "array([[4, 4, 4, 3, 5, 2, 1, 1, 1, 2, 1, 9],\n",
       "       [9, 9, 2, 3, 6, 3, 4, 9, 6, 2, 7, 9]])"
      ]
     },
     "execution_count": 299,
     "metadata": {},
     "output_type": "execute_result"
    }
   ],
   "source": [
    "lol_1.ravel(order = 'F').reshape(2,-1, order = 'F')"
   ]
  },
  {
   "cell_type": "code",
   "execution_count": 331,
   "id": "b99371a7-9e2e-40f2-a97c-fff43b916550",
   "metadata": {},
   "outputs": [],
   "source": [
    "lol_1 = np.array([[[[4,1],[3,2]],[[4,1],[5,1]],[[4,1],[2,9]]],[[[9,4],[3,2]],[[9,9],[6,7]],[[2,6],[3,9]]]])\n",
    "lol_2 = lol_1.ravel(order = 'F').reshape(2,-1,order = 'F')\n",
    "assert(np.array_equal(np.mean(lol_1, axis = (1,2,3))[:, np.newaxis], np.mean(lol_2, axis = 1)[:, np.newaxis]))"
   ]
  },
  {
   "cell_type": "code",
   "execution_count": 357,
   "id": "04105a44-fbf6-40b3-9db7-0a4ccf73b02b",
   "metadata": {},
   "outputs": [
    {
     "name": "stdout",
     "output_type": "stream",
     "text": [
      "loaded in data\n",
      "starting for loop\n"
     ]
    },
    {
     "name": "stderr",
     "output_type": "stream",
     "text": [
      "100%|████████████████████████████████████████████████████████████████████████████| 64/64 [00:03<00:00, 18.13it/s]\n"
     ]
    },
    {
     "name": "stdout",
     "output_type": "stream",
     "text": [
      "nntbp\n",
      "(30, 95, 64, 128)\n",
      "nnqbp\n",
      "(30, 95, 64, 128)\n",
      "lhflx\n",
      "(1, 95, 64, 128)\n",
      "shflx\n",
      "(1, 95, 64, 128)\n",
      "ps\n",
      "(1, 95, 64, 128)\n",
      "solin\n",
      "(1, 95, 64, 128)\n",
      "newhum\n",
      "(30, 95, 64, 128)\n",
      "oldhum\n",
      "(30, 95, 64, 128)\n",
      "tphystnd\n",
      "(30, 95, 64, 128)\n",
      "phq\n",
      "(30, 95, 64, 128)\n",
      "nnInput\n",
      "nnTarget\n",
      "Mean relative humidity conversion error: 0.0043063145\n",
      "Variance for relative humidity conversion error: 0.00047256332\n",
      "nntbp.shape: (30, 95, 64, 128)\n",
      "nnqbp.shape: (30, 95, 64, 128)\n",
      "lhflx.shape: (1, 95, 64, 128)\n",
      "shflx.shape: (1, 95, 64, 128)\n",
      "ps.shape: (1, 95, 64, 128)\n",
      "solin.shape: (1, 95, 64, 128)\n",
      "newhum.shape: (30, 95, 64, 128)\n",
      "oldhum.shape: (30, 95, 64, 128)\n",
      "tphystnd.shape: (30, 95, 64, 128)\n",
      "phq.shape: (30, 95, 64, 128)\n",
      "nnInput.shape: (64, 95, 64, 128)\n",
      "\n",
      "loaded in data\n",
      "starting for loop\n"
     ]
    },
    {
     "name": "stderr",
     "output_type": "stream",
     "text": [
      "100%|████████████████████████████████████████████████████████████████████████████| 64/64 [00:03<00:00, 17.55it/s]\n"
     ]
    },
    {
     "name": "stdout",
     "output_type": "stream",
     "text": [
      "nntbp\n",
      "(30, 95, 64, 128)\n",
      "nnqbp\n",
      "(30, 95, 64, 128)\n",
      "lhflx\n",
      "(1, 95, 64, 128)\n",
      "shflx\n",
      "(1, 95, 64, 128)\n",
      "ps\n",
      "(1, 95, 64, 128)\n",
      "solin\n",
      "(1, 95, 64, 128)\n",
      "newhum\n",
      "(30, 95, 64, 128)\n",
      "oldhum\n",
      "(30, 95, 64, 128)\n",
      "tphystnd\n",
      "(30, 95, 64, 128)\n",
      "phq\n",
      "(30, 95, 64, 128)\n",
      "nnInput\n",
      "nnTarget\n",
      "Mean relative humidity conversion error: 0.0041737375\n",
      "Variance for relative humidity conversion error: 0.00046795444\n",
      "nntbp.shape: (30, 95, 64, 128)\n",
      "nnqbp.shape: (30, 95, 64, 128)\n",
      "lhflx.shape: (1, 95, 64, 128)\n",
      "shflx.shape: (1, 95, 64, 128)\n",
      "ps.shape: (1, 95, 64, 128)\n",
      "solin.shape: (1, 95, 64, 128)\n",
      "newhum.shape: (30, 95, 64, 128)\n",
      "oldhum.shape: (30, 95, 64, 128)\n",
      "tphystnd.shape: (30, 95, 64, 128)\n",
      "phq.shape: (30, 95, 64, 128)\n",
      "nnInput.shape: (64, 95, 64, 128)\n",
      "\n"
     ]
    }
   ],
   "source": [
    "family = \"specific\"\n",
    "\n",
    "nnInput_10, nnTarget_10 = make_nninput(do_month(10), family)\n",
    "nnInput_11, nnTarget_11 = make_nninput(do_month(11), family)\n",
    "\n",
    "unshaped_input = combine_arrays(nnInput_10, nnInput_11)\n",
    "unshaped_target = combine_arrays(nnTarget_10, nnTarget_11)\n",
    "\n",
    "reshaped_input = reshape_input(combine_arrays(nnInput_10, nnInput_11))\n",
    "reshaped_target = reshape_target(combine_arrays(nnTarget_10, nnTarget_11))\n",
    "\n",
    "# assert(np.array_equal(np.mean(case_A, axis = (1,2,3), dtype=np.float64)[:, np.newaxis], \\\n",
    "#                       np.mean(case_B, axis = 1, dtype=np.float64)[:, np.newaxis]))"
   ]
  },
  {
   "cell_type": "code",
   "execution_count": 414,
   "id": "9d1df7ff-147f-4f2b-834e-7fc3fee7c6cf",
   "metadata": {},
   "outputs": [
    {
     "name": "stdout",
     "output_type": "stream",
     "text": [
      "False\n",
      "False\n"
     ]
    }
   ],
   "source": [
    "case_A = unshaped_input\n",
    "case_B = unshaped_input.ravel(order = 'F').reshape(64,-1,order = 'F')\n",
    "case_C = unshaped_input.reshape(64,-1,order = 'F')\n",
    "\n",
    "case_A_mean = np.mean(case_A, axis = (1,2,3))[:, np.newaxis]\n",
    "case_B_mean = np.mean(case_B, axis = 1)[:, np.newaxis]\n",
    "case_C_mean = np.mean(case_C, axis = 1)[:, np.newaxis]\n",
    "\n",
    "print(np.array_equal(case_A_mean, case_B_mean))\n",
    "print(np.array_equal(case_A_mean, case_C_mean))"
   ]
  },
  {
   "cell_type": "code",
   "execution_count": 416,
   "id": "7a7641cc-8171-4959-aba1-383fd6738f50",
   "metadata": {},
   "outputs": [
    {
     "data": {
      "text/plain": [
       "(array([63.,  0.,  0.,  0.,  0.,  0.,  0.,  0.,  0.,  1.]),\n",
       " array([ -1.2761536,  15.254587 ,  31.785328 ,  48.316067 ,  64.84681  ,\n",
       "         81.37755  ,  97.90829  , 114.439026 , 130.96977  , 147.5005   ,\n",
       "        164.03125  ], dtype=float32),\n",
       " <BarContainer object of 10 artists>)"
      ]
     },
     "execution_count": 416,
     "metadata": {},
     "output_type": "execute_result"
    },
    {
     "data": {
      "image/png": "[encoded data removed]",
      "text/plain": [
       "<Figure size 432x288 with 1 Axes>"
      ]
     },
     "metadata": {
      "needs_background": "light"
     },
     "output_type": "display_data"
    }
   ],
   "source": [
    "plt.hist(case_A_mean-case_B_mean)"
   ]
  },
  {
   "cell_type": "code",
   "execution_count": 417,
   "id": "7a746aad-5319-4631-a141-5caf9b3a0dad",
   "metadata": {},
   "outputs": [
    {
     "data": {
      "text/plain": [
       "(array([63.,  0.,  0.,  0.,  0.,  0.,  0.,  0.,  0.,  1.]),\n",
       " array([ -1.2761536,  15.254587 ,  31.785328 ,  48.316067 ,  64.84681  ,\n",
       "         81.37755  ,  97.90829  , 114.439026 , 130.96977  , 147.5005   ,\n",
       "        164.03125  ], dtype=float32),\n",
       " <BarContainer object of 10 artists>)"
      ]
     },
     "execution_count": 417,
     "metadata": {},
     "output_type": "execute_result"
    },
    {
     "data": {
      "image/png": "[encoded data removed]",
      "text/plain": [
       "<Figure size 432x288 with 1 Axes>"
      ]
     },
     "metadata": {
      "needs_background": "light"
     },
     "output_type": "display_data"
    }
   ],
   "source": [
    "plt.hist(case_A_mean-case_C_mean)"
   ]
  },
  {
   "cell_type": "code",
   "execution_count": 363,
   "id": "2b85e9dd-ac1e-4140-ba5e-b39caf4ff376",
   "metadata": {},
   "outputs": [
    {
     "data": {
      "text/plain": [
       "((64, 1), (64, 1))"
      ]
     },
     "execution_count": 363,
     "metadata": {},
     "output_type": "execute_result"
    }
   ],
   "source": [
    "case_A_mean.shape, case_B_mean.shape"
   ]
  },
  {
   "cell_type": "code",
   "execution_count": 364,
   "id": "e67d031e-023d-49da-a9b0-781d6e559117",
   "metadata": {},
   "outputs": [
    {
     "data": {
      "text/plain": [
       "(64, 189, 64, 128)"
      ]
     },
     "execution_count": 364,
     "metadata": {},
     "output_type": "execute_result"
    }
   ],
   "source": [
    "case_A.shape"
   ]
  },
  {
   "cell_type": "code",
   "execution_count": 365,
   "id": "2a1513f6-c03b-4262-825e-bfd3b9e945a6",
   "metadata": {},
   "outputs": [
    {
     "data": {
      "text/plain": [
       "(64, 1548288)"
      ]
     },
     "execution_count": 365,
     "metadata": {},
     "output_type": "execute_result"
    }
   ],
   "source": [
    "case_B.shape"
   ]
  },
  {
   "cell_type": "code",
   "execution_count": 366,
   "id": "109c99e2-bbbc-474f-8d6f-1cb9880f93e1",
   "metadata": {},
   "outputs": [
    {
     "data": {
      "text/plain": [
       "(189, 64, 128)"
      ]
     },
     "execution_count": 366,
     "metadata": {},
     "output_type": "execute_result"
    }
   ],
   "source": [
    "case_A[0,:,:,:].shape"
   ]
  },
  {
   "cell_type": "code",
   "execution_count": 367,
   "id": "0183d71e-e86f-4ca7-9fb6-f47162808349",
   "metadata": {},
   "outputs": [
    {
     "data": {
      "text/plain": [
       "(1548288,)"
      ]
     },
     "execution_count": 367,
     "metadata": {},
     "output_type": "execute_result"
    }
   ],
   "source": [
    "case_B[0].shape"
   ]
  },
  {
   "cell_type": "code",
   "execution_count": 368,
   "id": "04ab72c2-aeea-4866-b0c4-6b48ccd9c3c4",
   "metadata": {},
   "outputs": [
    {
     "data": {
      "text/plain": [
       "1548288"
      ]
     },
     "execution_count": 368,
     "metadata": {},
     "output_type": "execute_result"
    }
   ],
   "source": [
    "189*64*128"
   ]
  },
  {
   "cell_type": "code",
   "execution_count": 369,
   "id": "c3c53c0d-84db-4a19-b061-53adcca3274f",
   "metadata": {},
   "outputs": [
    {
     "data": {
      "text/plain": [
       "array([225.70236], dtype=float32)"
      ]
     },
     "execution_count": 369,
     "metadata": {},
     "output_type": "execute_result"
    }
   ],
   "source": [
    "case_A_mean[0]"
   ]
  },
  {
   "cell_type": "code",
   "execution_count": 370,
   "id": "d3812d5f-ab36-4448-94c9-6470994ab99b",
   "metadata": {},
   "outputs": [
    {
     "data": {
      "text/plain": [
       "array([224.9265], dtype=float32)"
      ]
     },
     "execution_count": 370,
     "metadata": {},
     "output_type": "execute_result"
    }
   ],
   "source": [
    "case_B_mean[0]"
   ]
  },
  {
   "cell_type": "code",
   "execution_count": 374,
   "id": "503f4f80-d01d-4793-b24c-994e53f34bbd",
   "metadata": {},
   "outputs": [
    {
     "data": {
      "text/plain": [
       "(1548288,)"
      ]
     },
     "execution_count": 374,
     "metadata": {},
     "output_type": "execute_result"
    }
   ],
   "source": [
    "case_A[0,:,:,:].flatten().shape"
   ]
  },
  {
   "cell_type": "code",
   "execution_count": 375,
   "id": "d6f7f36b-a2bb-4ad0-a5a7-7d265a5513d7",
   "metadata": {},
   "outputs": [
    {
     "data": {
      "text/plain": [
       "(1548288,)"
      ]
     },
     "execution_count": 375,
     "metadata": {},
     "output_type": "execute_result"
    }
   ],
   "source": [
    "case_B[0].shape"
   ]
  },
  {
   "cell_type": "code",
   "execution_count": 376,
   "id": "5d0fa231-38ff-43fb-bb86-b0e8aab3ddea",
   "metadata": {},
   "outputs": [
    {
     "data": {
      "text/plain": [
       "False"
      ]
     },
     "execution_count": 376,
     "metadata": {},
     "output_type": "execute_result"
    }
   ],
   "source": [
    "np.array_equal(case_A[0,:,:,:], case_B[0])"
   ]
  },
  {
   "cell_type": "code",
   "execution_count": 403,
   "id": "c141df85-4b13-48f7-9d5d-186a0b65dfd5",
   "metadata": {},
   "outputs": [
    {
     "data": {
      "text/plain": [
       "(99090432,)"
      ]
     },
     "execution_count": 403,
     "metadata": {},
     "output_type": "execute_result"
    }
   ],
   "source": [
    "unshaped_input.ravel(order = 'F').shape"
   ]
  },
  {
   "cell_type": "code",
   "execution_count": 395,
   "id": "f376c740-45f2-4c00-8faf-2003cafc5645",
   "metadata": {},
   "outputs": [
    {
     "name": "stdout",
     "output_type": "stream",
     "text": [
      "0.0\n",
      "0.00015258789\n",
      "1.5258789e-05\n",
      "-9.1552734e-05\n",
      "-1.5258789e-05\n",
      "-6.1035156e-05\n",
      "-0.00010681152\n",
      "9.1552734e-05\n",
      "-6.1035156e-05\n",
      "-0.0001373291\n",
      "1.5258789e-05\n",
      "-6.1035156e-05\n",
      "3.0517578e-05\n",
      "-7.6293945e-05\n",
      "-9.1552734e-05\n",
      "0.0\n",
      "0.0\n",
      "0.0\n",
      "-1.5258789e-05\n",
      "0.0\n",
      "-9.1552734e-05\n",
      "3.0517578e-05\n",
      "6.1035156e-05\n",
      "-6.1035156e-05\n",
      "9.1552734e-05\n",
      "-6.1035156e-05\n",
      "0.0\n",
      "0.0\n",
      "6.1035156e-05\n",
      "-3.0517578e-05\n",
      "0.0\n",
      "-1.1368684e-13\n",
      "-1.1368684e-13\n",
      "-3.410605e-13\n",
      "1.1368684e-13\n",
      "0.0\n",
      "0.0\n",
      "-4.5474735e-13\n",
      "-1.1368684e-13\n",
      "2.2737368e-13\n",
      "-2.2737368e-13\n",
      "-1.8189894e-12\n",
      "3.637979e-12\n",
      "-1.4551915e-11\n",
      "0.0\n",
      "1.0186341e-10\n",
      "5.820766e-11\n",
      "5.820766e-11\n",
      "-5.820766e-11\n",
      "9.313226e-10\n",
      "2.3283064e-10\n",
      "-1.3969839e-09\n",
      "0.0\n",
      "-1.3969839e-09\n",
      "1.8626451e-09\n",
      "-4.656613e-10\n",
      "-4.656613e-10\n",
      "-4.656613e-10\n",
      "-4.656613e-10\n",
      "2.7939677e-09\n",
      "0.03125\n",
      "-6.1035156e-05\n",
      "-1.9073486e-06\n",
      "-3.8146973e-05\n"
     ]
    }
   ],
   "source": [
    "for i in range(64):\n",
    "    print(np.mean(case_A[i,:,:,:].flatten())-np.mean(case_B[i]))"
   ]
  },
  {
   "cell_type": "code",
   "execution_count": 397,
   "id": "c3ed1bb0-8033-40ef-ae2c-ff4176e8a697",
   "metadata": {},
   "outputs": [
    {
     "name": "stdout",
     "output_type": "stream",
     "text": [
      "[0.77586365]\n",
      "[-0.4254303]\n",
      "[-0.07002258]\n",
      "[-1.1116638]\n",
      "[-0.17292786]\n",
      "[0.51597595]\n",
      "[0.17807007]\n",
      "[-0.13746643]\n",
      "[0.12106323]\n",
      "[0.73384094]\n",
      "[0.33955383]\n",
      "[-0.34683228]\n",
      "[-1.1111755]\n",
      "[0.26286316]\n",
      "[-0.28207397]\n",
      "[-1.2605896]\n",
      "[-0.00090027]\n",
      "[1.2856903]\n",
      "[0.53837585]\n",
      "[-1.2761536]\n",
      "[-1.1069031]\n",
      "[0.44256592]\n",
      "[1.0859985]\n",
      "[1.1465149]\n",
      "[0.95303345]\n",
      "[1.3720398]\n",
      "[1.4955139]\n",
      "[1.4616394]\n",
      "[1.1854553]\n",
      "[0.37545776]\n",
      "[3.2963499e-09]\n",
      "[1.6509603e-09]\n",
      "[4.2189185e-10]\n",
      "[-2.2436097e-09]\n",
      "[-1.0736585e-09]\n",
      "[-2.433012e-09]\n",
      "[-1.1026486e-09]\n",
      "[1.8383162e-10]\n",
      "[-1.8064839e-09]\n",
      "[-7.1272552e-09]\n",
      "[-2.6775524e-09]\n",
      "[-2.6869202e-08]\n",
      "[-1.1041266e-09]\n",
      "[-5.1881216e-08]\n",
      "[-6.70334e-08]\n",
      "[4.5605702e-08]\n",
      "[-4.1676685e-08]\n",
      "[9.5693395e-08]\n",
      "[-1.314329e-07]\n",
      "[-2.392335e-07]\n",
      "[1.4458783e-07]\n",
      "[-4.7823414e-07]\n",
      "[7.4878335e-07]\n",
      "[-1.3178214e-07]\n",
      "[1.8342398e-06]\n",
      "[-4.596077e-07]\n",
      "[-9.0617687e-07]\n",
      "[-2.9411167e-06]\n",
      "[-1.2707897e-06]\n",
      "[3.2894313e-06]\n",
      "[164.03125]\n",
      "[0.04660034]\n",
      "[-0.00092316]\n",
      "[0.0013504]\n"
     ]
    }
   ],
   "source": [
    "for i in range(64):\n",
    "    print(case_A_mean[i]-case_B_mean[i])"
   ]
  },
  {
   "cell_type": "code",
   "execution_count": 393,
   "id": "3581a11a-1c09-41e5-8c63-3fba677eb5ab",
   "metadata": {},
   "outputs": [
    {
     "data": {
      "text/plain": [
       "225.70236"
      ]
     },
     "execution_count": 393,
     "metadata": {},
     "output_type": "execute_result"
    }
   ],
   "source": [
    "np.mean(case_A[0,:,:,:])"
   ]
  },
  {
   "cell_type": "code",
   "execution_count": 380,
   "id": "3239cf39-a6a6-4f73-8a2b-b31e8702fa70",
   "metadata": {},
   "outputs": [
    {
     "data": {
      "text/plain": [
       "225.70236"
      ]
     },
     "execution_count": 380,
     "metadata": {},
     "output_type": "execute_result"
    }
   ],
   "source": [
    "np.mean(case_B[0])"
   ]
  },
  {
   "cell_type": "code",
   "execution_count": 382,
   "id": "9d0a3b52-6c81-4638-b701-b894c7c2fa68",
   "metadata": {},
   "outputs": [
    {
     "data": {
      "text/plain": [
       "array([225.70236], dtype=float32)"
      ]
     },
     "execution_count": 382,
     "metadata": {},
     "output_type": "execute_result"
    }
   ],
   "source": [
    "case_A_mean[0]"
   ]
  },
  {
   "cell_type": "code",
   "execution_count": 383,
   "id": "4438c358-9814-431a-98d7-e4bca4db57ab",
   "metadata": {},
   "outputs": [
    {
     "data": {
      "text/plain": [
       "array([224.9265], dtype=float32)"
      ]
     },
     "execution_count": 383,
     "metadata": {},
     "output_type": "execute_result"
    }
   ],
   "source": [
    "case_B_mean[0]"
   ]
  },
  {
   "cell_type": "code",
   "execution_count": 384,
   "id": "cd3d0006-dbc9-477f-9eae-bdf232a00883",
   "metadata": {},
   "outputs": [
    {
     "data": {
      "text/plain": [
       "array([224.9265], dtype=float32)"
      ]
     },
     "execution_count": 384,
     "metadata": {},
     "output_type": "execute_result"
    }
   ],
   "source": [
    "np.mean(case_B, axis = 1)[:,np.newaxis][0]"
   ]
  },
  {
   "cell_type": "code",
   "execution_count": 387,
   "id": "0fc497df-ced8-4ef7-bc9a-941651b2f14e",
   "metadata": {},
   "outputs": [
    {
     "data": {
      "text/plain": [
       "(64,)"
      ]
     },
     "execution_count": 387,
     "metadata": {},
     "output_type": "execute_result"
    }
   ],
   "source": [
    "np.mean(case_B, axis = 1).shape"
   ]
  },
  {
   "cell_type": "code",
   "execution_count": 401,
   "id": "8b878943-f688-4106-a444-e5de96d96327",
   "metadata": {},
   "outputs": [
    {
     "data": {
      "text/plain": [
       "2.5286658e-08"
      ]
     },
     "execution_count": 401,
     "metadata": {},
     "output_type": "execute_result"
    }
   ],
   "source": [
    "case_B[30:60].flatten().min()"
   ]
  },
  {
   "cell_type": "code",
   "execution_count": 361,
   "id": "76a841d5-370d-41f1-80d2-1d5362fa4d9e",
   "metadata": {},
   "outputs": [
    {
     "data": {
      "text/plain": [
       "(array([4., 4., 5., 2., 1., 1., 1., 6., 3., 3.]),\n",
       " array([9.0026855e-04, 1.5036163e-01, 2.9982299e-01, 4.4928437e-01,\n",
       "        5.9874570e-01, 7.4820709e-01, 8.9766848e-01, 1.0471299e+00,\n",
       "        1.1965911e+00, 1.3460525e+00, 1.4955139e+00], dtype=float32),\n",
       " <BarContainer object of 10 artists>)"
      ]
     },
     "execution_count": 361,
     "metadata": {},
     "output_type": "execute_result"
    },
    {
     "data": {
      "image/png": "[encoded data removed]",
      "text/plain": [
       "<Figure size 432x288 with 1 Axes>"
      ]
     },
     "metadata": {
      "needs_background": "light"
     },
     "output_type": "display_data"
    }
   ],
   "source": [
    "plt.hist(np.abs(case_A_mean[0:30] - case_B_mean[0:30]))"
   ]
  },
  {
   "cell_type": "code",
   "execution_count": 360,
   "id": "2210c7e0-969c-4a49-b4f9-fd471421dab7",
   "metadata": {},
   "outputs": [
    {
     "data": {
      "text/plain": [
       "(array([22.,  2.,  2.,  1.,  0.,  1.,  0.,  0.,  1.,  1.]),\n",
       " array([1.8383162e-10, 3.2910859e-07, 6.5803334e-07, 9.8695807e-07,\n",
       "        1.3158829e-06, 1.6448075e-06, 1.9737324e-06, 2.3026571e-06,\n",
       "        2.6315818e-06, 2.9605067e-06, 3.2894313e-06], dtype=float32),\n",
       " <BarContainer object of 10 artists>)"
      ]
     },
     "execution_count": 360,
     "metadata": {},
     "output_type": "execute_result"
    },
    {
     "data": {
      "image/png": "[encoded data removed]",
      "text/plain": [
       "<Figure size 432x288 with 1 Axes>"
      ]
     },
     "metadata": {
      "needs_background": "light"
     },
     "output_type": "display_data"
    }
   ],
   "source": [
    "plt.hist(np.abs(case_A_mean[30:60] - case_B_mean[30:60]))"
   ]
  },
  {
   "cell_type": "code",
   "execution_count": null,
   "id": "67892364-0c54-422c-84f4-0d3987686f8e",
   "metadata": {},
   "outputs": [],
   "source": []
  },
  {
   "cell_type": "code",
   "execution_count": 336,
   "id": "0bae1ec5-226d-4f71-b9d6-3c7e77d88c73",
   "metadata": {},
   "outputs": [
    {
     "data": {
      "text/plain": [
       "225.70236"
      ]
     },
     "execution_count": 336,
     "metadata": {},
     "output_type": "execute_result"
    }
   ],
   "source": [
    "np.mean(case_B[0])"
   ]
  },
  {
   "cell_type": "code",
   "execution_count": 326,
   "id": "3c98c22d-da93-4a0b-a98a-4965079512bf",
   "metadata": {},
   "outputs": [
    {
     "data": {
      "text/plain": [
       "array([218.84981], dtype=float32)"
      ]
     },
     "execution_count": 326,
     "metadata": {},
     "output_type": "execute_result"
    }
   ],
   "source": [
    "case_A_mean[1]"
   ]
  },
  {
   "cell_type": "code",
   "execution_count": 327,
   "id": "09fbcbed-8c52-445d-9798-cab07b90e353",
   "metadata": {},
   "outputs": [
    {
     "data": {
      "text/plain": [
       "array([219.27524], dtype=float32)"
      ]
     },
     "execution_count": 327,
     "metadata": {},
     "output_type": "execute_result"
    }
   ],
   "source": [
    "case_B_mean[1]"
   ]
  },
  {
   "cell_type": "code",
   "execution_count": 321,
   "id": "729adf2d-cb28-48df-8dea-eba0e4f5094f",
   "metadata": {},
   "outputs": [],
   "source": [
    "case_B_mean = np.mean(case_B, axis = 1)[:,np.newaxis]"
   ]
  },
  {
   "cell_type": "code",
   "execution_count": 270,
   "id": "13c3db7f-c429-498d-b0fc-01cb8c90e6ad",
   "metadata": {},
   "outputs": [
    {
     "data": {
      "text/plain": [
       "array([[4, 4, 4, 3, 5, 2, 1, 1, 1, 2, 1, 9],\n",
       "       [9, 9, 2, 3, 6, 3, 4, 9, 6, 2, 7, 9]])"
      ]
     },
     "execution_count": 270,
     "metadata": {},
     "output_type": "execute_result"
    }
   ],
   "source": [
    "lol_2"
   ]
  },
  {
   "cell_type": "code",
   "execution_count": 273,
   "id": "0bcdcf69-d009-46cc-8296-2284bfd8f28f",
   "metadata": {},
   "outputs": [
    {
     "data": {
      "text/plain": [
       "array([[3.08333333],\n",
       "       [5.75      ]])"
      ]
     },
     "execution_count": 273,
     "metadata": {},
     "output_type": "execute_result"
    }
   ],
   "source": [
    "np.mean(lol_1, axis = (1,2,3))[:, np.newaxis]"
   ]
  },
  {
   "cell_type": "code",
   "execution_count": 274,
   "id": "bf7d5638-e52c-4ce4-abc0-f4d73696349a",
   "metadata": {},
   "outputs": [
    {
     "data": {
      "text/plain": [
       "array([[3.08333333],\n",
       "       [5.75      ]])"
      ]
     },
     "execution_count": 274,
     "metadata": {},
     "output_type": "execute_result"
    }
   ],
   "source": [
    "np.mean(lol_2, axis = 1)[:, np.newaxis]"
   ]
  },
  {
   "cell_type": "code",
   "execution_count": 275,
   "id": "640cfaa8-9918-43de-a9c0-aead983d3ab9",
   "metadata": {},
   "outputs": [
    {
     "data": {
      "text/plain": [
       "array([[2.25308431],\n",
       "       [2.74241378]])"
      ]
     },
     "execution_count": 275,
     "metadata": {},
     "output_type": "execute_result"
    }
   ],
   "source": [
    "np.std(lol_1, axis = (1,2,3))[:, np.newaxis]"
   ]
  },
  {
   "cell_type": "code",
   "execution_count": 276,
   "id": "6d8b0913-936c-4a62-b903-6cd8b00a41d4",
   "metadata": {},
   "outputs": [
    {
     "data": {
      "text/plain": [
       "array([[2.25308431],\n",
       "       [2.74241378]])"
      ]
     },
     "execution_count": 276,
     "metadata": {},
     "output_type": "execute_result"
    }
   ],
   "source": [
    "np.std(lol_2, axis = 1)[:, np.newaxis]"
   ]
  },
  {
   "cell_type": "code",
   "execution_count": 228,
   "id": "635c2fa2-3f0c-4273-8344-709b0c05835b",
   "metadata": {},
   "outputs": [
    {
     "data": {
      "text/plain": [
       "array([1, 2])"
      ]
     },
     "execution_count": 228,
     "metadata": {},
     "output_type": "execute_result"
    }
   ],
   "source": [
    "lol_1.min(axis = (1,2))"
   ]
  },
  {
   "cell_type": "code",
   "execution_count": 234,
   "id": "70f23c9d-b260-41f1-b22c-81f56c88e2f8",
   "metadata": {},
   "outputs": [
    {
     "data": {
      "text/plain": [
       "array([1, 2])"
      ]
     },
     "execution_count": 234,
     "metadata": {},
     "output_type": "execute_result"
    }
   ],
   "source": [
    "lol_2.min(axis = 1)"
   ]
  },
  {
   "cell_type": "code",
   "execution_count": 235,
   "id": "96d52bac-d54e-4686-bfea-34915f273660",
   "metadata": {},
   "outputs": [
    {
     "data": {
      "text/plain": [
       "array([9, 9])"
      ]
     },
     "execution_count": 235,
     "metadata": {},
     "output_type": "execute_result"
    }
   ],
   "source": [
    "lol_1.max(axis = (1,2))"
   ]
  },
  {
   "cell_type": "code",
   "execution_count": 236,
   "id": "3e59d714-1ab3-471e-9296-66550c652fd3",
   "metadata": {},
   "outputs": [
    {
     "data": {
      "text/plain": [
       "array([9, 9])"
      ]
     },
     "execution_count": 236,
     "metadata": {},
     "output_type": "execute_result"
    }
   ],
   "source": [
    "lol_2.max(axis = 1)"
   ]
  },
  {
   "cell_type": "code",
   "execution_count": 329,
   "id": "91ef7c22-cf50-41a8-8f2b-c6638a53d502",
   "metadata": {},
   "outputs": [
    {
     "data": {
      "text/plain": [
       "array([[3.66666667, 2.5       ],\n",
       "       [5.33333333, 6.16666667]])"
      ]
     },
     "execution_count": 329,
     "metadata": {},
     "output_type": "execute_result"
    }
   ],
   "source": [
    "np.mean(lol_1, axis = (1,2))"
   ]
  },
  {
   "cell_type": "code",
   "execution_count": 227,
   "id": "7d1e215e-e4d0-49ca-941e-4884199d3779",
   "metadata": {},
   "outputs": [
    {
     "data": {
      "text/plain": [
       "False"
      ]
     },
     "execution_count": 227,
     "metadata": {},
     "output_type": "execute_result"
    }
   ],
   "source": [
    "np.array_equal(lol_1, lol_2)"
   ]
  },
  {
   "cell_type": "code",
   "execution_count": 328,
   "id": "bda8ad64-4109-4c43-a079-efe252b90cfb",
   "metadata": {},
   "outputs": [
    {
     "data": {
      "text/plain": [
       "False"
      ]
     },
     "execution_count": 328,
     "metadata": {},
     "output_type": "execute_result"
    }
   ],
   "source": [
    "np.array_equal(mean_1, mean_2)"
   ]
  },
  {
   "cell_type": "markdown",
   "id": "e09b9ffd-da19-4c3d-b73b-dd76fc8d4b06",
   "metadata": {},
   "source": [
    "# run the code"
   ]
  },
  {
   "cell_type": "code",
   "execution_count": null,
   "id": "67592cb2-9c14-4d60-9975-937ae1e1f82e",
   "metadata": {},
   "outputs": [],
   "source": [
    "#saveNNInput(1)"
   ]
  },
  {
   "cell_type": "code",
   "execution_count": null,
   "id": "c703eb64-1026-4d95-b5ee-ad9adf4758a6",
   "metadata": {},
   "outputs": [],
   "source": [
    "#saveNNInput(2)"
   ]
  },
  {
   "cell_type": "code",
   "execution_count": null,
   "id": "808276fe-3894-40f0-bc3a-e5d4dd95d30b",
   "metadata": {},
   "outputs": [],
   "source": [
    "#saveNNInput(3)"
   ]
  },
  {
   "cell_type": "code",
   "execution_count": null,
   "id": "66e62ce0-0a4b-4df4-ad7d-6bc5eb905d55",
   "metadata": {},
   "outputs": [],
   "source": [
    "#saveNNInput(4)"
   ]
  },
  {
   "cell_type": "code",
   "execution_count": null,
   "id": "023a6d72-01bd-4434-b640-5269e9a8c4a3",
   "metadata": {},
   "outputs": [],
   "source": [
    "#saveNNInput(5)"
   ]
  }
 ],
 "metadata": {
  "kernelspec": {
   "display_name": "Python 3 (ipykernel)",
   "language": "python",
   "name": "python3"
  },
  "language_info": {
   "codemirror_mode": {
    "name": "ipython",
    "version": 3
   },
   "file_extension": ".py",
   "mimetype": "text/x-python",
   "name": "python",
   "nbconvert_exporter": "python",
   "pygments_lexer": "ipython3",
   "version": "3.10.2"
  }
 },
 "nbformat": 4,
 "nbformat_minor": 5
}
