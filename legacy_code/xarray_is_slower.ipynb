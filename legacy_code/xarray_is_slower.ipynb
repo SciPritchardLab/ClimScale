{
 "cells": [
  {
   "cell_type": "code",
   "execution_count": 30,
   "id": "b60eccf6-c2b7-4292-af77-29787589728d",
   "metadata": {},
   "outputs": [],
   "source": [
    "import xarray as xr\n",
    "import numpy as np\n",
    "import matplotlib.pyplot as plt\n",
    "import os\n",
    "import re\n",
    "from sklearn.model_selection import train_test_split\n",
    "from tqdm import tqdm\n",
    "\n",
    "np.random.seed(2022)"
   ]
  },
  {
   "cell_type": "code",
   "execution_count": 44,
   "id": "47fd96e4-0b20-4e6d-9591-a0a1e5a19cbe",
   "metadata": {},
   "outputs": [],
   "source": [
    "def eliq(T):\n",
    "    a_liq = np.float32(np.array([-0.976195544e-15,-0.952447341e-13,\\\n",
    "                                 0.640689451e-10,\\\n",
    "                      0.206739458e-7,0.302950461e-5,0.264847430e-3,\\\n",
    "                      0.142986287e-1,0.443987641,6.11239921]));\n",
    "    c_liq = np.float32(-80.0)\n",
    "    T0 = np.float32(273.16)\n",
    "    return np.float32(100.0)*np.polyval(a_liq,np.maximum(c_liq,T-T0))\n",
    "\n",
    "def eice(T):\n",
    "    a_ice = np.float32(np.array([0.252751365e-14,0.146898966e-11,0.385852041e-9,\\\n",
    "                      0.602588177e-7,0.615021634e-5,0.420895665e-3,\\\n",
    "                      0.188439774e-1,0.503160820,6.11147274]));\n",
    "    c_ice = np.float32(np.array([273.15,185,-100,0.00763685,0.000151069,7.48215e-07]))\n",
    "    T0 = np.float32(273.16)\n",
    "    return xr.where(T>c_ice[0],eliq(T),\\\n",
    "                   xr.where(T<=c_ice[1],np.float32(100.0)*(c_ice[3]+np.maximum(c_ice[2],T-T0)*\\\n",
    "                   (c_ice[4]+np.maximum(c_ice[2],T-T0)*c_ice[5])),\\\n",
    "                           np.float32(100.0)*np.polyval(a_ice,T-T0)))\n",
    "def esat(T):\n",
    "    T0 = np.float32(273.16)\n",
    "    T00 = np.float32(253.16)\n",
    "    omtmp = (T-T00)/(T0-T00)\n",
    "    omega = np.maximum(np.float32(0.0),np.minimum(np.float32(1.0),omtmp))\n",
    "    return xr.where(T>T0,eliq(T),xr.where(T<T00,eice(T),(omega*eliq(T)+(1-omega)*eice(T))))\n",
    "\n",
    "def RH(T,qv,P0,PS,hyam,hybm):\n",
    "    R = np.float32(287.0)\n",
    "    Rv = np.float32(461.0)\n",
    "    p = P0 * hyam + PS[:, None] * hybm # Total pressure (Pa)\n",
    "    \n",
    "    T = np.float32(T)\n",
    "    qv = np.float32(qv)\n",
    "    p = np.float32(p)\n",
    "    \n",
    "    return Rv*p*qv/(R*esat(T))"
   ]
  },
  {
   "cell_type": "code",
   "execution_count": 45,
   "id": "669eb320-eb4f-4765-939b-1d7743a97e65",
   "metadata": {},
   "outputs": [],
   "source": [
    "datasets = !ls\n",
    "datasets = [x for x in datasets if \"h1\" in x]\n",
    "spData = xr.open_mfdataset(datasets)"
   ]
  },
  {
   "cell_type": "code",
   "execution_count": null,
   "id": "a8585cdf-03a7-487c-9c28-27b4ec439749",
   "metadata": {},
   "outputs": [],
   "source": [
    "nntbp = spData[\"NNTBP\"]\n",
    "nnqbp = spData[\"NNQBP\"]\n",
    "p0 = spData[\"P0\"]\n",
    "ps = spData[\"NNPS\"]\n",
    "hyam = spData[\"hyam\"]\n",
    "hybm = spData[\"hybm\"]\n",
    "relhum = spData[\"RELHUM\"]\n",
    "tphystnd = spData[\"TPHYSTND\"]\n",
    "phq = spData[\"PHQ\"]\n",
    "newhum = xr.zeros_like(spData[\"NNQBP\"])\n",
    "lats = spData[\"lat\"]\n",
    "lons = spData[\"lon\"]\n",
    "for i in tqdm(range(len(lats))):\n",
    "    for j in range(len(lons)):\n",
    "        latIndex = i\n",
    "        lonIndex = j\n",
    "        R = np.float32(287.0)\n",
    "        Rv = np.float32(461.0)\n",
    "        p = p0 * hyam + ps[:, latIndex, lonIndex].expand_dims({\"lev\":30}, axis = 1)*hybm\n",
    "        T = nntbp[:, :, latIndex, lonIndex]\n",
    "        qv = nnqbp[:, :, latIndex, lonIndex]\n",
    "        newhum[:,:, latIndex, lonIndex] = Rv*p*qv/(R*esat(T))"
   ]
  },
  {
   "cell_type": "code",
   "execution_count": null,
   "id": "f14fb057-8edd-4353-865a-691bd1402478",
   "metadata": {},
   "outputs": [],
   "source": []
  }
 ],
 "metadata": {
  "kernelspec": {
   "display_name": "Python 3 (ipykernel)",
   "language": "python",
   "name": "python3"
  },
  "language_info": {
   "codemirror_mode": {
    "name": "ipython",
    "version": 3
   },
   "file_extension": ".py",
   "mimetype": "text/x-python",
   "name": "python",
   "nbconvert_exporter": "python",
   "pygments_lexer": "ipython3",
   "version": "3.10.2"
  }
 },
 "nbformat": 4,
 "nbformat_minor": 5
}
