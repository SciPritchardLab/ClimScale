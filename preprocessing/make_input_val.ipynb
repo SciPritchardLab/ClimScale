{
 "cells": [
  {
   "cell_type": "markdown",
   "id": "58b2d8f3-7121-4fc7-a767-2909a21a5ff0",
   "metadata": {},
   "source": [
    "# Import packages"
   ]
  },
  {
   "cell_type": "code",
   "execution_count": 1,
   "id": "23e17ac0-08c2-4bd6-ba5f-f7536c551c84",
   "metadata": {},
   "outputs": [],
   "source": [
    "import xarray as xr\n",
    "import numpy as np\n",
    "import matplotlib.pyplot as plt\n",
    "import os\n",
    "import re\n",
    "from tqdm import tqdm\n",
    "from preprocessing_functions import *\n",
    "\n",
    "#optional\n",
    "import datetime"
   ]
  },
  {
   "cell_type": "markdown",
   "id": "beaf1b27-1be2-4cf2-8f39-ee67cc92e247",
   "metadata": {},
   "source": [
    "# Read data path"
   ]
  },
  {
   "cell_type": "code",
   "execution_count": 2,
   "id": "db9dd605-bf91-4d8e-b61e-7d1c5a91b8ce",
   "metadata": {},
   "outputs": [],
   "source": [
    "def checktime():\n",
    "    print(datetime.datetime.now()) \n",
    "data_path = \"/ocean/projects/atm200007p/jlin96/longSPrun\"\n",
    "data_path = \"/ocean/projects/atm200007p/jlin96/nnSpreadTesting\"\n",
    "data_path = \".\"\n",
    "\n",
    "norm_path = \"../training/norm_files/\""
   ]
  },
  {
   "cell_type": "markdown",
   "id": "de656264-ec58-4e24-9d84-cd22c02fb7c9",
   "metadata": {},
   "source": [
    "# Load and extract training data"
   ]
  },
  {
   "cell_type": "code",
   "execution_count": 3,
   "id": "385e11d9-f305-4c55-8740-8d45e762d1ba",
   "metadata": {},
   "outputs": [
    {
     "name": "stdout",
     "output_type": "stream",
     "text": [
      "loaded in data\n",
      "starting for loop\n"
     ]
    },
    {
     "name": "stderr",
     "output_type": "stream",
     "text": [
      "100%|██████████████████████████████████████████████████████████████████████████████████████████████████████████████████| 64/64 [00:09<00:00,  6.50it/s]"
     ]
    },
    {
     "name": "stdout",
     "output_type": "stream",
     "text": [
      "nntbp\n",
      "(30, 95, 64, 128)\n",
      "nnqbp\n",
      "(30, 95, 64, 128)\n",
      "lhflx\n",
      "(1, 95, 64, 128)\n",
      "shflx\n",
      "(1, 95, 64, 128)\n"
     ]
    },
    {
     "name": "stderr",
     "output_type": "stream",
     "text": [
      "\n"
     ]
    },
    {
     "name": "stdout",
     "output_type": "stream",
     "text": [
      "ps\n",
      "(1, 95, 64, 128)\n",
      "solin\n",
      "(1, 95, 64, 128)\n",
      "newhum\n",
      "(30, 95, 64, 128)\n",
      "oldhum\n",
      "(30, 95, 64, 128)\n",
      "nnInput\n",
      "loaded in data\n",
      "starting for loop\n"
     ]
    },
    {
     "name": "stderr",
     "output_type": "stream",
     "text": [
      "100%|██████████████████████████████████████████████████████████████████████████████████████████████████████████████████| 64/64 [00:06<00:00, 10.13it/s]\n"
     ]
    },
    {
     "name": "stdout",
     "output_type": "stream",
     "text": [
      "nntbp\n",
      "(30, 95, 64, 128)\n",
      "nnqbp\n",
      "(30, 95, 64, 128)\n",
      "lhflx\n",
      "(1, 95, 64, 128)\n",
      "shflx\n",
      "(1, 95, 64, 128)\n",
      "ps\n",
      "(1, 95, 64, 128)\n",
      "solin\n",
      "(1, 95, 64, 128)\n",
      "newhum\n",
      "(30, 95, 64, 128)\n",
      "oldhum\n",
      "(30, 95, 64, 128)\n",
      "nnInput\n"
     ]
    }
   ],
   "source": [
    "spData_val_input = combine_arrays(make_nn_input(load_data(month = 10, year = 1, data_path = data_path), family = \"relative\"), \\\n",
    "                                  make_nn_input(load_data(month = 11, year = 1, data_path = data_path), family = \"relative\"), \\\n",
    "                                  make_nn_input(load_data(month = 12, year = 1, data_path = data_path), family = \"relative\"))"
   ]
  },
  {
   "cell_type": "markdown",
   "id": "ce4b0c07-63da-4662-80d1-ce0e874042e3",
   "metadata": {},
   "source": [
    "# Reshape and subsample longitudinally (if desired)"
   ]
  },
  {
   "cell_type": "code",
   "execution_count": 5,
   "id": "d55ba86c-7b52-4f05-9281-ab4c6f74f68c",
   "metadata": {},
   "outputs": [],
   "source": [
    "spData_val_input = reshape_input(spData_val_input, spacing = 2, subsample = True)"
   ]
  },
  {
   "cell_type": "markdown",
   "id": "f9e8e8ac-e70e-449d-82d8-d692c0b74767",
   "metadata": {},
   "source": [
    "# Read in normalization files"
   ]
  },
  {
   "cell_type": "code",
   "execution_count": 6,
   "id": "17155c2e-9230-4060-bc4f-7461e94c40cb",
   "metadata": {},
   "outputs": [],
   "source": [
    "inp_sub = np.loadtxt(norm_path + \"inp_sub.txt\")[:, np.newaxis]\n",
    "inp_div = np.loadtxt(norm_path + \"inp_div.txt\")[:, np.newaxis]"
   ]
  },
  {
   "cell_type": "markdown",
   "id": "4ac1c98f-2eeb-4fa0-b3c1-eeffa413d378",
   "metadata": {},
   "source": [
    "# Create training data"
   ]
  },
  {
   "cell_type": "code",
   "execution_count": 7,
   "id": "257bed75-f863-4644-b2a8-ed6ed5b8e390",
   "metadata": {},
   "outputs": [
    {
     "name": "stdout",
     "output_type": "stream",
     "text": [
      "X_val shape: \n",
      "(314496, 64)\n",
      "INP_SUB shape: \n",
      "(64, 1)\n",
      "INP_DIV shape: \n",
      "(64, 1)\n"
     ]
    }
   ],
   "source": [
    "X_val = normalize_input_val(X_val = spData_val_input, inp_sub = inp_sub, inp_div = inp_div)"
   ]
  }
 ],
 "metadata": {
  "kernelspec": {
   "display_name": "Python 3.10.2 64-bit",
   "language": "python",
   "name": "python3"
  },
  "language_info": {
   "codemirror_mode": {
    "name": "ipython",
    "version": 3
   },
   "file_extension": ".py",
   "mimetype": "text/x-python",
   "name": "python",
   "nbconvert_exporter": "python",
   "pygments_lexer": "ipython3",
   "version": "3.10.2"
  },
  "vscode": {
   "interpreter": {
    "hash": "aee8b7b246df8f9039afb4144a1f6fd8d2ca17a180786b69acc140d282b71a49"
   }
  }
 },
 "nbformat": 4,
 "nbformat_minor": 5
}
