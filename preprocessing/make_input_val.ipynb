{
 "cells": [
  {
   "cell_type": "markdown",
   "id": "58b2d8f3-7121-4fc7-a767-2909a21a5ff0",
   "metadata": {},
   "source": [
    "# Import packages"
   ]
  },
  {
   "cell_type": "code",
   "execution_count": null,
   "id": "23e17ac0-08c2-4bd6-ba5f-f7536c551c84",
   "metadata": {},
   "outputs": [],
   "source": [
    "import xarray as xr\n",
    "import numpy as np\n",
    "import matplotlib.pyplot as plt\n",
    "import os\n",
    "import re\n",
    "from tqdm import tqdm\n",
    "from preprocessing_functions import *\n",
    "\n",
    "#optional\n",
    "import datetime"
   ]
  },
  {
   "cell_type": "markdown",
   "id": "beaf1b27-1be2-4cf2-8f39-ee67cc92e247",
   "metadata": {},
   "source": [
    "# Read data path"
   ]
  },
  {
   "cell_type": "code",
   "execution_count": null,
   "id": "3be300fd",
   "metadata": {},
   "outputs": [],
   "source": [
    "!pwd"
   ]
  },
  {
   "cell_type": "code",
   "execution_count": null,
   "id": "db9dd605-bf91-4d8e-b61e-7d1c5a91b8ce",
   "metadata": {},
   "outputs": [],
   "source": [
    "def checktime():\n",
    "    print(datetime.datetime.now()) \n",
    "data_path = \"/ocean/projects/atm200007p/jlin96/longSPrun_o3/\"\n",
    "norm_path = \"../training/norm_files/\""
   ]
  },
  {
   "cell_type": "markdown",
   "id": "de656264-ec58-4e24-9d84-cd22c02fb7c9",
   "metadata": {},
   "source": [
    "# Load, extract, and subsample training data"
   ]
  },
  {
   "cell_type": "code",
   "execution_count": null,
   "id": "385e11d9-f305-4c55-8740-8d45e762d1ba",
   "metadata": {},
   "outputs": [],
   "source": [
    "spData_val_input = combine_arrays(make_nn_input(load_data(month = 11, year = 1, data_path = data_path), family = \"relative\"), \\\n",
    "                                  make_nn_input(load_data(month = 12, year = 1, data_path = data_path), family = \"relative\"))\n",
    "print(spData_val_input.shape)"
   ]
  },
  {
   "cell_type": "markdown",
   "id": "ce4b0c07-63da-4662-80d1-ce0e874042e3",
   "metadata": {},
   "source": [
    "# Reshaping"
   ]
  },
  {
   "cell_type": "code",
   "execution_count": null,
   "id": "d55ba86c-7b52-4f05-9281-ab4c6f74f68c",
   "metadata": {},
   "outputs": [],
   "source": [
    "spData_val_input = reshape_input(spData_val_input)\n",
    "print(spData_val_input.shape)"
   ]
  },
  {
   "cell_type": "markdown",
   "id": "f9e8e8ac-e70e-449d-82d8-d692c0b74767",
   "metadata": {},
   "source": [
    "# Read in normalization files"
   ]
  },
  {
   "cell_type": "code",
   "execution_count": null,
   "id": "17155c2e-9230-4060-bc4f-7461e94c40cb",
   "metadata": {},
   "outputs": [],
   "source": [
    "inp_sub = np.loadtxt(norm_path + \"inp_sub.txt\")[:, np.newaxis]\n",
    "inp_div = np.loadtxt(norm_path + \"inp_div.txt\")[:, np.newaxis]\n",
    "print(inp_sub.shape)\n",
    "print(inp_div.shape)"
   ]
  },
  {
   "cell_type": "markdown",
   "id": "4ac1c98f-2eeb-4fa0-b3c1-eeffa413d378",
   "metadata": {},
   "source": [
    "# Create training data"
   ]
  },
  {
   "cell_type": "code",
   "execution_count": null,
   "id": "257bed75-f863-4644-b2a8-ed6ed5b8e390",
   "metadata": {},
   "outputs": [],
   "source": [
    "X_val = normalize_input_val(X_val = spData_val_input, inp_sub = inp_sub, inp_div = inp_div, save_files = True)"
   ]
  },
  {
   "cell_type": "code",
   "execution_count": null,
   "id": "85ef672a",
   "metadata": {},
   "outputs": [],
   "source": [
    "print(\"finished\")"
   ]
  }
 ],
 "metadata": {
  "kernelspec": {
   "display_name": "Python 3",
   "language": "python",
   "name": "python3"
  },
  "language_info": {
   "codemirror_mode": {
    "name": "ipython",
    "version": 3
   },
   "file_extension": ".py",
   "mimetype": "text/x-python",
   "name": "python",
   "nbconvert_exporter": "python",
   "pygments_lexer": "ipython3",
   "version": "3.6.8 (default, Apr 16 2020, 01:36:27) \n[GCC 8.3.1 20191121 (Red Hat 8.3.1-5)]"
  },
  "vscode": {
   "interpreter": {
    "hash": "916dbcbb3f70747c44a77c7bcd40155683ae19c65e1c03b4aa3499c5328201f1"
   }
  }
 },
 "nbformat": 4,
 "nbformat_minor": 5
}
