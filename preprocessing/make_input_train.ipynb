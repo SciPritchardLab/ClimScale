{
 "cells": [
  {
   "cell_type": "markdown",
   "id": "4567eda4-564a-4deb-afd6-f8d8ad75adab",
   "metadata": {},
   "source": [
    "# Import packages"
   ]
  },
  {
   "cell_type": "code",
   "execution_count": null,
   "id": "23e17ac0-08c2-4bd6-ba5f-f7536c551c84",
   "metadata": {},
   "outputs": [],
   "source": [
    "import xarray as xr\n",
    "import numpy as np\n",
    "import matplotlib.pyplot as plt\n",
    "import os\n",
    "import re\n",
    "from tqdm import tqdm\n",
    "from preprocessing_functions import *\n",
    "\n",
    "#optional\n",
    "import datetime"
   ]
  },
  {
   "cell_type": "markdown",
   "id": "1f847933-cb11-4862-af85-72dafd863bb2",
   "metadata": {},
   "source": [
    "# Read data path"
   ]
  },
  {
   "cell_type": "code",
   "execution_count": null,
   "id": "1e7ad717",
   "metadata": {},
   "outputs": [],
   "source": [
    "!pwd"
   ]
  },
  {
   "cell_type": "code",
   "execution_count": null,
   "id": "db9dd605-bf91-4d8e-b61e-7d1c5a91b8ce",
   "metadata": {},
   "outputs": [],
   "source": [
    "def checktime():\n",
    "    print(datetime.datetime.now()) \n",
    "data_path = \"/ocean/projects/atm200007p/jlin96/longSPrun_o3/\""
   ]
  },
  {
   "cell_type": "markdown",
   "id": "eb58fd88-6b11-4e26-90f2-1e1a5801dba3",
   "metadata": {},
   "source": [
    "# Load, extract, and subsample data"
   ]
  },
  {
   "cell_type": "code",
   "execution_count": null,
   "id": "385e11d9-f305-4c55-8740-8d45e762d1ba",
   "metadata": {},
   "outputs": [],
   "source": [
    "spData_train_input = combine_arrays(make_nn_input(load_data(month = 2, year = 0, data_path = data_path), family = \"relative\"), \\\n",
    "                                    make_nn_input(load_data(month = 3, year = 0, data_path = data_path), family = \"relative\"), \\\n",
    "                                    make_nn_input(load_data(month = 4, year = 0, data_path = data_path), family = \"relative\"), \\\n",
    "                                    make_nn_input(load_data(month = 5, year = 0, data_path = data_path), family = \"relative\"), \\\n",
    "                                    make_nn_input(load_data(month = 6, year = 0, data_path = data_path), family = \"relative\"), \\\n",
    "                                    make_nn_input(load_data(month = 7, year = 0, data_path = data_path), family = \"relative\"), \\\n",
    "                                    make_nn_input(load_data(month = 8, year = 0, data_path = data_path), family = \"relative\"), \\\n",
    "                                    make_nn_input(load_data(month = 9, year = 0, data_path = data_path), family = \"relative\"), \\\n",
    "                                    make_nn_input(load_data(month = 10, year = 0, data_path = data_path), family = \"relative\"), \\\n",
    "                                    make_nn_input(load_data(month = 11, year = 0, data_path = data_path), family = \"relative\"), \\\n",
    "                                    make_nn_input(load_data(month = 12, year = 0, data_path = data_path), family = \"relative\"), \\\n",
    "                                    make_nn_input(load_data(month = 1, year = 1, data_path = data_path), family = \"relative\"))\n",
    "print(spData_train_input.shape)"
   ]
  },
  {
   "cell_type": "markdown",
   "id": "341298e7-118c-45f0-bb03-9384f89238e7",
   "metadata": {},
   "source": [
    "# Reshaping"
   ]
  },
  {
   "cell_type": "code",
   "execution_count": null,
   "id": "aea2226a-6a34-41fb-b1dc-c93dd20821a9",
   "metadata": {},
   "outputs": [],
   "source": [
    "spData_train_input = reshape_input(spData_train_input)\n",
    "print(spData_train_input.shape)"
   ]
  },
  {
   "cell_type": "markdown",
   "id": "ecb4a6f5-9c8d-43ba-aee8-3b8b93868a70",
   "metadata": {},
   "source": [
    "# Create training data"
   ]
  },
  {
   "cell_type": "code",
   "execution_count": null,
   "id": "77799dfd-8822-4494-9532-cd9ed975acc7",
   "metadata": {},
   "outputs": [],
   "source": [
    "X_train, inp_sub, inp_div = normalize_input_train(X_train = spData_train_input, save_files = True)"
   ]
  },
  {
   "cell_type": "code",
   "execution_count": null,
   "id": "12cdcef3",
   "metadata": {},
   "outputs": [],
   "source": [
    "print(\"finished\")"
   ]
  }
 ],
 "metadata": {
  "kernelspec": {
   "display_name": "Python 3",
   "language": "python",
   "name": "python3"
  },
  "language_info": {
   "codemirror_mode": {
    "name": "ipython",
    "version": 3
   },
   "file_extension": ".py",
   "mimetype": "text/x-python",
   "name": "python",
   "nbconvert_exporter": "python",
   "pygments_lexer": "ipython3",
   "version": "3.6.8 (default, Apr 16 2020, 01:36:27) \n[GCC 8.3.1 20191121 (Red Hat 8.3.1-5)]"
  },
  "vscode": {
   "interpreter": {
    "hash": "916dbcbb3f70747c44a77c7bcd40155683ae19c65e1c03b4aa3499c5328201f1"
   }
  }
 },
 "nbformat": 4,
 "nbformat_minor": 5
}
