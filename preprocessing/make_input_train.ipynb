{
 "cells": [
  {
   "cell_type": "markdown",
   "id": "4567eda4-564a-4deb-afd6-f8d8ad75adab",
   "metadata": {},
   "source": [
    "# Import packages"
   ]
  },
  {
   "cell_type": "code",
   "execution_count": 1,
   "id": "23e17ac0-08c2-4bd6-ba5f-f7536c551c84",
   "metadata": {},
   "outputs": [],
   "source": [
    "import xarray as xr\n",
    "import numpy as np\n",
    "import matplotlib.pyplot as plt\n",
    "import os\n",
    "import re\n",
    "from tqdm import tqdm\n",
    "from preprocessing_functions import *\n",
    "\n",
    "#optional\n",
    "import datetime"
   ]
  },
  {
   "cell_type": "markdown",
   "id": "1f847933-cb11-4862-af85-72dafd863bb2",
   "metadata": {},
   "source": [
    "# Read data path"
   ]
  },
  {
   "cell_type": "code",
   "execution_count": 2,
   "id": "db9dd605-bf91-4d8e-b61e-7d1c5a91b8ce",
   "metadata": {},
   "outputs": [],
   "source": [
    "def checktime():\n",
    "    print(datetime.datetime.now()) \n",
    "data_path = \"/ocean/projects/atm200007p/jlin96/longSPrun\"\n",
    "data_path = \"/ocean/projects/atm200007p/jlin96/nnSpreadTesting\"\n",
    "data_path = \".\""
   ]
  },
  {
   "cell_type": "markdown",
   "id": "eb58fd88-6b11-4e26-90f2-1e1a5801dba3",
   "metadata": {},
   "source": [
    "# Load and extract data"
   ]
  },
  {
   "cell_type": "code",
   "execution_count": 3,
   "id": "385e11d9-f305-4c55-8740-8d45e762d1ba",
   "metadata": {},
   "outputs": [
    {
     "name": "stdout",
     "output_type": "stream",
     "text": [
      "loaded in data\n",
      "starting for loop\n"
     ]
    },
    {
     "name": "stderr",
     "output_type": "stream",
     "text": [
      "100%|██████████████████████████████████████████████████████████████████████████████████████████████████████████████████| 64/64 [00:07<00:00,  8.28it/s]\n"
     ]
    },
    {
     "name": "stdout",
     "output_type": "stream",
     "text": [
      "nntbp\n",
      "(30, 95, 64, 128)\n",
      "nnqbp\n",
      "(30, 95, 64, 128)\n",
      "lhflx\n",
      "(1, 95, 64, 128)\n",
      "shflx\n",
      "(1, 95, 64, 128)\n",
      "ps\n",
      "(1, 95, 64, 128)\n",
      "solin\n",
      "(1, 95, 64, 128)\n",
      "newhum\n",
      "(30, 95, 64, 128)\n",
      "oldhum\n",
      "(30, 95, 64, 128)\n",
      "nnInput\n",
      "loaded in data\n",
      "starting for loop\n"
     ]
    },
    {
     "name": "stderr",
     "output_type": "stream",
     "text": [
      "100%|██████████████████████████████████████████████████████████████████████████████████████████████████████████████████| 64/64 [00:09<00:00,  6.63it/s]\n"
     ]
    },
    {
     "name": "stdout",
     "output_type": "stream",
     "text": [
      "nntbp\n",
      "(30, 95, 64, 128)\n",
      "nnqbp\n",
      "(30, 95, 64, 128)\n",
      "lhflx\n",
      "(1, 95, 64, 128)\n",
      "shflx\n",
      "(1, 95, 64, 128)\n",
      "ps\n",
      "(1, 95, 64, 128)\n",
      "solin\n",
      "(1, 95, 64, 128)\n",
      "newhum\n",
      "(30, 95, 64, 128)\n",
      "oldhum\n",
      "(30, 95, 64, 128)\n",
      "nnInput\n"
     ]
    }
   ],
   "source": [
    "spData_train_input = combine_arrays(make_nn_input(load_data(month = 2, year = 0, data_path = data_path), family = \"relative\"), \\\n",
    "                                    make_nn_input(load_data(month = 3, year = 0, data_path = data_path), family = \"relative\"), \\\n",
    "                                    make_nn_input(load_data(month = 4, year = 0, data_path = data_path), family = \"relative\"), \\\n",
    "                                    make_nn_input(load_data(month = 5, year = 0, data_path = data_path), family = \"relative\"))"
   ]
  },
  {
   "cell_type": "markdown",
   "id": "341298e7-118c-45f0-bb03-9384f89238e7",
   "metadata": {},
   "source": [
    "# Reshape and subsample longitudinally (if desired)"
   ]
  },
  {
   "cell_type": "code",
   "execution_count": 5,
   "id": "aea2226a-6a34-41fb-b1dc-c93dd20821a9",
   "metadata": {},
   "outputs": [],
   "source": [
    "spData_train_input = reshape_input(spData_train_input, spacing = 2, subsample = True)"
   ]
  },
  {
   "cell_type": "markdown",
   "id": "ecb4a6f5-9c8d-43ba-aee8-3b8b93868a70",
   "metadata": {},
   "source": [
    "# Create training data"
   ]
  },
  {
   "cell_type": "code",
   "execution_count": 6,
   "id": "77799dfd-8822-4494-9532-cd9ed975acc7",
   "metadata": {},
   "outputs": [
    {
     "name": "stdout",
     "output_type": "stream",
     "text": [
      "X_train shape: \n",
      "(314496, 64)\n",
      "INP_SUB shape: \n",
      "(64, 1)\n",
      "INP_DIV shape: \n",
      "(64, 1)\n"
     ]
    }
   ],
   "source": [
    "normalize_input_train(X_train = spData_train_input, save_files = True)"
   ]
  }
 ],
 "metadata": {
  "kernelspec": {
   "display_name": "Python 3 (ipykernel)",
   "language": "python",
   "name": "python3"
  },
  "language_info": {
   "codemirror_mode": {
    "name": "ipython",
    "version": 3
   },
   "file_extension": ".py",
   "mimetype": "text/x-python",
   "name": "python",
   "nbconvert_exporter": "python",
   "pygments_lexer": "ipython3",
   "version": "3.10.2"
  },
  "vscode": {
   "interpreter": {
    "hash": "aee8b7b246df8f9039afb4144a1f6fd8d2ca17a180786b69acc140d282b71a49"
   }
  }
 },
 "nbformat": 4,
 "nbformat_minor": 5
}
