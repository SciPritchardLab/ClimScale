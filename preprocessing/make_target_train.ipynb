{
 "cells": [
  {
   "cell_type": "markdown",
   "id": "0333c98b-1507-44e1-a01e-771add4f3b03",
   "metadata": {},
   "source": [
    "# Import packages"
   ]
  },
  {
   "cell_type": "code",
   "execution_count": null,
   "id": "23e17ac0-08c2-4bd6-ba5f-f7536c551c84",
   "metadata": {},
   "outputs": [],
   "source": [
    "import xarray as xr\n",
    "import numpy as np\n",
    "import matplotlib.pyplot as plt\n",
    "import os\n",
    "import re\n",
    "from tqdm import tqdm\n",
    "from preprocessing_functions import *\n",
    "\n",
    "#optional\n",
    "import datetime"
   ]
  },
  {
   "cell_type": "markdown",
   "id": "ac53914b-4234-4e1b-9800-4a2feadb0ee4",
   "metadata": {},
   "source": [
    "# Read data path"
   ]
  },
  {
   "cell_type": "code",
   "execution_count": null,
   "id": "12fd7280",
   "metadata": {},
   "outputs": [],
   "source": [
    "!pwd"
   ]
  },
  {
   "cell_type": "code",
   "execution_count": null,
   "id": "db9dd605-bf91-4d8e-b61e-7d1c5a91b8ce",
   "metadata": {},
   "outputs": [],
   "source": [
    "def checktime():\n",
    "    print(datetime.datetime.now()) \n",
    "data_path = \"/ocean/projects/atm200007p/jlin96/longSPrun_o3/\""
   ]
  },
  {
   "cell_type": "markdown",
   "id": "5bbb1a88-780d-4677-b9ca-c5ab91479173",
   "metadata": {},
   "source": [
    "# Load, extract, and subsample training data"
   ]
  },
  {
   "cell_type": "code",
   "execution_count": null,
   "id": "385e11d9-f305-4c55-8740-8d45e762d1ba",
   "metadata": {},
   "outputs": [],
   "source": [
    "spData_train_target = combine_arrays(make_nn_target(load_data(month = 2, year = 0, data_path = data_path)), \\\n",
    "                                     make_nn_target(load_data(month = 3, year = 0, data_path = data_path)), \\\n",
    "                                     make_nn_target(load_data(month = 4, year = 0, data_path = data_path)), \\\n",
    "                                     make_nn_target(load_data(month = 5, year = 0, data_path = data_path)), \\\n",
    "                                     make_nn_target(load_data(month = 6, year = 0, data_path = data_path)), \\\n",
    "                                     make_nn_target(load_data(month = 7, year = 0, data_path = data_path)), \\\n",
    "                                     make_nn_target(load_data(month = 8, year = 0, data_path = data_path)), \\\n",
    "                                     make_nn_target(load_data(month = 9, year = 0, data_path = data_path)), \\\n",
    "                                     make_nn_target(load_data(month = 10, year = 0, data_path = data_path)), \\\n",
    "                                     make_nn_target(load_data(month = 11, year = 0, data_path = data_path)), \\\n",
    "                                     make_nn_target(load_data(month = 12, year = 0, data_path = data_path)), \\\n",
    "                                     make_nn_target(load_data(month = 1, year = 1, data_path = data_path)))\n",
    "print(spData_train_target.shape)"
   ]
  },
  {
   "cell_type": "markdown",
   "id": "a8512254-9669-4c7b-b3a6-9578b5714e53",
   "metadata": {},
   "source": [
    "# Reshaping"
   ]
  },
  {
   "cell_type": "code",
   "execution_count": null,
   "id": "aea2226a-6a34-41fb-b1dc-c93dd20821a9",
   "metadata": {},
   "outputs": [],
   "source": [
    "spData_train_target = reshape_target(spData_train_target)\n",
    "print(spData_train_target.shape)"
   ]
  },
  {
   "cell_type": "markdown",
   "id": "71970305-fd5b-47c7-aa99-94f0f4152df6",
   "metadata": {},
   "source": [
    "# Create training data"
   ]
  },
  {
   "cell_type": "code",
   "execution_count": null,
   "id": "257bed75-f863-4644-b2a8-ed6ed5b8e390",
   "metadata": {},
   "outputs": [],
   "source": [
    "y_train = normalize_target_train(y_train = spData_train_target, save_files = True)"
   ]
  },
  {
   "cell_type": "code",
   "execution_count": null,
   "id": "84b6f9a2",
   "metadata": {},
   "outputs": [],
   "source": [
    "print(\"finished\")"
   ]
  }
 ],
 "metadata": {
  "kernelspec": {
   "display_name": "Python 3",
   "language": "python",
   "name": "python3"
  },
  "language_info": {
   "codemirror_mode": {
    "name": "ipython",
    "version": 3
   },
   "file_extension": ".py",
   "mimetype": "text/x-python",
   "name": "python",
   "nbconvert_exporter": "python",
   "pygments_lexer": "ipython3",
   "version": "3.6.8 (default, Apr 16 2020, 01:36:27) \n[GCC 8.3.1 20191121 (Red Hat 8.3.1-5)]"
  },
  "vscode": {
   "interpreter": {
    "hash": "916dbcbb3f70747c44a77c7bcd40155683ae19c65e1c03b4aa3499c5328201f1"
   }
  }
 },
 "nbformat": 4,
 "nbformat_minor": 5
}
