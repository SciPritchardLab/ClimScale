{
 "cells": [
  {
   "cell_type": "markdown",
   "id": "0333c98b-1507-44e1-a01e-771add4f3b03",
   "metadata": {},
   "source": [
    "# Import packages"
   ]
  },
  {
   "cell_type": "code",
   "execution_count": 1,
   "id": "23e17ac0-08c2-4bd6-ba5f-f7536c551c84",
   "metadata": {},
   "outputs": [],
   "source": [
    "import xarray as xr\n",
    "import numpy as np\n",
    "import matplotlib.pyplot as plt\n",
    "import os\n",
    "import re\n",
    "from tqdm import tqdm\n",
    "from preprocessing_functions import *\n",
    "\n",
    "#optional\n",
    "import datetime"
   ]
  },
  {
   "cell_type": "markdown",
   "id": "ac53914b-4234-4e1b-9800-4a2feadb0ee4",
   "metadata": {},
   "source": [
    "# Read data path"
   ]
  },
  {
   "cell_type": "code",
   "execution_count": 2,
   "id": "db9dd605-bf91-4d8e-b61e-7d1c5a91b8ce",
   "metadata": {},
   "outputs": [],
   "source": [
    "def checktime():\n",
    "    print(datetime.datetime.now()) \n",
    "data_path = \"/ocean/projects/atm200007p/jlin96/longSPrun\"\n",
    "data_path = \"/ocean/projects/atm200007p/jlin96/nnSpreadTesting\"\n",
    "data_path = \".\""
   ]
  },
  {
   "cell_type": "markdown",
   "id": "5bbb1a88-780d-4677-b9ca-c5ab91479173",
   "metadata": {},
   "source": [
    "# Load and extract training data"
   ]
  },
  {
   "cell_type": "code",
   "execution_count": 3,
   "id": "385e11d9-f305-4c55-8740-8d45e762d1ba",
   "metadata": {},
   "outputs": [
    {
     "name": "stdout",
     "output_type": "stream",
     "text": [
      "tphystnd\n",
      "(30, 95, 64, 128)\n",
      "phq\n",
      "(30, 95, 64, 128)\n",
      "nnTarget\n",
      "tphystnd\n",
      "(30, 95, 64, 128)\n",
      "phq\n",
      "(30, 95, 64, 128)\n",
      "nnTarget\n"
     ]
    }
   ],
   "source": [
    "spData_train_target = combine_arrays(make_nn_target(load_data(month = 2, year = 0, data_path = data_path), family = \"relative\"), \\\n",
    "                                     make_nn_target(load_data(month = 3, year = 0, data_path = data_path), family = \"relative\"), \\\n",
    "                                     make_nn_target(load_data(month = 4, year = 0, data_path = data_path), family = \"relative\"), \\\n",
    "                                     make_nn_target(load_data(month = 5, year = 0, data_path = data_path), family = \"relative\"))"
   ]
  },
  {
   "cell_type": "markdown",
   "id": "a8512254-9669-4c7b-b3a6-9578b5714e53",
   "metadata": {},
   "source": [
    "# Reshape and subsample longitudinally (if desired)"
   ]
  },
  {
   "cell_type": "code",
   "execution_count": 5,
   "id": "aea2226a-6a34-41fb-b1dc-c93dd20821a9",
   "metadata": {},
   "outputs": [],
   "source": [
    "spData_train_target = reshape_target(spData_train_target, spacing = 2, subsample = True)"
   ]
  },
  {
   "cell_type": "markdown",
   "id": "71970305-fd5b-47c7-aa99-94f0f4152df6",
   "metadata": {},
   "source": [
    "# Create training data"
   ]
  },
  {
   "cell_type": "code",
   "execution_count": 6,
   "id": "257bed75-f863-4644-b2a8-ed6ed5b8e390",
   "metadata": {},
   "outputs": [
    {
     "name": "stdout",
     "output_type": "stream",
     "text": [
      "y shape: \n",
      "(314496, 60)\n",
      "outscale shape: \n",
      "(60,)\n"
     ]
    }
   ],
   "source": [
    "y_train = normalize_target_train(y_train = spData_train_target)"
   ]
  }
 ],
 "metadata": {
  "kernelspec": {
   "display_name": "Python 3.10.2 64-bit",
   "language": "python",
   "name": "python3"
  },
  "language_info": {
   "codemirror_mode": {
    "name": "ipython",
    "version": 3
   },
   "file_extension": ".py",
   "mimetype": "text/x-python",
   "name": "python",
   "nbconvert_exporter": "python",
   "pygments_lexer": "ipython3",
   "version": "3.10.2"
  },
  "vscode": {
   "interpreter": {
    "hash": "aee8b7b246df8f9039afb4144a1f6fd8d2ca17a180786b69acc140d282b71a49"
   }
  }
 },
 "nbformat": 4,
 "nbformat_minor": 5
}
