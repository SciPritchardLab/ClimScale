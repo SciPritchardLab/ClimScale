{
 "cells": [
  {
   "cell_type": "markdown",
   "id": "58b2d8f3-7121-4fc7-a767-2909a21a5ff0",
   "metadata": {},
   "source": [
    "# Import packages"
   ]
  },
  {
   "cell_type": "code",
   "execution_count": null,
   "id": "23e17ac0-08c2-4bd6-ba5f-f7536c551c84",
   "metadata": {},
   "outputs": [],
   "source": [
    "import xarray as xr\n",
    "import numpy as np\n",
    "import matplotlib.pyplot as plt\n",
    "import os\n",
    "import re\n",
    "from tqdm import tqdm\n",
    "from preprocessing_functions import *\n",
    "\n",
    "#optional\n",
    "import datetime"
   ]
  },
  {
   "cell_type": "markdown",
   "id": "beaf1b27-1be2-4cf2-8f39-ee67cc92e247",
   "metadata": {},
   "source": [
    "# Read data path"
   ]
  },
  {
   "cell_type": "code",
   "execution_count": null,
   "id": "3be300fd",
   "metadata": {},
   "outputs": [],
   "source": [
    "!pwd"
   ]
  },
  {
   "cell_type": "code",
   "execution_count": null,
   "id": "db9dd605-bf91-4d8e-b61e-7d1c5a91b8ce",
   "metadata": {},
   "outputs": [],
   "source": [
    "def checktime():\n",
    "    print(datetime.datetime.now()) \n",
    "data_path = \"/ocean/projects/atm200007p/jlin96/longSPrun_o3/\"\n",
    "save_path = \"../offlinetesteval/testing_data/\""
   ]
  },
  {
   "attachments": {},
   "cell_type": "markdown",
   "id": "de656264-ec58-4e24-9d84-cd22c02fb7c9",
   "metadata": {},
   "source": [
    "# Load testing input"
   ]
  },
  {
   "cell_type": "code",
   "execution_count": null,
   "id": "385e11d9-f305-4c55-8740-8d45e762d1ba",
   "metadata": {},
   "outputs": [],
   "source": [
    "spData_test_input = combine_arrays(make_nn_input(load_data(month = 9, year = 1, data_path = data_path), family = \"relative\", subsample = False))\n",
    "print(spData_test_input.shape)"
   ]
  },
  {
   "attachments": {},
   "cell_type": "markdown",
   "id": "4ac1c98f-2eeb-4fa0-b3c1-eeffa413d378",
   "metadata": {},
   "source": [
    "# Subset testing input"
   ]
  },
  {
   "cell_type": "code",
   "execution_count": null,
   "id": "257bed75-f863-4644-b2a8-ed6ed5b8e390",
   "metadata": {},
   "outputs": [],
   "source": [
    "test_input = spData_test_input[:,0:336,:,:]\n",
    "print(test_input.shape)"
   ]
  },
  {
   "attachments": {},
   "cell_type": "markdown",
   "id": "ee467fa8",
   "metadata": {},
   "source": [
    "# Save testing input"
   ]
  },
  {
   "cell_type": "code",
   "execution_count": null,
   "id": "b2cec114",
   "metadata": {},
   "outputs": [],
   "source": [
    "with open(save_path + \"test_input.npy\", 'wb') as f:\n",
    "    np.save(f, np.float32(test_input))"
   ]
  },
  {
   "cell_type": "code",
   "execution_count": null,
   "id": "85ef672a",
   "metadata": {},
   "outputs": [],
   "source": [
    "print(\"finished\")"
   ]
  }
 ],
 "metadata": {
  "kernelspec": {
   "display_name": "Python 3 (ipykernel)",
   "language": "python",
   "name": "python3"
  },
  "language_info": {
   "codemirror_mode": {
    "name": "ipython",
    "version": 3
   },
   "file_extension": ".py",
   "mimetype": "text/x-python",
   "name": "python",
   "nbconvert_exporter": "python",
   "pygments_lexer": "ipython3",
   "version": "3.6.8 (default, Apr 16 2020, 01:36:27) \n[GCC 8.3.1 20191121 (Red Hat 8.3.1-5)]"
  },
  "vscode": {
   "interpreter": {
    "hash": "916dbcbb3f70747c44a77c7bcd40155683ae19c65e1c03b4aa3499c5328201f1"
   }
  }
 },
 "nbformat": 4,
 "nbformat_minor": 5
}
