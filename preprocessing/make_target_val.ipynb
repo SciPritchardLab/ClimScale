{
 "cells": [
  {
   "cell_type": "markdown",
   "id": "b00c88cf-06d8-4242-be4b-d076397a5927",
   "metadata": {},
   "source": [
    "# Import packages"
   ]
  },
  {
   "cell_type": "code",
   "execution_count": null,
   "id": "23e17ac0-08c2-4bd6-ba5f-f7536c551c84",
   "metadata": {},
   "outputs": [],
   "source": [
    "import xarray as xr\n",
    "import numpy as np\n",
    "import matplotlib.pyplot as plt\n",
    "import os\n",
    "import re\n",
    "from tqdm import tqdm\n",
    "from preprocessing_functions import *\n",
    "\n",
    "#optional\n",
    "import datetime"
   ]
  },
  {
   "cell_type": "markdown",
   "id": "9ffb479c-8420-47a2-81a7-765b801026f4",
   "metadata": {},
   "source": [
    "# Read data path"
   ]
  },
  {
   "cell_type": "code",
   "execution_count": null,
   "id": "4a9001ef",
   "metadata": {},
   "outputs": [],
   "source": [
    "!pwd"
   ]
  },
  {
   "cell_type": "code",
   "execution_count": null,
   "id": "db9dd605-bf91-4d8e-b61e-7d1c5a91b8ce",
   "metadata": {},
   "outputs": [],
   "source": [
    "def checktime():\n",
    "    print(datetime.datetime.now()) \n",
    "data_path = \"/ocean/projects/atm200007p/jlin96/longSPrun_o3/\""
   ]
  },
  {
   "cell_type": "markdown",
   "id": "893ee59d-f541-4061-b1fd-ff68d96cc866",
   "metadata": {},
   "source": [
    "# Load, extract, and subsample training data"
   ]
  },
  {
   "cell_type": "code",
   "execution_count": null,
   "id": "385e11d9-f305-4c55-8740-8d45e762d1ba",
   "metadata": {},
   "outputs": [],
   "source": [
    "spData_val_target = combine_arrays(make_nn_target(load_data(month = 11, year = 1, data_path = data_path)), \\\n",
    "                                   make_nn_target(load_data(month = 12, year = 1, data_path = data_path)))\n",
    "print(spData_val_target.shape)"
   ]
  },
  {
   "cell_type": "markdown",
   "id": "a243bcf6-5a2d-4d79-8cdb-263817b5f39c",
   "metadata": {},
   "source": [
    "# Reshaping"
   ]
  },
  {
   "cell_type": "code",
   "execution_count": null,
   "id": "d55ba86c-7b52-4f05-9281-ab4c6f74f68c",
   "metadata": {},
   "outputs": [],
   "source": [
    "spData_val_target = reshape_target(spData_val_target)\n",
    "print(spData_val_target.shape)"
   ]
  },
  {
   "cell_type": "markdown",
   "id": "e5c8f6a2-8607-4903-859f-3094ef8b7e7f",
   "metadata": {},
   "source": [
    "# Create training data"
   ]
  },
  {
   "cell_type": "code",
   "execution_count": null,
   "id": "257bed75-f863-4644-b2a8-ed6ed5b8e390",
   "metadata": {},
   "outputs": [],
   "source": [
    "y_val = normalize_target_val(y_val = spData_val_target, save_files = True)"
   ]
  },
  {
   "cell_type": "code",
   "execution_count": null,
   "id": "6aa5ef31",
   "metadata": {},
   "outputs": [],
   "source": [
    "print(\"finished\")"
   ]
  }
 ],
 "metadata": {
  "kernelspec": {
   "display_name": "Python 3",
   "language": "python",
   "name": "python3"
  },
  "language_info": {
   "codemirror_mode": {
    "name": "ipython",
    "version": 3
   },
   "file_extension": ".py",
   "mimetype": "text/x-python",
   "name": "python",
   "nbconvert_exporter": "python",
   "pygments_lexer": "ipython3",
   "version": "3.6.8 (default, Apr 16 2020, 01:36:27) \n[GCC 8.3.1 20191121 (Red Hat 8.3.1-5)]"
  },
  "vscode": {
   "interpreter": {
    "hash": "916dbcbb3f70747c44a77c7bcd40155683ae19c65e1c03b4aa3499c5328201f1"
   }
  }
 },
 "nbformat": 4,
 "nbformat_minor": 5
}
