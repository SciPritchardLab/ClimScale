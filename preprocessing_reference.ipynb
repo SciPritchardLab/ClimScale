{
 "cells": [
  {
   "cell_type": "code",
   "execution_count": 1,
   "id": "23e17ac0-08c2-4bd6-ba5f-f7536c551c84",
   "metadata": {},
   "outputs": [],
   "source": [
    "import xarray as xr\n",
    "import numpy as np\n",
    "import matplotlib.pyplot as plt\n",
    "import os\n",
    "import re\n",
    "from tqdm import tqdm\n",
    "from preprocessing_functions import *\n",
    "\n",
    "#optional\n",
    "import datetime"
   ]
  },
  {
   "cell_type": "code",
   "execution_count": 2,
   "id": "db9dd605-bf91-4d8e-b61e-7d1c5a91b8ce",
   "metadata": {},
   "outputs": [],
   "source": [
    "def checktime():\n",
    "    print(datetime.datetime.now()) \n",
    "data_path = \"/ocean/projects/atm200007p/jlin96/longSPrun\"\n",
    "data_path = \"/ocean/projects/atm200007p/jlin96/nnSpreadTesting\""
   ]
  },
  {
   "cell_type": "code",
   "execution_count": 10,
   "id": "385e11d9-f305-4c55-8740-8d45e762d1ba",
   "metadata": {},
   "outputs": [
    {
     "name": "stdout",
     "output_type": "stream",
     "text": [
      "2022-09-14 22:05:04.404137\n",
      "Specific train input\n",
      "loaded in data\n",
      "starting for loop\n"
     ]
    },
    {
     "name": "stderr",
     "output_type": "stream",
     "text": [
      "100%|███████████████████████████████████████████████████████████████████████████████████████████████████████████████| 64/64 [00:09<00:00,  6.44it/s]\n"
     ]
    },
    {
     "name": "stdout",
     "output_type": "stream",
     "text": [
      "nntbp\n",
      "(30, 95, 64, 128)\n",
      "nnqbp\n",
      "(30, 95, 64, 128)\n",
      "lhflx\n",
      "(1, 95, 64, 128)\n",
      "shflx\n",
      "(1, 95, 64, 128)\n",
      "ps\n",
      "(1, 95, 64, 128)\n",
      "solin\n",
      "(1, 95, 64, 128)\n",
      "newhum\n",
      "(30, 95, 64, 128)\n",
      "oldhum\n",
      "(30, 95, 64, 128)\n",
      "nnInput\n",
      "Mean relative humidity conversion error: 0.004306316542046753\n",
      "Variance for relative humidity conversion error: 0.00047256325775141874\n",
      "nntbp.shape: (30, 95, 64, 128)\n",
      "nnqbp.shape: (30, 95, 64, 128)\n",
      "lhflx.shape: (1, 95, 64, 128)\n",
      "shflx.shape: (1, 95, 64, 128)\n",
      "ps.shape: (1, 95, 64, 128)\n",
      "solin.shape: (1, 95, 64, 128)\n",
      "newhum.shape: (30, 95, 64, 128)\n",
      "oldhum.shape: (30, 95, 64, 128)\n",
      "nnInput.shape: (64, 95, 64, 128)\n",
      "\n",
      "loaded in data\n",
      "starting for loop\n"
     ]
    },
    {
     "name": "stderr",
     "output_type": "stream",
     "text": [
      "100%|███████████████████████████████████████████████████████████████████████████████████████████████████████████████| 64/64 [00:09<00:00,  6.53it/s]\n"
     ]
    },
    {
     "name": "stdout",
     "output_type": "stream",
     "text": [
      "nntbp\n",
      "(30, 95, 64, 128)\n",
      "nnqbp\n",
      "(30, 95, 64, 128)\n",
      "lhflx\n",
      "(1, 95, 64, 128)\n",
      "shflx\n",
      "(1, 95, 64, 128)\n",
      "ps\n",
      "(1, 95, 64, 128)\n",
      "solin\n",
      "(1, 95, 64, 128)\n",
      "newhum\n",
      "(30, 95, 64, 128)\n",
      "oldhum\n",
      "(30, 95, 64, 128)\n",
      "nnInput\n",
      "Mean relative humidity conversion error: 0.004173750665486705\n",
      "Variance for relative humidity conversion error: 0.00046795431974611183\n",
      "nntbp.shape: (30, 95, 64, 128)\n",
      "nnqbp.shape: (30, 95, 64, 128)\n",
      "lhflx.shape: (1, 95, 64, 128)\n",
      "shflx.shape: (1, 95, 64, 128)\n",
      "ps.shape: (1, 95, 64, 128)\n",
      "solin.shape: (1, 95, 64, 128)\n",
      "newhum.shape: (30, 95, 64, 128)\n",
      "oldhum.shape: (30, 95, 64, 128)\n",
      "nnInput.shape: (64, 95, 64, 128)\n",
      "\n",
      "2022-09-14 22:06:41.667576\n",
      "specific train target\n",
      "tphystnd\n",
      "(30, 95, 64, 128)\n",
      "phq\n",
      "(30, 95, 64, 128)\n",
      "nnTarget\n",
      "tphystnd\n",
      "(30, 95, 64, 128)\n",
      "phq\n",
      "(30, 95, 64, 128)\n",
      "nnTarget\n",
      "2022-09-14 22:07:12.951837\n",
      "specific val input\n",
      "loaded in data\n",
      "starting for loop\n"
     ]
    },
    {
     "name": "stderr",
     "output_type": "stream",
     "text": [
      "100%|███████████████████████████████████████████████████████████████████████████████████████████████████████████████| 64/64 [00:19<00:00,  3.34it/s]\n"
     ]
    },
    {
     "name": "stdout",
     "output_type": "stream",
     "text": [
      "nntbp\n",
      "(30, 95, 64, 128)\n",
      "nnqbp\n",
      "(30, 95, 64, 128)\n",
      "lhflx\n",
      "(1, 95, 64, 128)\n",
      "shflx\n",
      "(1, 95, 64, 128)\n",
      "ps\n",
      "(1, 95, 64, 128)\n",
      "solin\n",
      "(1, 95, 64, 128)\n",
      "newhum\n",
      "(30, 95, 64, 128)\n",
      "oldhum\n",
      "(30, 95, 64, 128)\n",
      "nnInput\n",
      "Mean relative humidity conversion error: 0.004654902123604735\n",
      "Variance for relative humidity conversion error: 0.0005216472767172364\n",
      "nntbp.shape: (30, 95, 64, 128)\n",
      "nnqbp.shape: (30, 95, 64, 128)\n",
      "lhflx.shape: (1, 95, 64, 128)\n",
      "shflx.shape: (1, 95, 64, 128)\n",
      "ps.shape: (1, 95, 64, 128)\n",
      "solin.shape: (1, 95, 64, 128)\n",
      "newhum.shape: (30, 95, 64, 128)\n",
      "oldhum.shape: (30, 95, 64, 128)\n",
      "nnInput.shape: (64, 95, 64, 128)\n",
      "\n",
      "loaded in data\n",
      "starting for loop\n"
     ]
    },
    {
     "name": "stderr",
     "output_type": "stream",
     "text": [
      "100%|███████████████████████████████████████████████████████████████████████████████████████████████████████████████| 64/64 [00:09<00:00,  6.66it/s]\n"
     ]
    },
    {
     "name": "stdout",
     "output_type": "stream",
     "text": [
      "nntbp\n",
      "(30, 95, 64, 128)\n",
      "nnqbp\n",
      "(30, 95, 64, 128)\n",
      "lhflx\n",
      "(1, 95, 64, 128)\n",
      "shflx\n",
      "(1, 95, 64, 128)\n",
      "ps\n",
      "(1, 95, 64, 128)\n",
      "solin\n",
      "(1, 95, 64, 128)\n",
      "newhum\n",
      "(30, 95, 64, 128)\n",
      "oldhum\n",
      "(30, 95, 64, 128)\n",
      "nnInput\n",
      "Mean relative humidity conversion error: 0.0046506731845731225\n",
      "Variance for relative humidity conversion error: 0.0005447334818019952\n",
      "nntbp.shape: (30, 95, 64, 128)\n",
      "nnqbp.shape: (30, 95, 64, 128)\n",
      "lhflx.shape: (1, 95, 64, 128)\n",
      "shflx.shape: (1, 95, 64, 128)\n",
      "ps.shape: (1, 95, 64, 128)\n",
      "solin.shape: (1, 95, 64, 128)\n",
      "newhum.shape: (30, 95, 64, 128)\n",
      "oldhum.shape: (30, 95, 64, 128)\n",
      "nnInput.shape: (64, 95, 64, 128)\n",
      "\n",
      "2022-09-14 22:08:54.682315\n",
      "specific val target\n",
      "tphystnd\n",
      "(30, 95, 64, 128)\n",
      "phq\n",
      "(30, 95, 64, 128)\n",
      "nnTarget\n",
      "tphystnd\n",
      "(30, 95, 64, 128)\n",
      "phq\n",
      "(30, 95, 64, 128)\n",
      "nnTarget\n",
      "2022-09-14 22:09:24.736998\n",
      "relative train input\n",
      "loaded in data\n",
      "starting for loop\n"
     ]
    },
    {
     "name": "stderr",
     "output_type": "stream",
     "text": [
      "100%|███████████████████████████████████████████████████████████████████████████████████████████████████████████████| 64/64 [00:09<00:00,  6.48it/s]\n"
     ]
    },
    {
     "name": "stdout",
     "output_type": "stream",
     "text": [
      "nntbp\n",
      "(30, 95, 64, 128)\n",
      "nnqbp\n",
      "(30, 95, 64, 128)\n",
      "lhflx\n",
      "(1, 95, 64, 128)\n",
      "shflx\n",
      "(1, 95, 64, 128)\n",
      "ps\n",
      "(1, 95, 64, 128)\n",
      "solin\n",
      "(1, 95, 64, 128)\n",
      "newhum\n",
      "(30, 95, 64, 128)\n",
      "oldhum\n",
      "(30, 95, 64, 128)\n",
      "nnInput\n",
      "Mean relative humidity conversion error: 0.004306316542046753\n",
      "Variance for relative humidity conversion error: 0.00047256325775141874\n",
      "nntbp.shape: (30, 95, 64, 128)\n",
      "nnqbp.shape: (30, 95, 64, 128)\n",
      "lhflx.shape: (1, 95, 64, 128)\n",
      "shflx.shape: (1, 95, 64, 128)\n",
      "ps.shape: (1, 95, 64, 128)\n",
      "solin.shape: (1, 95, 64, 128)\n",
      "newhum.shape: (30, 95, 64, 128)\n",
      "oldhum.shape: (30, 95, 64, 128)\n",
      "nnInput.shape: (64, 95, 64, 128)\n",
      "\n",
      "loaded in data\n",
      "starting for loop\n"
     ]
    },
    {
     "name": "stderr",
     "output_type": "stream",
     "text": [
      "100%|███████████████████████████████████████████████████████████████████████████████████████████████████████████████| 64/64 [00:09<00:00,  6.55it/s]\n"
     ]
    },
    {
     "name": "stdout",
     "output_type": "stream",
     "text": [
      "nntbp\n",
      "(30, 95, 64, 128)\n",
      "nnqbp\n",
      "(30, 95, 64, 128)\n",
      "lhflx\n",
      "(1, 95, 64, 128)\n",
      "shflx\n",
      "(1, 95, 64, 128)\n",
      "ps\n",
      "(1, 95, 64, 128)\n",
      "solin\n",
      "(1, 95, 64, 128)\n",
      "newhum\n",
      "(30, 95, 64, 128)\n",
      "oldhum\n",
      "(30, 95, 64, 128)\n",
      "nnInput\n",
      "Mean relative humidity conversion error: 0.004173750665486705\n",
      "Variance for relative humidity conversion error: 0.00046795431974611183\n",
      "nntbp.shape: (30, 95, 64, 128)\n",
      "nnqbp.shape: (30, 95, 64, 128)\n",
      "lhflx.shape: (1, 95, 64, 128)\n",
      "shflx.shape: (1, 95, 64, 128)\n",
      "ps.shape: (1, 95, 64, 128)\n",
      "solin.shape: (1, 95, 64, 128)\n",
      "newhum.shape: (30, 95, 64, 128)\n",
      "oldhum.shape: (30, 95, 64, 128)\n",
      "nnInput.shape: (64, 95, 64, 128)\n",
      "\n",
      "2022-09-14 22:10:54.558720\n",
      "relative train target\n",
      "loaded in data\n",
      "starting for loop\n"
     ]
    },
    {
     "name": "stderr",
     "output_type": "stream",
     "text": [
      "100%|███████████████████████████████████████████████████████████████████████████████████████████████████████████████| 64/64 [00:09<00:00,  6.61it/s]\n"
     ]
    },
    {
     "name": "stdout",
     "output_type": "stream",
     "text": [
      "nntbp\n",
      "(30, 95, 64, 128)\n",
      "nnqbp\n",
      "(30, 95, 64, 128)\n",
      "lhflx\n",
      "(1, 95, 64, 128)\n",
      "shflx\n",
      "(1, 95, 64, 128)\n",
      "ps\n",
      "(1, 95, 64, 128)\n",
      "solin\n",
      "(1, 95, 64, 128)\n",
      "newhum\n",
      "(30, 95, 64, 128)\n",
      "oldhum\n",
      "(30, 95, 64, 128)\n",
      "nnInput\n",
      "Mean relative humidity conversion error: 0.004306316542046753\n",
      "Variance for relative humidity conversion error: 0.00047256325775141874\n",
      "nntbp.shape: (30, 95, 64, 128)\n",
      "nnqbp.shape: (30, 95, 64, 128)\n",
      "lhflx.shape: (1, 95, 64, 128)\n",
      "shflx.shape: (1, 95, 64, 128)\n",
      "ps.shape: (1, 95, 64, 128)\n",
      "solin.shape: (1, 95, 64, 128)\n",
      "newhum.shape: (30, 95, 64, 128)\n",
      "oldhum.shape: (30, 95, 64, 128)\n",
      "nnInput.shape: (64, 95, 64, 128)\n",
      "\n",
      "loaded in data\n",
      "starting for loop\n"
     ]
    },
    {
     "name": "stderr",
     "output_type": "stream",
     "text": [
      "100%|███████████████████████████████████████████████████████████████████████████████████████████████████████████████| 64/64 [00:09<00:00,  6.40it/s]\n"
     ]
    },
    {
     "name": "stdout",
     "output_type": "stream",
     "text": [
      "nntbp\n",
      "(30, 95, 64, 128)\n",
      "nnqbp\n",
      "(30, 95, 64, 128)\n",
      "lhflx\n",
      "(1, 95, 64, 128)\n",
      "shflx\n",
      "(1, 95, 64, 128)\n",
      "ps\n",
      "(1, 95, 64, 128)\n",
      "solin\n",
      "(1, 95, 64, 128)\n",
      "newhum\n",
      "(30, 95, 64, 128)\n",
      "oldhum\n",
      "(30, 95, 64, 128)\n",
      "nnInput\n",
      "Mean relative humidity conversion error: 0.004173750665486705\n",
      "Variance for relative humidity conversion error: 0.00046795431974611183\n",
      "nntbp.shape: (30, 95, 64, 128)\n",
      "nnqbp.shape: (30, 95, 64, 128)\n",
      "lhflx.shape: (1, 95, 64, 128)\n",
      "shflx.shape: (1, 95, 64, 128)\n",
      "ps.shape: (1, 95, 64, 128)\n",
      "solin.shape: (1, 95, 64, 128)\n",
      "newhum.shape: (30, 95, 64, 128)\n",
      "oldhum.shape: (30, 95, 64, 128)\n",
      "nnInput.shape: (64, 95, 64, 128)\n",
      "\n",
      "2022-09-14 22:12:21.686975\n",
      "relative val input\n",
      "loaded in data\n",
      "starting for loop\n"
     ]
    },
    {
     "name": "stderr",
     "output_type": "stream",
     "text": [
      "100%|███████████████████████████████████████████████████████████████████████████████████████████████████████████████| 64/64 [00:12<00:00,  5.31it/s]\n"
     ]
    },
    {
     "name": "stdout",
     "output_type": "stream",
     "text": [
      "nntbp\n",
      "(30, 95, 64, 128)\n",
      "nnqbp\n",
      "(30, 95, 64, 128)\n",
      "lhflx\n",
      "(1, 95, 64, 128)\n",
      "shflx\n",
      "(1, 95, 64, 128)\n",
      "ps\n",
      "(1, 95, 64, 128)\n",
      "solin\n",
      "(1, 95, 64, 128)\n",
      "newhum\n",
      "(30, 95, 64, 128)\n",
      "oldhum\n",
      "(30, 95, 64, 128)\n",
      "nnInput\n",
      "Mean relative humidity conversion error: 0.004654902123604735\n",
      "Variance for relative humidity conversion error: 0.0005216472767172364\n",
      "nntbp.shape: (30, 95, 64, 128)\n",
      "nnqbp.shape: (30, 95, 64, 128)\n",
      "lhflx.shape: (1, 95, 64, 128)\n",
      "shflx.shape: (1, 95, 64, 128)\n",
      "ps.shape: (1, 95, 64, 128)\n",
      "solin.shape: (1, 95, 64, 128)\n",
      "newhum.shape: (30, 95, 64, 128)\n",
      "oldhum.shape: (30, 95, 64, 128)\n",
      "nnInput.shape: (64, 95, 64, 128)\n",
      "\n",
      "loaded in data\n",
      "starting for loop\n"
     ]
    },
    {
     "name": "stderr",
     "output_type": "stream",
     "text": [
      "100%|███████████████████████████████████████████████████████████████████████████████████████████████████████████████| 64/64 [00:11<00:00,  5.77it/s]\n"
     ]
    },
    {
     "name": "stdout",
     "output_type": "stream",
     "text": [
      "nntbp\n",
      "(30, 95, 64, 128)\n",
      "nnqbp\n",
      "(30, 95, 64, 128)\n",
      "lhflx\n",
      "(1, 95, 64, 128)\n",
      "shflx\n",
      "(1, 95, 64, 128)\n",
      "ps\n",
      "(1, 95, 64, 128)\n",
      "solin\n",
      "(1, 95, 64, 128)\n",
      "newhum\n",
      "(30, 95, 64, 128)\n",
      "oldhum\n",
      "(30, 95, 64, 128)\n",
      "nnInput\n",
      "Mean relative humidity conversion error: 0.0046506731845731225\n",
      "Variance for relative humidity conversion error: 0.0005447334818019952\n",
      "nntbp.shape: (30, 95, 64, 128)\n",
      "nnqbp.shape: (30, 95, 64, 128)\n",
      "lhflx.shape: (1, 95, 64, 128)\n",
      "shflx.shape: (1, 95, 64, 128)\n",
      "ps.shape: (1, 95, 64, 128)\n",
      "solin.shape: (1, 95, 64, 128)\n",
      "newhum.shape: (30, 95, 64, 128)\n",
      "oldhum.shape: (30, 95, 64, 128)\n",
      "nnInput.shape: (64, 95, 64, 128)\n",
      "\n",
      "2022-09-14 22:13:53.858293\n",
      "relative val target\n",
      "loaded in data\n",
      "starting for loop\n"
     ]
    },
    {
     "name": "stderr",
     "output_type": "stream",
     "text": [
      "100%|███████████████████████████████████████████████████████████████████████████████████████████████████████████████| 64/64 [00:09<00:00,  6.42it/s]\n"
     ]
    },
    {
     "name": "stdout",
     "output_type": "stream",
     "text": [
      "nntbp\n",
      "(30, 95, 64, 128)\n",
      "nnqbp\n",
      "(30, 95, 64, 128)\n",
      "lhflx\n",
      "(1, 95, 64, 128)\n",
      "shflx\n",
      "(1, 95, 64, 128)\n",
      "ps\n",
      "(1, 95, 64, 128)\n",
      "solin\n",
      "(1, 95, 64, 128)\n",
      "newhum\n",
      "(30, 95, 64, 128)\n",
      "oldhum\n",
      "(30, 95, 64, 128)\n",
      "nnInput\n",
      "Mean relative humidity conversion error: 0.004654902123604735\n",
      "Variance for relative humidity conversion error: 0.0005216472767172364\n",
      "nntbp.shape: (30, 95, 64, 128)\n",
      "nnqbp.shape: (30, 95, 64, 128)\n",
      "lhflx.shape: (1, 95, 64, 128)\n",
      "shflx.shape: (1, 95, 64, 128)\n",
      "ps.shape: (1, 95, 64, 128)\n",
      "solin.shape: (1, 95, 64, 128)\n",
      "newhum.shape: (30, 95, 64, 128)\n",
      "oldhum.shape: (30, 95, 64, 128)\n",
      "nnInput.shape: (64, 95, 64, 128)\n",
      "\n",
      "loaded in data\n",
      "starting for loop\n"
     ]
    },
    {
     "name": "stderr",
     "output_type": "stream",
     "text": [
      "100%|███████████████████████████████████████████████████████████████████████████████████████████████████████████████| 64/64 [00:52<00:00,  1.22it/s]\n"
     ]
    },
    {
     "name": "stdout",
     "output_type": "stream",
     "text": [
      "nntbp\n",
      "(30, 95, 64, 128)\n",
      "nnqbp\n",
      "(30, 95, 64, 128)\n",
      "lhflx\n",
      "(1, 95, 64, 128)\n",
      "shflx\n",
      "(1, 95, 64, 128)\n",
      "ps\n",
      "(1, 95, 64, 128)\n",
      "solin\n",
      "(1, 95, 64, 128)\n",
      "newhum\n",
      "(30, 95, 64, 128)\n",
      "oldhum\n",
      "(30, 95, 64, 128)\n",
      "nnInput\n",
      "Mean relative humidity conversion error: 0.0046506731845731225\n",
      "Variance for relative humidity conversion error: 0.0005447334818019952\n",
      "nntbp.shape: (30, 95, 64, 128)\n",
      "nnqbp.shape: (30, 95, 64, 128)\n",
      "lhflx.shape: (1, 95, 64, 128)\n",
      "shflx.shape: (1, 95, 64, 128)\n",
      "ps.shape: (1, 95, 64, 128)\n",
      "solin.shape: (1, 95, 64, 128)\n",
      "newhum.shape: (30, 95, 64, 128)\n",
      "oldhum.shape: (30, 95, 64, 128)\n",
      "nnInput.shape: (64, 95, 64, 128)\n",
      "\n"
     ]
    }
   ],
   "source": [
    "checktime()\n",
    "print(\"Specific train input\")\n",
    "\n",
    "spData_Q_train_input_1 = make_nn_input(load_data(month = 10, year = 0, data_path = data_path), family = \"specific\")\n",
    "spData_Q_train_input_2 = make_nn_input(load_data(month = 11, year = 0, data_path = data_path), family = \"specific\")\n",
    "\n",
    "checktime()\n",
    "print(\"specific train target\")\n",
    "\n",
    "spData_Q_train_target_1 = make_nn_target(load_data(month = 10, year = 0, data_path = data_path), family = \"specific\")\n",
    "spData_Q_train_target_2 = make_nn_target(load_data(month = 11, year = 0, data_path = data_path), family = \"specific\")\n",
    "\n",
    "checktime()\n",
    "print(\"specific val input\")\n",
    "\n",
    "spData_Q_val_input_1 = make_nn_input(load_data(month = 10, year = 1, data_path = data_path), family = \"specific\")\n",
    "spData_Q_val_input_2 = make_nn_input(load_data(month = 11, year = 1, data_path = data_path), family = \"specific\")\n",
    "\n",
    "checktime()\n",
    "print(\"specific val target\")\n",
    "\n",
    "spData_Q_val_target_1 = make_nn_target(load_data(month = 10, year = 1, data_path = data_path), family = \"specific\")\n",
    "spData_Q_val_target_2 = make_nn_target(load_data(month = 11, year = 1, data_path = data_path), family = \"specific\")\n",
    "\n",
    "checktime()\n",
    "print(\"relative train input\")\n",
    "\n",
    "spData_R_train_input_1 = make_nn_input(load_data(month = 10, year = 0, data_path = data_path), family = \"relative\")\n",
    "spData_R_train_input_2 = make_nn_input(load_data(month = 11, year = 0, data_path = data_path), family = \"relative\")\n",
    "\n",
    "checktime()\n",
    "print(\"relative train target\")\n",
    "\n",
    "spData_R_train_target_1 = make_nn_input(load_data(month = 10, year = 0, data_path = data_path), family = \"relative\")\n",
    "spData_R_train_target_2 = make_nn_input(load_data(month = 11, year = 0, data_path = data_path), family = \"relative\")\n",
    "\n",
    "checktime()\n",
    "print(\"relative val input\")\n",
    "\n",
    "spData_R_val_input_1 = make_nn_input(load_data(month = 10, year = 1, data_path = data_path), family = \"relative\")\n",
    "spData_R_val_input_2 = make_nn_input(load_data(month = 11, year = 1, data_path = data_path), family = \"relative\")\n",
    "\n",
    "checktime()\n",
    "print(\"relative val target\")\n",
    "\n",
    "spData_R_val_target_1 = make_nn_input(load_data(month = 10, year = 1, data_path = data_path), family = \"relative\")\n",
    "spData_R_val_target_2 = make_nn_input(load_data(month = 11, year = 1, data_path = data_path), family = \"relative\")\n"
   ]
  },
  {
   "cell_type": "code",
   "execution_count": 11,
   "id": "aea2226a-6a34-41fb-b1dc-c93dd20821a9",
   "metadata": {},
   "outputs": [],
   "source": [
    "#specific train\n",
    "spData_Q_train_input = combine_arrays(spData_Q_train_input_1, \\\n",
    "                                      spData_Q_train_input_2)\n",
    "spData_Q_train_target = combine_arrays(spData_Q_train_target_1, \\\n",
    "                                       spData_Q_train_target_2)\n",
    "\n",
    "#specific val\n",
    "spData_Q_val_input = combine_arrays(spData_Q_val_input_1, \\\n",
    "                                    spData_Q_val_input_2)\n",
    "spData_Q_val_target = combine_arrays(spData_Q_val_target_1, \\\n",
    "                                    spData_Q_val_target_2)\n",
    "\n",
    "#relative train\n",
    "spData_R_train_input = combine_arrays(spData_R_train_input_1, \\\n",
    "                                    spData_R_train_input_2)\n",
    "spData_R_train_target = combine_arrays(spData_R_train_target_1, \\\n",
    "                                    spData_R_train_target_2)\n",
    "\n",
    "#relative val\n",
    "spData_R_val_input = combine_arrays(spData_R_val_input_1, \\\n",
    "                                    spData_R_val_input_2)\n",
    "spData_R_val_target = combine_arrays(spData_R_val_target_1, \\\n",
    "                                    spData_R_val_target_2)\n"
   ]
  },
  {
   "cell_type": "code",
   "execution_count": 12,
   "id": "d55ba86c-7b52-4f05-9281-ab4c6f74f68c",
   "metadata": {},
   "outputs": [
    {
     "ename": "NameError",
     "evalue": "name 'sampleIndices' is not defined",
     "output_type": "error",
     "traceback": [
      "\u001b[0;31m---------------------------------------------------------------------------\u001b[0m",
      "\u001b[0;31mNameError\u001b[0m                                 Traceback (most recent call last)",
      "Input \u001b[0;32mIn [12]\u001b[0m, in \u001b[0;36m<cell line: 1>\u001b[0;34m()\u001b[0m\n\u001b[0;32m----> 1\u001b[0m spData_Q_train_input \u001b[38;5;241m=\u001b[39m \u001b[43mreshape_input\u001b[49m\u001b[43m(\u001b[49m\u001b[43mspData_Q_train_input\u001b[49m\u001b[43m,\u001b[49m\u001b[43m \u001b[49m\u001b[43msubsample\u001b[49m\u001b[43m \u001b[49m\u001b[38;5;241;43m=\u001b[39;49m\u001b[43m \u001b[49m\u001b[38;5;28;43;01mTrue\u001b[39;49;00m\u001b[43m)\u001b[49m\n\u001b[1;32m      2\u001b[0m spData_Q_train_target \u001b[38;5;241m=\u001b[39m reshape_target(spData_Q_train_target, subsample \u001b[38;5;241m=\u001b[39m \u001b[38;5;28;01mTrue\u001b[39;00m)\n\u001b[1;32m      4\u001b[0m spData_Q_val_input \u001b[38;5;241m=\u001b[39m reshape_input(spData_Q_val_input, subsample \u001b[38;5;241m=\u001b[39m \u001b[38;5;28;01mTrue\u001b[39;00m)\n",
      "File \u001b[0;32m/ocean/projects/atm200007p/jlin96/nnSpreadTesting/preprocessing_functions.py:206\u001b[0m, in \u001b[0;36mreshape_input\u001b[0;34m(nnData, subsample, spacing)\u001b[0m\n\u001b[1;32m    204\u001b[0m \u001b[38;5;28;01mdef\u001b[39;00m \u001b[38;5;21mreshape_input\u001b[39m(nnData, subsample \u001b[38;5;241m=\u001b[39m \u001b[38;5;28;01mFalse\u001b[39;00m, spacing \u001b[38;5;241m=\u001b[39m \u001b[38;5;241m5\u001b[39m):\n\u001b[1;32m    205\u001b[0m     \u001b[38;5;28;01mif\u001b[39;00m subsample:\n\u001b[0;32m--> 206\u001b[0m         nnData \u001b[38;5;241m=\u001b[39m nnData[:,:,:,\u001b[43msampleIndices\u001b[49m(nnData\u001b[38;5;241m.\u001b[39mshape[\u001b[38;5;241m3\u001b[39m], spacing, \u001b[38;5;28;01mTrue\u001b[39;00m)]\n\u001b[1;32m    207\u001b[0m     nnData \u001b[38;5;241m=\u001b[39m nnData\u001b[38;5;241m.\u001b[39mravel(order \u001b[38;5;241m=\u001b[39m \u001b[38;5;124m'\u001b[39m\u001b[38;5;124mF\u001b[39m\u001b[38;5;124m'\u001b[39m)\u001b[38;5;241m.\u001b[39mreshape(\u001b[38;5;241m64\u001b[39m,\u001b[38;5;241m-\u001b[39m\u001b[38;5;241m1\u001b[39m,order \u001b[38;5;241m=\u001b[39m \u001b[38;5;124m'\u001b[39m\u001b[38;5;124mF\u001b[39m\u001b[38;5;124m'\u001b[39m)\n\u001b[1;32m    208\u001b[0m     \u001b[38;5;28;01mreturn\u001b[39;00m nnData\n",
      "\u001b[0;31mNameError\u001b[0m: name 'sampleIndices' is not defined"
     ]
    }
   ],
   "source": [
    "spData_Q_train_input = reshape_input(spData_Q_train_input, subsample = True)\n",
    "spData_Q_train_target = reshape_target(spData_Q_train_target, subsample = True)\n",
    "\n",
    "spData_Q_val_input = reshape_input(spData_Q_val_input, subsample = True)\n",
    "spData_Q_val_target = reshape_input(spData_Q_val_target, subsample = True)\n",
    "\n",
    "spData_R_train_input = reshape_input(spData_R_train_input, subsample = True)\n",
    "spData_R_train_target = reshape_target(spData_R_train_target, subsample = True)\n",
    "\n",
    "spData_R_val_input = reshape_input(spData_R_val_input, subsample = True)\n",
    "spData_R_val_target = reshape_target(spData_val_target, subsample = True)\n",
    "\n"
   ]
  },
  {
   "cell_type": "code",
   "execution_count": 13,
   "id": "257bed75-f863-4644-b2a8-ed6ed5b8e390",
   "metadata": {},
   "outputs": [
    {
     "data": {
      "text/plain": [
       "datetime.datetime(2022, 9, 14, 21, 9, 38, 657355)"
      ]
     },
     "execution_count": 13,
     "metadata": {},
     "output_type": "execute_result"
    }
   ],
   "source": [
    "Q_X_train, Q_inpsub, Q_inpdiv = normalize_input_train(spData_Q_train_input)\n",
    "Q_X_val = normalize_input_val(spData_Q_val_input, Q_inpsub, Q_inpdiv)\n",
    "\n",
    "Q_y_train = normalize_target_train(spData_Q_train_target)\n"
   ]
  },
  {
   "cell_type": "code",
   "execution_count": 15,
   "id": "22ded0b4-5997-4daf-81f8-40c7e0ffec1f",
   "metadata": {},
   "outputs": [
    {
     "name": "stdout",
     "output_type": "stream",
     "text": [
      "2022-09-14 21:09:53.817827\n"
     ]
    }
   ],
   "source": []
  },
  {
   "cell_type": "code",
   "execution_count": null,
   "id": "436c7162-ec48-4fdb-843b-98dac0814c99",
   "metadata": {},
   "outputs": [],
   "source": []
  }
 ],
 "metadata": {
  "kernelspec": {
   "display_name": "Python 3 (ipykernel)",
   "language": "python",
   "name": "python3"
  },
  "language_info": {
   "codemirror_mode": {
    "name": "ipython",
    "version": 3
   },
   "file_extension": ".py",
   "mimetype": "text/x-python",
   "name": "python",
   "nbconvert_exporter": "python",
   "pygments_lexer": "ipython3",
   "version": "3.9.13"
  }
 },
 "nbformat": 4,
 "nbformat_minor": 5
}
